{
 "cells": [
  {
   "cell_type": "markdown",
   "metadata": {},
   "source": [
    "# Distributed Deep Q-Learning \n",
    "\n",
    "The goal of this assignment is to implement and experiment with both single-core and distributed versions of the deep reinforcement learning algorithm Deep Q Networks (DQN). In particular, DQN will be run in the classic RL benchmark Cart-Pole and abblation experiments will be run to observe the impact of the different DQN components. \n",
    "\n",
    "The relevant content about DQN can be found Q-Learning and SARSA are in the following course notes from CS533.\n",
    "\n",
    "https://oregonstate.instructure.com/courses/1719746/files/75047394/download?wrap=1\n",
    "\n",
    "The full pseudo-code for DQN is on slide 45 with prior slides introducing the individual components. \n",
    "\n",
    "\n",
    "## Recap of DQN \n",
    "\n",
    "From the course slides it can be seen that DQN is simply the standard table-based Q-learning algorithm but with three extensions:\n",
    "\n",
    "1) Use of function approximation via a neural network instead of a Q-table. \n",
    "2) Use of experience replay. \n",
    "3) Use of a target network. \n",
    "\n",
    "Extension (1) allows for scaling to problems with enormous state spaces, such as when the states correspond to images or sequences of images. Extensions (2) and (3) are claimed to improve the robustness and effectiveness of DQN compared. \n",
    "\n",
    "(2) adjusts Q-learning so that updates are not just performed on individual experiences as they arrive. But rather, experiences are stored in a memory buffer and updates are performed by sampling random mini-batches of experience tuples from the memory buffer and updating the network based on the mini-batch. This allows for reuse of experience as well as helping to reduce correlation between successive updates, which is claimed to be beneficial. \n",
    "\n",
    "(3) adjusts the way that target values are computed for the Q-learning updates. Let $Q_{\\theta}(s,a)$ be the function approximation network with parameters $\\theta$ for representing the Q-function. Given an experience tuple $(s, a, r, s')$ the origional Q-learning algorithm updates the parameters so that $Q_{\\theta}(s,a)$ moves closer to the target value: \n",
    "\\begin{equation}\n",
    "r + \\beta \\max_a' Q_{\\theta}(s',a') \n",
    "\\end{equation}\n",
    "Rather, DQN stores two function approximation networks. The first is the update network with parameters $\\theta$, which is the network that is continually updated during learning. The second is a target network with parameters $\\theta'$. Given the same experience tuple, DQN will update the parameters $\\theta$ so that $Q_{\\theta}(s,a)$ moves toward a target value based on the target network:\n",
    "\\begin{equation}\n",
    "r + \\beta \\max_a' Q_{\\theta'}(s',a') \n",
    "\\end{equation}\n",
    "Periodically the target network is updated with the most recent parameters $\\theta' \\leftarrow \\theta$. This use of a target network is claimed to stabilize learning.\n",
    "\n",
    "In the assignment you will get to see an example of the impact of both the target network and experience replay.\n",
    "\n",
    "Further reading about DQN and its application to learning to play Atari games can be found in the following paper. \n",
    "\n",
    "Mnih, V., Kavukcuoglu, K., Silver, D., Rusu, A.A., Veness, J., Bellemare, M.G., Graves, A., Riedmiller, M., Fidjeland, A.K., Ostrovski, G. and Petersen, S., 2015. Human-level control through deep reinforcement learning. Nature, 518(7540), p.529.\n",
    "https://oregonstate.instructure.com/courses/1719746/files/75234294/download?wrap=1"
   ]
  },
  {
   "cell_type": "code",
   "execution_count": 1,
   "metadata": {},
   "outputs": [],
   "source": [
    "#!pip install --user gym[Box2D]\n",
    "#!pip install --user torch\n",
    "#!pip install --user JSAnimation\n",
    "#!pip install --user matplotlib"
   ]
  },
  {
   "cell_type": "markdown",
   "metadata": {},
   "source": [
    "Install the packages for enviroment"
   ]
  },
  {
   "cell_type": "code",
   "execution_count": 2,
   "metadata": {},
   "outputs": [],
   "source": [
    "import gym\n",
    "import torch\n",
    "import time\n",
    "import os\n",
    "import ray\n",
    "import numpy as np\n",
    "\n",
    "from tqdm import tqdm\n",
    "from random import uniform, randint\n",
    "\n",
    "import io\n",
    "import base64\n",
    "from IPython.display import HTML\n",
    "\n",
    "from dqn_model import DQNModel\n",
    "from dqn_model import _DQNModel\n",
    "from memory import ReplayBuffer\n",
    "\n",
    "import matplotlib.pyplot as plt\n",
    "%matplotlib inline\n",
    "\n",
    "FloatTensor = torch.FloatTensor"
   ]
  },
  {
   "cell_type": "markdown",
   "metadata": {},
   "source": [
    "## Useful PyTorch functions"
   ]
  },
  {
   "cell_type": "markdown",
   "metadata": {},
   "source": [
    "### Tensors\n",
    "\n",
    "This assignment will use the PyTorch library for the required neural network functionality. You do not need to be familiar with the details of PyTorch or neural network training. However, the assignment will require dealing with data in the form of tensors.  \n",
    "\n",
    "The mini-batches used to train the PyTorch neural network is expected to be represented as a tensor matrix. The function `FloatTensor` can convert a list or NumPy matrix into a tensor matrix if needed. \n",
    "\n",
    "You can find more infomation here: https://pytorch.org/docs/stable/tensors.html"
   ]
  },
  {
   "cell_type": "code",
   "execution_count": 3,
   "metadata": {},
   "outputs": [
    {
     "name": "stdout",
     "output_type": "stream",
     "text": [
      "[[3, 2, 1], [6, 4, 5], [7, 8, 9]]\n",
      "<class 'torch.Tensor'>\n",
      "tensor([[3., 2., 1.],\n",
      "        [6., 4., 5.],\n",
      "        [7., 8., 9.]])\n"
     ]
    }
   ],
   "source": [
    "# list\n",
    "m = [[3,2,1],[6,4,5],[7,8,9]]\n",
    "print(m)\n",
    "\n",
    "# tensor matrix\n",
    "m_tensor = FloatTensor(m)\n",
    "print(type(m_tensor))\n",
    "print(m_tensor)"
   ]
  },
  {
   "cell_type": "markdown",
   "metadata": {},
   "source": [
    "### Tensor.max()\n",
    "Once you have a tenosr maxtrix, you can use torch.max(m_tensor, dim) to get the max value and max index corresponding to the dimension you choose.\n",
    "```\n",
    ">>> a = torch.randn(4, 4)\n",
    ">>> a\n",
    "tensor([[-1.2360, -0.2942, -0.1222,  0.8475],\n",
    "        [ 1.1949, -1.1127, -2.2379, -0.6702],\n",
    "        [ 1.5717, -0.9207,  0.1297, -1.8768],\n",
    "        [-0.6172,  1.0036, -0.6060, -0.2432]])\n",
    ">>> torch.max(a, 1)\n",
    "torch.return_types.max(values=tensor([0.8475, 1.1949, 1.5717, 1.0036]), indices=tensor([3, 0, 0, 1]))\n",
    "```\n",
    "You can find more infomation here: https://pytorch.org/docs/stable/torch.html#torch.max"
   ]
  },
  {
   "cell_type": "code",
   "execution_count": 5,
   "metadata": {},
   "outputs": [
    {
     "name": "stdout",
     "output_type": "stream",
     "text": [
      "tensor([7., 8., 9.]) tensor([2, 2, 2])\n"
     ]
    }
   ],
   "source": [
    "max_value, index = torch.max(m_tensor, dim = 0)\n",
    "print(max_value, index)"
   ]
  },
  {
   "cell_type": "markdown",
   "metadata": {},
   "source": [
    "## Initialize Environment\n",
    "### CartPole-v0:  \n",
    "CartPole is a classic control task that is often used as an introductory reinforcement learning benchmark. The environment involves controlling a 2d cart that can move in either the left or right direction on a frictionless track. A pole is attached to the cart via an unactuated joint. The system is controlled by applying a force of +1 or -1 to the cart. The pendulum starts upright, and the goal is to prevent it from falling over. A reward of +1 is provided for every timestep that the pole remains upright. The episode ends when the pole is more than 15 degrees from vertical, or the cart moves more than 2.4 units from the center.  \n",
    "(You can find more infomation by this Link: https://gym.openai.com/envs/CartPole-v0/)  \n",
    "  \n"
   ]
  },
  {
   "cell_type": "code",
   "execution_count": 7,
   "metadata": {},
   "outputs": [],
   "source": [
    "# Set the Env name and action space for CartPole\n",
    "ENV_NAME = 'CartPole-v0'\n",
    "# Move left, Move right\n",
    "ACTION_DICT = {\n",
    "    \"LEFT\": 0,\n",
    "    \"RIGHT\":1\n",
    "}\n",
    "# Register the environment\n",
    "env_CartPole = gym.make(ENV_NAME)"
   ]
  },
  {
   "cell_type": "code",
   "execution_count": 8,
   "metadata": {},
   "outputs": [],
   "source": [
    "# Set result saveing floder\n",
    "result_floder = ENV_NAME\n",
    "result_file = ENV_NAME + \"/results.txt\"\n",
    "if not os.path.isdir(result_floder):\n",
    "    os.mkdir(result_floder)"
   ]
  },
  {
   "cell_type": "markdown",
   "metadata": {},
   "source": [
    "## Helper Function\n",
    "Plot results."
   ]
  },
  {
   "cell_type": "code",
   "execution_count": 9,
   "metadata": {},
   "outputs": [],
   "source": [
    "def plot_result(total_rewards ,learning_num, legend):\n",
    "    print(\"\\nLearning Performance:\\n\")\n",
    "    episodes = []\n",
    "    for i in range(len(total_rewards)):\n",
    "        episodes.append(i * learning_num + 1)\n",
    "        \n",
    "    plt.figure(num = 1)\n",
    "    fig, ax = plt.subplots()\n",
    "    plt.plot(episodes, total_rewards)\n",
    "    plt.title('performance')\n",
    "    plt.legend(legend)\n",
    "    plt.xlabel(\"Episodes\")\n",
    "    plt.ylabel(\"total rewards\")\n",
    "    plt.show()"
   ]
  },
  {
   "cell_type": "markdown",
   "metadata": {},
   "source": [
    "## Hyperparams\n",
    "When function approximation is involves, especially neural networks, additional hyper parameters are inroduced and setting the parameters can require experience. Below is a list of the hyperparameters used in this assignment and values for the parameters that have worked well for a basic DQN implementation. You will adjust these values for particular parts of the assignment. For example, experiments that do not use the target network will set 'use_target_model' to False. \n",
    "\n",
    "You can find the more infomation about these hyperparameters in the notation of DQN_agent.init() function."
   ]
  },
  {
   "cell_type": "code",
   "execution_count": 10,
   "metadata": {},
   "outputs": [],
   "source": [
    "hyperparams_CartPole = {\n",
    "    'epsilon_decay_steps' : 100000, \n",
    "    'final_epsilon' : 0.1,\n",
    "    'batch_size' : 32, \n",
    "    'update_steps' : 10, \n",
    "    'memory_size' : 2000, \n",
    "    'beta' : 0.99, \n",
    "    'model_replace_freq' : 2000,\n",
    "    'learning_rate' : 0.0003,\n",
    "    'use_target_model': True\n",
    "}"
   ]
  },
  {
   "cell_type": "markdown",
   "metadata": {},
   "source": [
    "***\n",
    "# Part 1: Non-distributed DQN\n",
    "\n",
    "In this part, you will complete an implementation of DQN and run experiments on the CartPole environment from OpenAI Gym.  \n",
    "Note that OpenAI Gym has many other environments that use the same interface---so this experience will allow the curious student to easily explore these algorithms more widely. \n",
    "\n",
    "Below you need to fill in the missing code for the DQN implementation. \n",
    "\n",
    "The Run function below can then be used to generate learning curves. \n",
    "\n",
    "You should conduct the following experiments involving different features of DQN. \n",
    "\n",
    "1. DQN without a replay buffer and without a target network. This is just standard Q-learning with a function approximator.\n",
    "    The corresponding parameters are: memory_size = 1, update_steps = 1, batch_size = 1, use_target_model = False  \n",
    "    \n",
    "2. DQN without a replay buffer (but including the target network).   \n",
    "    The corresponding parameters are: memory_size = 1, update_steps = 1, batch_size = 1, use_target_model = True  \n",
    "\n",
    "3. DQN with a replay buffer, but without a target network.   \n",
    "    Here you set use_target_model = False and otherwise set the replay memory parameters to the above suggested values \n",
    "   \n",
    "4. Full DQN\n",
    "\n",
    "For each experiment, record the parameters that you used, plot the resulting learning curves, and give a summary of your observations regarding the differences you observed. \n",
    "***\n"
   ]
  },
  {
   "cell_type": "markdown",
   "metadata": {},
   "source": [
    "\n",
    "## DQN Agent\n",
    "\n",
    "The full DQN agent involves a number of functions, the neural network, and the replay memory. Interfaces to a neural network model and memory are provided. \n",
    "\n",
    "Some useful information is below:   \n",
    "- Neural Network Model: The network is used to represent the Q-function $Q(s,a)$. It takes a state $s$ as input and returns a vector of Q-values, one value for each action. The following interface functions are used for predicting Q-values, actions, and updating the neural network model parameters. \n",
    "    1. Model.predict(state) --- Returns the action that has the best Q-value in 'state'.\n",
    "    2. Model.predict_batch(states) --- This is used to predict both the Q-values and best actions for a batch of states. Given a batch of states, the function returns: 1) 'best_actions' a vector containing the best action for each input state, and 2) 'q_values' a matrix where each row gives the Q-value for all actions of each state (one row per state).   \n",
    "    3. Model.fit(q_values, q_target) --- It is used to update the neural network (via back-propagation). 'q_values' is a vector containing the Q-value predictions for a list of state-action pairs (e.g. from a batch of experience tuples). 'q_target' is a vector containing target values that we would like the correspoinding predictions to get closer to. This function updates the network in a way that the network predictions will ideally be closer to the targets. There is no return value.  \n",
    "    4. Model.replace(another_model) --- It takes another model as input, and replace the weight of itself by the input model.\n",
    "- Memory: This is the buffer used to store experience tuples for experience replay.\n",
    "    1. Memory.add(state, action, reward, state', is_terminal) --- It takes one example as input, and store it into its storage.  \n",
    "    2. Memory.sample(batch_size) --- It takes a batch_size int number as input. Return 'batch_size' number of randomly selected examples from the current memory buffer. The batch takes the form (states, actions, rewards, states', is_terminals) with each component being a vector/list of size equal to batch_size. "
   ]
  },
  {
   "cell_type": "code",
   "execution_count": 50,
   "metadata": {},
   "outputs": [],
   "source": [
    "class DQN_agent(object):\n",
    "    def __init__(self, env, hyper_params, action_space = len(ACTION_DICT)):\n",
    "        \n",
    "        self.env = env\n",
    "        self.max_episode_steps = env._max_episode_steps\n",
    "        \n",
    "        \"\"\"\n",
    "            beta: The discounted factor of Q-value function\n",
    "            (epsilon): The explore or exploit policy epsilon. \n",
    "            initial_epsilon: When the 'steps' is 0, the epsilon is initial_epsilon, 1\n",
    "            final_epsilon: After the number of 'steps' reach 'epsilon_decay_steps', \n",
    "                The epsilon set to the 'final_epsilon' determinately.\n",
    "            epsilon_decay_steps: The epsilon will decrease linearly along with the steps from 0 to 'epsilon_decay_steps'.\n",
    "        \"\"\"\n",
    "        self.beta = hyper_params['beta']\n",
    "        self.initial_epsilon = 1\n",
    "        self.final_epsilon = hyper_params['final_epsilon']\n",
    "        self.epsilon_decay_steps = hyper_params['epsilon_decay_steps']\n",
    "\n",
    "        \"\"\"\n",
    "            episode: Record training episode\n",
    "            steps: Add 1 when predicting an action\n",
    "            learning: The trigger of agent learning. It is on while training agent. It is off while testing agent.\n",
    "            action_space: The action space of the current environment, e.g 2.\n",
    "        \"\"\"\n",
    "        self.episode = 0\n",
    "        self.steps = 0\n",
    "        self.best_reward = 0\n",
    "        self.learning = True\n",
    "        self.action_space = action_space\n",
    "\n",
    "        \"\"\"\n",
    "            input_len The input length of the neural network. It equals to the length of the state vector.\n",
    "            output_len: The output length of the neural network. It is equal to the action space.\n",
    "            eval_model: The model for predicting action for the agent.\n",
    "            target_model: The model for calculating Q-value of next_state to update 'eval_model'.\n",
    "            use_target_model: Trigger for turn 'target_model' on/off\n",
    "        \"\"\"\n",
    "        state = env.reset()\n",
    "        input_len = len(state)\n",
    "        output_len = action_space\n",
    "        self.eval_model = DQNModel(input_len, output_len, learning_rate = hyper_params['learning_rate'])\n",
    "        self.use_target_model = hyper_params['use_target_model']\n",
    "        if self.use_target_model:\n",
    "            self.target_model = DQNModel(input_len, output_len)\n",
    "#         memory: Store and sample experience replay.\n",
    "        self.memory = ReplayBuffer(hyper_params['memory_size'])\n",
    "        \n",
    "        \"\"\"\n",
    "            batch_size: Mini batch size for training model.\n",
    "            update_steps: The frequence of traning model\n",
    "            model_replace_freq: The frequence of replacing 'target_model' by 'eval_model'\n",
    "        \"\"\"\n",
    "        self.batch_size = hyper_params['batch_size']\n",
    "        self.update_steps = hyper_params['update_steps']\n",
    "        self.model_replace_freq = hyper_params['model_replace_freq']\n",
    "        \n",
    "    # Linear decrease function for epsilon\n",
    "    def linear_decrease(self, initial_value, final_value, curr_steps, final_decay_steps):\n",
    "        decay_rate = curr_steps / final_decay_steps\n",
    "        if decay_rate > 1:\n",
    "            decay_rate = 1\n",
    "        return initial_value - (initial_value - final_value) * decay_rate\n",
    "    \n",
    "    def explore_or_exploit_policy(self, state):\n",
    "        p = uniform(0, 1)\n",
    "        # Get decreased epsilon\n",
    "        epsilon = self.linear_decrease(self.initial_epsilon, \n",
    "                               self.final_epsilon,\n",
    "                               self.steps,\n",
    "                               self.epsilon_decay_steps)\n",
    "        \n",
    "        if p < epsilon:\n",
    "            #return action\n",
    "            return randint(0, self.action_space - 1)\n",
    "        else:\n",
    "            #return action\n",
    "            return self.greedy_policy(state)\n",
    "        \n",
    "    def greedy_policy(self, state):\n",
    "        return self.eval_model.predict(state)\n",
    "    \n",
    "    # This next function will be called in the main RL loop to update the neural network model given a batch of experience\n",
    "    # 1) Sample a 'batch_size' batch of experiences from the memory.\n",
    "    # 2) Predict the Q-value from the 'eval_model' based on (states, actions)\n",
    "    # 3) Predict the Q-value from the 'target_model' base on (next_states), and take the max of each Q-value vector, Q_max\n",
    "    # 4) If is_terminal == 1, q_target = reward + discounted factor * Q_max, otherwise, q_target = reward\n",
    "    # 5) Call fit() to do the back-propagation for 'eval_model'.\n",
    "    def update_batch(self):\n",
    "        if len(self.memory) < self.batch_size or self.steps % self.update_steps != 0:\n",
    "            return\n",
    "\n",
    "        batch = self.memory.sample(self.batch_size)\n",
    "\n",
    "        (states, actions, reward, next_states,\n",
    "         is_terminal) = batch\n",
    "        \n",
    "        states = states\n",
    "        next_states = next_states\n",
    "        terminal = FloatTensor([1 if t else 0 for t in is_terminal])\n",
    "        reward = FloatTensor(reward)\n",
    "        batch_index = torch.arange(self.batch_size,\n",
    "                                   dtype=torch.long)\n",
    "        \n",
    "        # Current Q Values\n",
    "        _, q_values = self.eval_model.predict_batch(states)\n",
    "        \n",
    "        #print(q_values.shape)\n",
    "        q_values = q_values[batch_index, actions]\n",
    "        #print(q_values.shape)\n",
    "        #return\n",
    "        # Calculate target\n",
    "        if self.use_target_model:\n",
    "            actions, q_next = self.target_model.predict_batch(next_states)\n",
    "        else:\n",
    "            actions, q_next = self.eval_model.predict_batch(next_states)\n",
    "            \n",
    "        #INSERT YOUR CODE HERE --- neet to compute 'q_targets' used below\n",
    "        #q_next = q_next[batch_index,actions]\n",
    "        #print(q_values.shape,q_next.shape)\n",
    "        \n",
    "        max_value,index= torch.max(q_next,dim=1)\n",
    "        #print(max_value.shape,index)\n",
    "        #return\n",
    "        q_target = []\n",
    "        for i in range(len(is_terminal)):\n",
    "            if is_terminal[i]==1:\n",
    "                q_target.append(reward[i])\n",
    "            else:\n",
    "                q_target.append(reward[i]+ self.beta*max_value[i])\n",
    "        # update model\n",
    "        self.eval_model.fit(q_values, FloatTensor(q_target))\n",
    "    \n",
    "    def learn_and_evaluate(self, training_episodes, test_interval):\n",
    "        test_number = training_episodes // test_interval\n",
    "        all_results = []\n",
    "        \n",
    "        for i in range(test_number):\n",
    "            # learn\n",
    "            self.learn(test_interval)\n",
    "            \n",
    "            # evaluate\n",
    "            avg_reward = self.evaluate()\n",
    "            all_results.append(avg_reward)\n",
    "            \n",
    "        return all_results\n",
    "    \n",
    "    def learn(self, test_interval):\n",
    "        for episode in tqdm(range(test_interval), desc=\"Training\"):\n",
    "            state = self.env.reset()\n",
    "            done = False\n",
    "            steps = 0\n",
    "\n",
    "            while steps < self.max_episode_steps and not done:\n",
    "                #INSERT YOUR CODE HERE\n",
    "                # add experience from explore-exploit policy to memory\n",
    "                # update the model every 'update_steps' of experience\n",
    "                # update the target network (if the target network is being used) every 'model_replace_freq' of experiences\n",
    "                steps = steps + 1\n",
    "                action = self.explore_or_exploit_policy(state)\n",
    "                observation,reward, done, info = self.env.step(action)\n",
    "                self.memory.add(state,action,reward,observation,done)\n",
    "                \n",
    "                if (steps%self.update_steps)==0:\n",
    "                    self.update_batch()\n",
    "                    \n",
    "                if (steps%self.model_replace_freq)==0 and self.use_target_model:\n",
    "                    self.target_model.replace(self.eval_model)\n",
    "                    \n",
    "                \n",
    "                \n",
    "                state = observation\n",
    "                \n",
    "    def evaluate(self, trials = 30):\n",
    "        total_reward = 0\n",
    "        for _ in tqdm(range(trials), desc=\"Evaluating\"):\n",
    "            state = self.env.reset()\n",
    "            done = False\n",
    "            steps = 0\n",
    "\n",
    "            while steps < self.max_episode_steps and not done:\n",
    "                steps += 1\n",
    "                action = self.greedy_policy(state)\n",
    "                state, reward, done, _ = self.env.step(action)\n",
    "                total_reward += reward\n",
    "\n",
    "        avg_reward = total_reward / trials\n",
    "        print(avg_reward)\n",
    "        f = open(result_file, \"a+\")\n",
    "        f.write(str(avg_reward) + \"\\n\")\n",
    "        f.close()\n",
    "        if avg_reward >= self.best_reward:\n",
    "            self.best_reward = avg_reward\n",
    "            self.save_model()\n",
    "        return avg_reward\n",
    "\n",
    "    # save model\n",
    "    def save_model(self):\n",
    "        self.eval_model.save(result_floder + '/best_model.pt')\n",
    "        \n",
    "    # load model\n",
    "    def load_model(self):\n",
    "        self.eval_model.load(result_floder + '/best_model.pt')"
   ]
  },
  {
   "cell_type": "markdown",
   "metadata": {},
   "source": [
    "## Run function"
   ]
  },
  {
   "cell_type": "code",
   "execution_count": 51,
   "metadata": {
    "scrolled": false
   },
   "outputs": [
    {
     "name": "stderr",
     "output_type": "stream",
     "text": [
      "Training: 100%|██████████| 50/50 [00:00<00:00, 87.31it/s]\n",
      "Evaluating: 100%|██████████| 30/30 [00:00<00:00, 435.81it/s]\n",
      "Training:  20%|██        | 10/50 [00:00<00:00, 99.73it/s]"
     ]
    },
    {
     "name": "stdout",
     "output_type": "stream",
     "text": [
      "9.433333333333334\n"
     ]
    },
    {
     "name": "stderr",
     "output_type": "stream",
     "text": [
      "Training: 100%|██████████| 50/50 [00:00<00:00, 93.06it/s]\n",
      "Evaluating: 100%|██████████| 30/30 [00:00<00:00, 447.88it/s]\n",
      "Training:  20%|██        | 10/50 [00:00<00:00, 96.84it/s]"
     ]
    },
    {
     "name": "stdout",
     "output_type": "stream",
     "text": [
      "9.333333333333334\n"
     ]
    },
    {
     "name": "stderr",
     "output_type": "stream",
     "text": [
      "Training: 100%|██████████| 50/50 [00:00<00:00, 85.09it/s]\n",
      "Evaluating: 100%|██████████| 30/30 [00:00<00:00, 435.96it/s]\n",
      "Training:  20%|██        | 10/50 [00:00<00:00, 99.61it/s]"
     ]
    },
    {
     "name": "stdout",
     "output_type": "stream",
     "text": [
      "9.3\n"
     ]
    },
    {
     "name": "stderr",
     "output_type": "stream",
     "text": [
      "Training: 100%|██████████| 50/50 [00:00<00:00, 87.63it/s]\n",
      "Evaluating: 100%|██████████| 30/30 [00:00<00:00, 456.60it/s]\n",
      "Training:  18%|█▊        | 9/50 [00:00<00:00, 86.56it/s]"
     ]
    },
    {
     "name": "stdout",
     "output_type": "stream",
     "text": [
      "9.133333333333333\n"
     ]
    },
    {
     "name": "stderr",
     "output_type": "stream",
     "text": [
      "Training: 100%|██████████| 50/50 [00:00<00:00, 91.65it/s]\n",
      "Evaluating: 100%|██████████| 30/30 [00:00<00:00, 450.83it/s]\n",
      "Training:  18%|█▊        | 9/50 [00:00<00:00, 82.63it/s]"
     ]
    },
    {
     "name": "stdout",
     "output_type": "stream",
     "text": [
      "9.3\n"
     ]
    },
    {
     "name": "stderr",
     "output_type": "stream",
     "text": [
      "Training: 100%|██████████| 50/50 [00:00<00:00, 76.31it/s]\n",
      "Evaluating: 100%|██████████| 30/30 [00:00<00:00, 454.06it/s]\n",
      "Training:  20%|██        | 10/50 [00:00<00:00, 88.03it/s]"
     ]
    },
    {
     "name": "stdout",
     "output_type": "stream",
     "text": [
      "9.3\n"
     ]
    },
    {
     "name": "stderr",
     "output_type": "stream",
     "text": [
      "Training: 100%|██████████| 50/50 [00:00<00:00, 87.59it/s]\n",
      "Evaluating: 100%|██████████| 30/30 [00:00<00:00, 437.40it/s]\n",
      "Training:  26%|██▌       | 13/50 [00:00<00:00, 124.69it/s]"
     ]
    },
    {
     "name": "stdout",
     "output_type": "stream",
     "text": [
      "9.433333333333334\n"
     ]
    },
    {
     "name": "stderr",
     "output_type": "stream",
     "text": [
      "Training: 100%|██████████| 50/50 [00:00<00:00, 125.87it/s]\n",
      "Evaluating: 100%|██████████| 30/30 [00:00<00:00, 574.49it/s]\n",
      "Training:  28%|██▊       | 14/50 [00:00<00:00, 131.43it/s]"
     ]
    },
    {
     "name": "stdout",
     "output_type": "stream",
     "text": [
      "9.2\n"
     ]
    },
    {
     "name": "stderr",
     "output_type": "stream",
     "text": [
      "Training: 100%|██████████| 50/50 [00:00<00:00, 110.08it/s]\n",
      "Evaluating: 100%|██████████| 30/30 [00:00<00:00, 571.01it/s]\n",
      "Training:  24%|██▍       | 12/50 [00:00<00:00, 112.53it/s]"
     ]
    },
    {
     "name": "stdout",
     "output_type": "stream",
     "text": [
      "9.433333333333334\n"
     ]
    },
    {
     "name": "stderr",
     "output_type": "stream",
     "text": [
      "Training: 100%|██████████| 50/50 [00:00<00:00, 120.29it/s]\n",
      "Evaluating: 100%|██████████| 30/30 [00:00<00:00, 560.45it/s]\n",
      "Training:  26%|██▌       | 13/50 [00:00<00:00, 128.44it/s]"
     ]
    },
    {
     "name": "stdout",
     "output_type": "stream",
     "text": [
      "9.166666666666666\n"
     ]
    },
    {
     "name": "stderr",
     "output_type": "stream",
     "text": [
      "Training: 100%|██████████| 50/50 [00:00<00:00, 112.73it/s]\n",
      "Evaluating: 100%|██████████| 30/30 [00:00<00:00, 582.41it/s]\n",
      "Training:  22%|██▏       | 11/50 [00:00<00:00, 109.84it/s]"
     ]
    },
    {
     "name": "stdout",
     "output_type": "stream",
     "text": [
      "9.1\n"
     ]
    },
    {
     "name": "stderr",
     "output_type": "stream",
     "text": [
      "Training: 100%|██████████| 50/50 [00:00<00:00, 116.45it/s]\n",
      "Evaluating: 100%|██████████| 30/30 [00:00<00:00, 572.09it/s]\n",
      "Training:  22%|██▏       | 11/50 [00:00<00:00, 106.16it/s]"
     ]
    },
    {
     "name": "stdout",
     "output_type": "stream",
     "text": [
      "9.266666666666667\n"
     ]
    },
    {
     "name": "stderr",
     "output_type": "stream",
     "text": [
      "Training: 100%|██████████| 50/50 [00:00<00:00, 115.24it/s]\n",
      "Evaluating: 100%|██████████| 30/30 [00:00<00:00, 567.35it/s]\n",
      "Training:  22%|██▏       | 11/50 [00:00<00:00, 106.02it/s]"
     ]
    },
    {
     "name": "stdout",
     "output_type": "stream",
     "text": [
      "9.333333333333334\n"
     ]
    },
    {
     "name": "stderr",
     "output_type": "stream",
     "text": [
      "Training: 100%|██████████| 50/50 [00:00<00:00, 112.65it/s]\n",
      "Evaluating: 100%|██████████| 30/30 [00:00<00:00, 576.21it/s]\n",
      "Training:  18%|█▊        | 9/50 [00:00<00:00, 87.72it/s]"
     ]
    },
    {
     "name": "stdout",
     "output_type": "stream",
     "text": [
      "9.233333333333333\n"
     ]
    },
    {
     "name": "stderr",
     "output_type": "stream",
     "text": [
      "Training: 100%|██████████| 50/50 [00:00<00:00, 114.93it/s]\n",
      "Evaluating: 100%|██████████| 30/30 [00:00<00:00, 570.02it/s]\n",
      "Training:  26%|██▌       | 13/50 [00:00<00:00, 125.79it/s]"
     ]
    },
    {
     "name": "stdout",
     "output_type": "stream",
     "text": [
      "9.5\n"
     ]
    },
    {
     "name": "stderr",
     "output_type": "stream",
     "text": [
      "Training: 100%|██████████| 50/50 [00:00<00:00, 122.08it/s]\n",
      "Evaluating: 100%|██████████| 30/30 [00:00<00:00, 573.44it/s]\n",
      "Training:  24%|██▍       | 12/50 [00:00<00:00, 119.80it/s]"
     ]
    },
    {
     "name": "stdout",
     "output_type": "stream",
     "text": [
      "9.366666666666667\n"
     ]
    },
    {
     "name": "stderr",
     "output_type": "stream",
     "text": [
      "Training: 100%|██████████| 50/50 [00:00<00:00, 109.68it/s]\n",
      "Evaluating: 100%|██████████| 30/30 [00:00<00:00, 580.93it/s]\n",
      "Training:  22%|██▏       | 11/50 [00:00<00:00, 106.61it/s]"
     ]
    },
    {
     "name": "stdout",
     "output_type": "stream",
     "text": [
      "8.966666666666667\n"
     ]
    },
    {
     "name": "stderr",
     "output_type": "stream",
     "text": [
      "Training: 100%|██████████| 50/50 [00:00<00:00, 116.17it/s]\n",
      "Evaluating: 100%|██████████| 30/30 [00:00<00:00, 576.56it/s]\n",
      "Training:  24%|██▍       | 12/50 [00:00<00:00, 113.05it/s]"
     ]
    },
    {
     "name": "stdout",
     "output_type": "stream",
     "text": [
      "9.366666666666667\n"
     ]
    },
    {
     "name": "stderr",
     "output_type": "stream",
     "text": [
      "Training: 100%|██████████| 50/50 [00:00<00:00, 119.38it/s]\n",
      "Evaluating: 100%|██████████| 30/30 [00:00<00:00, 553.23it/s]\n",
      "Training:  26%|██▌       | 13/50 [00:00<00:00, 123.45it/s]"
     ]
    },
    {
     "name": "stdout",
     "output_type": "stream",
     "text": [
      "9.566666666666666\n"
     ]
    },
    {
     "name": "stderr",
     "output_type": "stream",
     "text": [
      "Training: 100%|██████████| 50/50 [00:00<00:00, 113.40it/s]\n",
      "Evaluating: 100%|██████████| 30/30 [00:00<00:00, 581.25it/s]\n",
      "Training:  22%|██▏       | 11/50 [00:00<00:00, 104.36it/s]"
     ]
    },
    {
     "name": "stdout",
     "output_type": "stream",
     "text": [
      "9.266666666666667\n"
     ]
    },
    {
     "name": "stderr",
     "output_type": "stream",
     "text": [
      "Training: 100%|██████████| 50/50 [00:00<00:00, 111.15it/s]\n",
      "Evaluating: 100%|██████████| 30/30 [00:00<00:00, 553.31it/s]\n",
      "Training:  20%|██        | 10/50 [00:00<00:00, 98.01it/s]"
     ]
    },
    {
     "name": "stdout",
     "output_type": "stream",
     "text": [
      "9.6\n"
     ]
    },
    {
     "name": "stderr",
     "output_type": "stream",
     "text": [
      "Training: 100%|██████████| 50/50 [00:00<00:00, 117.48it/s]\n",
      "Evaluating: 100%|██████████| 30/30 [00:00<00:00, 565.19it/s]\n",
      "Training:  20%|██        | 10/50 [00:00<00:00, 97.38it/s]"
     ]
    },
    {
     "name": "stdout",
     "output_type": "stream",
     "text": [
      "9.5\n"
     ]
    },
    {
     "name": "stderr",
     "output_type": "stream",
     "text": [
      "Training: 100%|██████████| 50/50 [00:00<00:00, 120.98it/s]\n",
      "Evaluating: 100%|██████████| 30/30 [00:00<00:00, 521.95it/s]\n",
      "Training:  26%|██▌       | 13/50 [00:00<00:00, 122.37it/s]"
     ]
    },
    {
     "name": "stdout",
     "output_type": "stream",
     "text": [
      "9.5\n"
     ]
    },
    {
     "name": "stderr",
     "output_type": "stream",
     "text": [
      "Training: 100%|██████████| 50/50 [00:00<00:00, 122.13it/s]\n",
      "Evaluating: 100%|██████████| 30/30 [00:00<00:00, 552.00it/s]\n",
      "Training:  22%|██▏       | 11/50 [00:00<00:00, 104.49it/s]"
     ]
    },
    {
     "name": "stdout",
     "output_type": "stream",
     "text": [
      "9.5\n"
     ]
    },
    {
     "name": "stderr",
     "output_type": "stream",
     "text": [
      "Training: 100%|██████████| 50/50 [00:00<00:00, 112.04it/s]\n",
      "Evaluating: 100%|██████████| 30/30 [00:00<00:00, 586.60it/s]\n",
      "Training:  28%|██▊       | 14/50 [00:00<00:00, 136.23it/s]"
     ]
    },
    {
     "name": "stdout",
     "output_type": "stream",
     "text": [
      "9.2\n"
     ]
    },
    {
     "name": "stderr",
     "output_type": "stream",
     "text": [
      "Training: 100%|██████████| 50/50 [00:00<00:00, 128.71it/s]\n",
      "Evaluating: 100%|██████████| 30/30 [00:00<00:00, 569.46it/s]\n",
      "Training:  24%|██▍       | 12/50 [00:00<00:00, 117.21it/s]"
     ]
    },
    {
     "name": "stdout",
     "output_type": "stream",
     "text": [
      "9.366666666666667\n"
     ]
    },
    {
     "name": "stderr",
     "output_type": "stream",
     "text": [
      "Training: 100%|██████████| 50/50 [00:00<00:00, 121.61it/s]\n",
      "Evaluating: 100%|██████████| 30/30 [00:00<00:00, 538.29it/s]\n",
      "Training:  26%|██▌       | 13/50 [00:00<00:00, 119.72it/s]"
     ]
    },
    {
     "name": "stdout",
     "output_type": "stream",
     "text": [
      "9.633333333333333\n"
     ]
    },
    {
     "name": "stderr",
     "output_type": "stream",
     "text": [
      "Training: 100%|██████████| 50/50 [00:00<00:00, 126.76it/s]\n",
      "Evaluating: 100%|██████████| 30/30 [00:00<00:00, 573.94it/s]\n",
      "Training:  28%|██▊       | 14/50 [00:00<00:00, 139.23it/s]"
     ]
    },
    {
     "name": "stdout",
     "output_type": "stream",
     "text": [
      "9.4\n"
     ]
    },
    {
     "name": "stderr",
     "output_type": "stream",
     "text": [
      "Training: 100%|██████████| 50/50 [00:00<00:00, 121.33it/s]\n",
      "Evaluating: 100%|██████████| 30/30 [00:00<00:00, 568.92it/s]\n",
      "Training:  26%|██▌       | 13/50 [00:00<00:00, 115.84it/s]"
     ]
    },
    {
     "name": "stdout",
     "output_type": "stream",
     "text": [
      "9.366666666666667\n"
     ]
    },
    {
     "name": "stderr",
     "output_type": "stream",
     "text": [
      "Training: 100%|██████████| 50/50 [00:00<00:00, 113.73it/s]\n",
      "Evaluating: 100%|██████████| 30/30 [00:00<00:00, 573.67it/s]\n",
      "Training:  28%|██▊       | 14/50 [00:00<00:00, 130.07it/s]"
     ]
    },
    {
     "name": "stdout",
     "output_type": "stream",
     "text": [
      "9.366666666666667\n"
     ]
    },
    {
     "name": "stderr",
     "output_type": "stream",
     "text": [
      "Training: 100%|██████████| 50/50 [00:00<00:00, 125.70it/s]\n",
      "Evaluating: 100%|██████████| 30/30 [00:00<00:00, 550.80it/s]\n",
      "Training:  28%|██▊       | 14/50 [00:00<00:00, 139.16it/s]"
     ]
    },
    {
     "name": "stdout",
     "output_type": "stream",
     "text": [
      "9.466666666666667\n"
     ]
    },
    {
     "name": "stderr",
     "output_type": "stream",
     "text": [
      "Training: 100%|██████████| 50/50 [00:00<00:00, 111.90it/s]\n",
      "Evaluating: 100%|██████████| 30/30 [00:00<00:00, 570.97it/s]\n",
      "Training:  28%|██▊       | 14/50 [00:00<00:00, 133.89it/s]"
     ]
    },
    {
     "name": "stdout",
     "output_type": "stream",
     "text": [
      "9.466666666666667\n"
     ]
    },
    {
     "name": "stderr",
     "output_type": "stream",
     "text": [
      "Training: 100%|██████████| 50/50 [00:00<00:00, 132.02it/s]\n",
      "Evaluating: 100%|██████████| 30/30 [00:00<00:00, 553.76it/s]\n",
      "Training:  22%|██▏       | 11/50 [00:00<00:00, 103.17it/s]"
     ]
    },
    {
     "name": "stdout",
     "output_type": "stream",
     "text": [
      "9.533333333333333\n"
     ]
    },
    {
     "name": "stderr",
     "output_type": "stream",
     "text": [
      "Training: 100%|██████████| 50/50 [00:00<00:00, 113.55it/s]\n",
      "Evaluating: 100%|██████████| 30/30 [00:00<00:00, 561.39it/s]\n",
      "Training:  26%|██▌       | 13/50 [00:00<00:00, 129.25it/s]"
     ]
    },
    {
     "name": "stdout",
     "output_type": "stream",
     "text": [
      "9.333333333333334\n"
     ]
    },
    {
     "name": "stderr",
     "output_type": "stream",
     "text": [
      "Training: 100%|██████████| 50/50 [00:00<00:00, 116.32it/s]\n",
      "Evaluating: 100%|██████████| 30/30 [00:00<00:00, 583.81it/s]\n",
      "Training:  20%|██        | 10/50 [00:00<00:00, 96.74it/s]"
     ]
    },
    {
     "name": "stdout",
     "output_type": "stream",
     "text": [
      "9.3\n"
     ]
    },
    {
     "name": "stderr",
     "output_type": "stream",
     "text": [
      "Training: 100%|██████████| 50/50 [00:00<00:00, 108.65it/s]\n",
      "Evaluating: 100%|██████████| 30/30 [00:00<00:00, 564.31it/s]\n",
      "Training:  26%|██▌       | 13/50 [00:00<00:00, 125.70it/s]"
     ]
    },
    {
     "name": "stdout",
     "output_type": "stream",
     "text": [
      "9.633333333333333\n"
     ]
    },
    {
     "name": "stderr",
     "output_type": "stream",
     "text": [
      "Training: 100%|██████████| 50/50 [00:00<00:00, 122.98it/s]\n",
      "Evaluating: 100%|██████████| 30/30 [00:00<00:00, 580.16it/s]\n",
      "Training:  22%|██▏       | 11/50 [00:00<00:00, 106.67it/s]"
     ]
    },
    {
     "name": "stdout",
     "output_type": "stream",
     "text": [
      "9.166666666666666\n"
     ]
    },
    {
     "name": "stderr",
     "output_type": "stream",
     "text": [
      "Training: 100%|██████████| 50/50 [00:00<00:00, 117.58it/s]\n",
      "Evaluating: 100%|██████████| 30/30 [00:00<00:00, 566.68it/s]\n",
      "Training:  22%|██▏       | 11/50 [00:00<00:00, 105.83it/s]"
     ]
    },
    {
     "name": "stdout",
     "output_type": "stream",
     "text": [
      "9.566666666666666\n"
     ]
    },
    {
     "name": "stderr",
     "output_type": "stream",
     "text": [
      "Training: 100%|██████████| 50/50 [00:00<00:00, 116.53it/s]\n",
      "Evaluating: 100%|██████████| 30/30 [00:00<00:00, 572.34it/s]\n",
      "Training:  22%|██▏       | 11/50 [00:00<00:00, 109.86it/s]"
     ]
    },
    {
     "name": "stdout",
     "output_type": "stream",
     "text": [
      "9.3\n"
     ]
    },
    {
     "name": "stderr",
     "output_type": "stream",
     "text": [
      "Training: 100%|██████████| 50/50 [00:00<00:00, 122.86it/s]\n",
      "Evaluating: 100%|██████████| 30/30 [00:00<00:00, 583.79it/s]\n",
      "Training:  24%|██▍       | 12/50 [00:00<00:00, 106.64it/s]"
     ]
    },
    {
     "name": "stdout",
     "output_type": "stream",
     "text": [
      "9.133333333333333\n"
     ]
    },
    {
     "name": "stderr",
     "output_type": "stream",
     "text": [
      "Training: 100%|██████████| 50/50 [00:00<00:00, 115.35it/s]\n",
      "Evaluating: 100%|██████████| 30/30 [00:00<00:00, 585.48it/s]\n",
      "Training:  24%|██▍       | 12/50 [00:00<00:00, 118.45it/s]"
     ]
    },
    {
     "name": "stdout",
     "output_type": "stream",
     "text": [
      "9.266666666666667\n"
     ]
    },
    {
     "name": "stderr",
     "output_type": "stream",
     "text": [
      "Training: 100%|██████████| 50/50 [00:00<00:00, 117.05it/s]\n",
      "Evaluating: 100%|██████████| 30/30 [00:00<00:00, 571.03it/s]\n",
      "Training:  26%|██▌       | 13/50 [00:00<00:00, 129.42it/s]"
     ]
    },
    {
     "name": "stdout",
     "output_type": "stream",
     "text": [
      "9.533333333333333\n"
     ]
    },
    {
     "name": "stderr",
     "output_type": "stream",
     "text": [
      "Training: 100%|██████████| 50/50 [00:00<00:00, 122.91it/s]\n",
      "Evaluating: 100%|██████████| 30/30 [00:00<00:00, 585.92it/s]\n",
      "Training:  30%|███       | 15/50 [00:00<00:00, 148.99it/s]"
     ]
    },
    {
     "name": "stdout",
     "output_type": "stream",
     "text": [
      "9.233333333333333\n"
     ]
    },
    {
     "name": "stderr",
     "output_type": "stream",
     "text": [
      "Training: 100%|██████████| 50/50 [00:00<00:00, 125.97it/s]\n",
      "Evaluating: 100%|██████████| 30/30 [00:00<00:00, 546.36it/s]\n",
      "Training:  20%|██        | 10/50 [00:00<00:00, 94.47it/s]"
     ]
    },
    {
     "name": "stdout",
     "output_type": "stream",
     "text": [
      "9.5\n"
     ]
    },
    {
     "name": "stderr",
     "output_type": "stream",
     "text": [
      "Training: 100%|██████████| 50/50 [00:00<00:00, 117.73it/s]\n",
      "Evaluating: 100%|██████████| 30/30 [00:00<00:00, 572.37it/s]\n",
      "Training:  24%|██▍       | 12/50 [00:00<00:00, 113.06it/s]"
     ]
    },
    {
     "name": "stdout",
     "output_type": "stream",
     "text": [
      "9.366666666666667\n"
     ]
    },
    {
     "name": "stderr",
     "output_type": "stream",
     "text": [
      "Training: 100%|██████████| 50/50 [00:00<00:00, 113.45it/s]\n",
      "Evaluating: 100%|██████████| 30/30 [00:00<00:00, 571.55it/s]\n",
      "Training:  26%|██▌       | 13/50 [00:00<00:00, 124.92it/s]"
     ]
    },
    {
     "name": "stdout",
     "output_type": "stream",
     "text": [
      "9.3\n"
     ]
    },
    {
     "name": "stderr",
     "output_type": "stream",
     "text": [
      "Training: 100%|██████████| 50/50 [00:00<00:00, 116.40it/s]\n",
      "Evaluating: 100%|██████████| 30/30 [00:00<00:00, 565.83it/s]\n",
      "Training:  26%|██▌       | 13/50 [00:00<00:00, 128.55it/s]"
     ]
    },
    {
     "name": "stdout",
     "output_type": "stream",
     "text": [
      "9.366666666666667\n"
     ]
    },
    {
     "name": "stderr",
     "output_type": "stream",
     "text": [
      "Training: 100%|██████████| 50/50 [00:00<00:00, 121.71it/s]\n",
      "Evaluating: 100%|██████████| 30/30 [00:00<00:00, 559.91it/s]\n",
      "Training:  22%|██▏       | 11/50 [00:00<00:00, 106.63it/s]"
     ]
    },
    {
     "name": "stdout",
     "output_type": "stream",
     "text": [
      "9.4\n"
     ]
    },
    {
     "name": "stderr",
     "output_type": "stream",
     "text": [
      "Training: 100%|██████████| 50/50 [00:00<00:00, 120.67it/s]\n",
      "Evaluating: 100%|██████████| 30/30 [00:00<00:00, 570.53it/s]\n",
      "Training:  28%|██▊       | 14/50 [00:00<00:00, 137.95it/s]"
     ]
    },
    {
     "name": "stdout",
     "output_type": "stream",
     "text": [
      "9.3\n"
     ]
    },
    {
     "name": "stderr",
     "output_type": "stream",
     "text": [
      "Training: 100%|██████████| 50/50 [00:00<00:00, 113.78it/s]\n",
      "Evaluating: 100%|██████████| 30/30 [00:00<00:00, 572.17it/s]\n",
      "Training:  22%|██▏       | 11/50 [00:00<00:00, 109.50it/s]"
     ]
    },
    {
     "name": "stdout",
     "output_type": "stream",
     "text": [
      "9.333333333333334\n"
     ]
    },
    {
     "name": "stderr",
     "output_type": "stream",
     "text": [
      "Training: 100%|██████████| 50/50 [00:00<00:00, 111.91it/s]\n",
      "Evaluating: 100%|██████████| 30/30 [00:00<00:00, 132.28it/s]\n",
      "Training:  30%|███       | 15/50 [00:00<00:00, 141.74it/s]"
     ]
    },
    {
     "name": "stdout",
     "output_type": "stream",
     "text": [
      "40.2\n"
     ]
    },
    {
     "name": "stderr",
     "output_type": "stream",
     "text": [
      "Training: 100%|██████████| 50/50 [00:00<00:00, 126.06it/s]\n",
      "Evaluating: 100%|██████████| 30/30 [00:00<00:00, 224.04it/s]\n",
      "Training:  22%|██▏       | 11/50 [00:00<00:00, 103.74it/s]"
     ]
    },
    {
     "name": "stdout",
     "output_type": "stream",
     "text": [
      "23.433333333333334\n"
     ]
    },
    {
     "name": "stderr",
     "output_type": "stream",
     "text": [
      "Training: 100%|██████████| 50/50 [00:00<00:00, 114.17it/s]\n",
      "Evaluating: 100%|██████████| 30/30 [00:00<00:00, 72.57it/s]\n",
      "Training:  24%|██▍       | 12/50 [00:00<00:00, 114.24it/s]"
     ]
    },
    {
     "name": "stdout",
     "output_type": "stream",
     "text": [
      "70.53333333333333\n"
     ]
    },
    {
     "name": "stderr",
     "output_type": "stream",
     "text": [
      "Training: 100%|██████████| 50/50 [00:00<00:00, 109.08it/s]\n",
      "Evaluating: 100%|██████████| 30/30 [00:00<00:00, 183.23it/s]\n",
      "Training:  26%|██▌       | 13/50 [00:00<00:00, 125.30it/s]"
     ]
    },
    {
     "name": "stdout",
     "output_type": "stream",
     "text": [
      "29.0\n"
     ]
    },
    {
     "name": "stderr",
     "output_type": "stream",
     "text": [
      "Training: 100%|██████████| 50/50 [00:00<00:00, 122.30it/s]\n",
      "Evaluating: 100%|██████████| 30/30 [00:00<00:00, 221.35it/s]\n",
      "Training:  30%|███       | 15/50 [00:00<00:00, 145.17it/s]"
     ]
    },
    {
     "name": "stdout",
     "output_type": "stream",
     "text": [
      "24.4\n"
     ]
    },
    {
     "name": "stderr",
     "output_type": "stream",
     "text": [
      "Training: 100%|██████████| 50/50 [00:00<00:00, 117.70it/s]\n",
      "Evaluating: 100%|██████████| 30/30 [00:00<00:00, 220.60it/s]\n",
      "Training:  26%|██▌       | 13/50 [00:00<00:00, 128.07it/s]"
     ]
    },
    {
     "name": "stdout",
     "output_type": "stream",
     "text": [
      "24.2\n"
     ]
    },
    {
     "name": "stderr",
     "output_type": "stream",
     "text": [
      "Training: 100%|██████████| 50/50 [00:00<00:00, 123.03it/s]\n",
      "Evaluating: 100%|██████████| 30/30 [00:00<00:00, 82.43it/s]\n",
      "Training:  26%|██▌       | 13/50 [00:00<00:00, 117.26it/s]"
     ]
    },
    {
     "name": "stdout",
     "output_type": "stream",
     "text": [
      "65.5\n"
     ]
    },
    {
     "name": "stderr",
     "output_type": "stream",
     "text": [
      "Training: 100%|██████████| 50/50 [00:00<00:00, 119.79it/s]\n",
      "Evaluating: 100%|██████████| 30/30 [00:00<00:00, 243.44it/s]\n",
      "Training:  22%|██▏       | 11/50 [00:00<00:00, 109.38it/s]"
     ]
    },
    {
     "name": "stdout",
     "output_type": "stream",
     "text": [
      "22.033333333333335\n"
     ]
    },
    {
     "name": "stderr",
     "output_type": "stream",
     "text": [
      "Training: 100%|██████████| 50/50 [00:00<00:00, 121.47it/s]\n",
      "Evaluating: 100%|██████████| 30/30 [00:00<00:00, 88.44it/s]\n",
      "Training:  22%|██▏       | 11/50 [00:00<00:00, 108.16it/s]"
     ]
    },
    {
     "name": "stdout",
     "output_type": "stream",
     "text": [
      "60.833333333333336\n"
     ]
    },
    {
     "name": "stderr",
     "output_type": "stream",
     "text": [
      "Training: 100%|██████████| 50/50 [00:00<00:00, 118.84it/s]\n",
      "Evaluating: 100%|██████████| 30/30 [00:00<00:00, 67.62it/s]\n",
      "Training:  18%|█▊        | 9/50 [00:00<00:00, 83.40it/s]"
     ]
    },
    {
     "name": "stdout",
     "output_type": "stream",
     "text": [
      "79.0\n"
     ]
    },
    {
     "name": "stderr",
     "output_type": "stream",
     "text": [
      "Training: 100%|██████████| 50/50 [00:00<00:00, 85.79it/s]\n",
      "Evaluating: 100%|██████████| 30/30 [00:00<00:00, 32.19it/s]\n",
      "Training:  22%|██▏       | 11/50 [00:00<00:00, 106.95it/s]"
     ]
    },
    {
     "name": "stdout",
     "output_type": "stream",
     "text": [
      "171.63333333333333\n"
     ]
    },
    {
     "name": "stderr",
     "output_type": "stream",
     "text": [
      "Training: 100%|██████████| 50/50 [00:00<00:00, 123.60it/s]\n",
      "Evaluating: 100%|██████████| 30/30 [00:00<00:00, 92.96it/s]\n",
      "Training:  26%|██▌       | 13/50 [00:00<00:00, 129.82it/s]"
     ]
    },
    {
     "name": "stdout",
     "output_type": "stream",
     "text": [
      "60.166666666666664\n"
     ]
    },
    {
     "name": "stderr",
     "output_type": "stream",
     "text": [
      "Training: 100%|██████████| 50/50 [00:00<00:00, 116.78it/s]\n",
      "Evaluating: 100%|██████████| 30/30 [00:00<00:00, 120.58it/s]\n",
      "Training:  26%|██▌       | 13/50 [00:00<00:00, 125.42it/s]"
     ]
    },
    {
     "name": "stdout",
     "output_type": "stream",
     "text": [
      "45.56666666666667\n"
     ]
    },
    {
     "name": "stderr",
     "output_type": "stream",
     "text": [
      "Training: 100%|██████████| 50/50 [00:00<00:00, 122.55it/s]\n",
      "Evaluating: 100%|██████████| 30/30 [00:00<00:00, 67.81it/s]\n",
      "Training:  14%|█▍        | 7/50 [00:00<00:00, 60.13it/s]"
     ]
    },
    {
     "name": "stdout",
     "output_type": "stream",
     "text": [
      "69.43333333333334\n"
     ]
    },
    {
     "name": "stderr",
     "output_type": "stream",
     "text": [
      "Training: 100%|██████████| 50/50 [00:00<00:00, 107.17it/s]\n",
      "Evaluating: 100%|██████████| 30/30 [00:00<00:00, 80.34it/s]\n",
      "Training:  20%|██        | 10/50 [00:00<00:00, 90.42it/s]"
     ]
    },
    {
     "name": "stdout",
     "output_type": "stream",
     "text": [
      "72.03333333333333\n"
     ]
    },
    {
     "name": "stderr",
     "output_type": "stream",
     "text": [
      "Training: 100%|██████████| 50/50 [00:00<00:00, 116.78it/s]\n",
      "Evaluating: 100%|██████████| 30/30 [00:00<00:00, 36.53it/s]\n",
      "Training:  20%|██        | 10/50 [00:00<00:00, 93.50it/s]"
     ]
    },
    {
     "name": "stdout",
     "output_type": "stream",
     "text": [
      "167.3\n"
     ]
    },
    {
     "name": "stderr",
     "output_type": "stream",
     "text": [
      "Training: 100%|██████████| 50/50 [00:00<00:00, 94.19it/s]\n",
      "Evaluating: 100%|██████████| 30/30 [00:00<00:00, 52.85it/s]\n",
      "Training:  20%|██        | 10/50 [00:00<00:00, 95.84it/s]"
     ]
    },
    {
     "name": "stdout",
     "output_type": "stream",
     "text": [
      "100.4\n"
     ]
    },
    {
     "name": "stderr",
     "output_type": "stream",
     "text": [
      "Training: 100%|██████████| 50/50 [00:00<00:00, 119.42it/s]\n",
      "Evaluating: 100%|██████████| 30/30 [00:00<00:00, 42.46it/s]\n",
      "Training:  16%|█▌        | 8/50 [00:00<00:00, 78.10it/s]"
     ]
    },
    {
     "name": "stdout",
     "output_type": "stream",
     "text": [
      "140.5\n"
     ]
    },
    {
     "name": "stderr",
     "output_type": "stream",
     "text": [
      "Training: 100%|██████████| 50/50 [00:00<00:00, 100.74it/s]\n",
      "Evaluating: 100%|██████████| 30/30 [00:00<00:00, 43.67it/s]\n",
      "Training:  20%|██        | 10/50 [00:00<00:00, 98.72it/s]"
     ]
    },
    {
     "name": "stdout",
     "output_type": "stream",
     "text": [
      "137.66666666666666\n"
     ]
    },
    {
     "name": "stderr",
     "output_type": "stream",
     "text": [
      "Training: 100%|██████████| 50/50 [00:00<00:00, 108.74it/s]\n",
      "Evaluating: 100%|██████████| 30/30 [00:00<00:00, 86.13it/s]\n",
      "Training:  18%|█▊        | 9/50 [00:00<00:00, 86.91it/s]"
     ]
    },
    {
     "name": "stdout",
     "output_type": "stream",
     "text": [
      "63.86666666666667\n"
     ]
    },
    {
     "name": "stderr",
     "output_type": "stream",
     "text": [
      "Training: 100%|██████████| 50/50 [00:00<00:00, 103.75it/s]\n",
      "Evaluating: 100%|██████████| 30/30 [00:00<00:00, 75.94it/s]\n",
      "Training:  20%|██        | 10/50 [00:00<00:00, 90.75it/s]"
     ]
    },
    {
     "name": "stdout",
     "output_type": "stream",
     "text": [
      "73.8\n"
     ]
    },
    {
     "name": "stderr",
     "output_type": "stream",
     "text": [
      "Training: 100%|██████████| 50/50 [00:00<00:00, 109.52it/s]\n",
      "Evaluating: 100%|██████████| 30/30 [00:00<00:00, 62.09it/s]\n",
      "Training:  18%|█▊        | 9/50 [00:00<00:00, 88.06it/s]"
     ]
    },
    {
     "name": "stdout",
     "output_type": "stream",
     "text": [
      "94.3\n"
     ]
    },
    {
     "name": "stderr",
     "output_type": "stream",
     "text": [
      "Training: 100%|██████████| 50/50 [00:00<00:00, 114.32it/s]\n",
      "Evaluating: 100%|██████████| 30/30 [00:00<00:00, 60.30it/s]\n",
      "Training:  20%|██        | 10/50 [00:00<00:00, 98.79it/s]"
     ]
    },
    {
     "name": "stdout",
     "output_type": "stream",
     "text": [
      "98.9\n"
     ]
    },
    {
     "name": "stderr",
     "output_type": "stream",
     "text": [
      "Training: 100%|██████████| 50/50 [00:00<00:00, 117.73it/s]\n",
      "Evaluating: 100%|██████████| 30/30 [00:00<00:00, 30.94it/s]\n",
      "Training:  26%|██▌       | 13/50 [00:00<00:00, 126.93it/s]"
     ]
    },
    {
     "name": "stdout",
     "output_type": "stream",
     "text": [
      "199.4\n"
     ]
    },
    {
     "name": "stderr",
     "output_type": "stream",
     "text": [
      "Training: 100%|██████████| 50/50 [00:00<00:00, 126.46it/s]\n",
      "Evaluating: 100%|██████████| 30/30 [00:00<00:00, 62.39it/s]\n",
      "Training:  20%|██        | 10/50 [00:00<00:00, 99.89it/s]"
     ]
    },
    {
     "name": "stdout",
     "output_type": "stream",
     "text": [
      "90.3\n"
     ]
    },
    {
     "name": "stderr",
     "output_type": "stream",
     "text": [
      "Training: 100%|██████████| 50/50 [00:00<00:00, 109.84it/s]\n",
      "Evaluating: 100%|██████████| 30/30 [00:00<00:00, 31.26it/s]\n",
      "Training:  20%|██        | 10/50 [00:00<00:00, 92.32it/s]"
     ]
    },
    {
     "name": "stdout",
     "output_type": "stream",
     "text": [
      "198.83333333333334\n"
     ]
    },
    {
     "name": "stderr",
     "output_type": "stream",
     "text": [
      "Training: 100%|██████████| 50/50 [00:00<00:00, 86.40it/s]\n",
      "Evaluating: 100%|██████████| 30/30 [00:00<00:00, 45.30it/s]\n",
      "Training:  16%|█▌        | 8/50 [00:00<00:00, 73.70it/s]"
     ]
    },
    {
     "name": "stdout",
     "output_type": "stream",
     "text": [
      "114.26666666666667\n"
     ]
    },
    {
     "name": "stderr",
     "output_type": "stream",
     "text": [
      "Training: 100%|██████████| 50/50 [00:00<00:00, 75.53it/s]\n",
      "Evaluating: 100%|██████████| 30/30 [00:00<00:00, 33.90it/s]\n",
      "Training:  20%|██        | 10/50 [00:00<00:00, 99.24it/s]"
     ]
    },
    {
     "name": "stdout",
     "output_type": "stream",
     "text": [
      "176.26666666666668\n"
     ]
    },
    {
     "name": "stderr",
     "output_type": "stream",
     "text": [
      "Training: 100%|██████████| 50/50 [00:00<00:00, 98.18it/s]\n",
      "Evaluating: 100%|██████████| 30/30 [00:00<00:00, 57.02it/s]\n",
      "Training:  26%|██▌       | 13/50 [00:00<00:00, 112.26it/s]"
     ]
    },
    {
     "name": "stdout",
     "output_type": "stream",
     "text": [
      "92.13333333333334\n"
     ]
    },
    {
     "name": "stderr",
     "output_type": "stream",
     "text": [
      "Training: 100%|██████████| 50/50 [00:00<00:00, 113.87it/s]\n",
      "Evaluating: 100%|██████████| 30/30 [00:00<00:00, 49.29it/s]\n",
      "Training:  14%|█▍        | 7/50 [00:00<00:00, 69.44it/s]"
     ]
    },
    {
     "name": "stdout",
     "output_type": "stream",
     "text": [
      "113.73333333333333\n"
     ]
    },
    {
     "name": "stderr",
     "output_type": "stream",
     "text": [
      "Training: 100%|██████████| 50/50 [00:00<00:00, 91.37it/s]\n",
      "Evaluating: 100%|██████████| 30/30 [00:00<00:00, 34.85it/s]\n",
      "Training:  26%|██▌       | 13/50 [00:00<00:00, 124.26it/s]"
     ]
    },
    {
     "name": "stdout",
     "output_type": "stream",
     "text": [
      "138.1\n"
     ]
    },
    {
     "name": "stderr",
     "output_type": "stream",
     "text": [
      "Training: 100%|██████████| 50/50 [00:00<00:00, 126.56it/s]\n",
      "Evaluating: 100%|██████████| 30/30 [00:00<00:00, 57.52it/s]\n",
      "Training:  24%|██▍       | 12/50 [00:00<00:00, 116.94it/s]"
     ]
    },
    {
     "name": "stdout",
     "output_type": "stream",
     "text": [
      "98.4\n"
     ]
    },
    {
     "name": "stderr",
     "output_type": "stream",
     "text": [
      "Training: 100%|██████████| 50/50 [00:00<00:00, 134.20it/s]\n",
      "Evaluating: 100%|██████████| 30/30 [00:00<00:00, 49.12it/s]\n",
      "Training:  14%|█▍        | 7/50 [00:00<00:00, 57.37it/s]"
     ]
    },
    {
     "name": "stdout",
     "output_type": "stream",
     "text": [
      "121.43333333333334\n"
     ]
    },
    {
     "name": "stderr",
     "output_type": "stream",
     "text": [
      "Training: 100%|██████████| 50/50 [00:00<00:00, 81.59it/s]\n",
      "Evaluating: 100%|██████████| 30/30 [00:00<00:00, 30.16it/s]\n",
      "Training:  26%|██▌       | 13/50 [00:00<00:00, 121.28it/s]"
     ]
    },
    {
     "name": "stdout",
     "output_type": "stream",
     "text": [
      "200.0\n"
     ]
    },
    {
     "name": "stderr",
     "output_type": "stream",
     "text": [
      "Training: 100%|██████████| 50/50 [00:00<00:00, 116.94it/s]\n",
      "Evaluating: 100%|██████████| 30/30 [00:00<00:00, 40.02it/s]\n",
      "Training:  26%|██▌       | 13/50 [00:00<00:00, 116.23it/s]"
     ]
    },
    {
     "name": "stdout",
     "output_type": "stream",
     "text": [
      "151.16666666666666\n"
     ]
    },
    {
     "name": "stderr",
     "output_type": "stream",
     "text": [
      "Training: 100%|██████████| 50/50 [00:00<00:00, 109.64it/s]\n",
      "Evaluating: 100%|██████████| 30/30 [00:00<00:00, 48.68it/s]\n",
      "Training:  10%|█         | 5/50 [00:00<00:00, 47.92it/s]"
     ]
    },
    {
     "name": "stdout",
     "output_type": "stream",
     "text": [
      "118.1\n"
     ]
    },
    {
     "name": "stderr",
     "output_type": "stream",
     "text": [
      "Training: 100%|██████████| 50/50 [00:00<00:00, 100.67it/s]\n",
      "Evaluating: 100%|██████████| 30/30 [00:00<00:00, 30.31it/s]\n",
      "Training:  24%|██▍       | 12/50 [00:00<00:00, 113.54it/s]"
     ]
    },
    {
     "name": "stdout",
     "output_type": "stream",
     "text": [
      "198.26666666666668\n"
     ]
    },
    {
     "name": "stderr",
     "output_type": "stream",
     "text": [
      "Training: 100%|██████████| 50/50 [00:00<00:00, 114.20it/s]\n",
      "Evaluating: 100%|██████████| 30/30 [00:00<00:00, 31.31it/s]\n",
      "Training:  26%|██▌       | 13/50 [00:00<00:00, 127.85it/s]"
     ]
    },
    {
     "name": "stdout",
     "output_type": "stream",
     "text": [
      "199.3\n"
     ]
    },
    {
     "name": "stderr",
     "output_type": "stream",
     "text": [
      "Training: 100%|██████████| 50/50 [00:00<00:00, 111.55it/s]\n",
      "Evaluating: 100%|██████████| 30/30 [00:00<00:00, 35.15it/s]\n",
      "Training:  24%|██▍       | 12/50 [00:00<00:00, 119.21it/s]"
     ]
    },
    {
     "name": "stdout",
     "output_type": "stream",
     "text": [
      "172.9\n"
     ]
    },
    {
     "name": "stderr",
     "output_type": "stream",
     "text": [
      "Training: 100%|██████████| 50/50 [00:00<00:00, 115.56it/s]\n",
      "Evaluating: 100%|██████████| 30/30 [00:00<00:00, 52.15it/s]\n",
      "Training:  30%|███       | 15/50 [00:00<00:00, 143.43it/s]"
     ]
    },
    {
     "name": "stdout",
     "output_type": "stream",
     "text": [
      "111.06666666666666\n"
     ]
    },
    {
     "name": "stderr",
     "output_type": "stream",
     "text": [
      "Training: 100%|██████████| 50/50 [00:00<00:00, 132.30it/s]\n",
      "Evaluating: 100%|██████████| 30/30 [00:00<00:00, 31.95it/s]\n",
      "Training:  28%|██▊       | 14/50 [00:00<00:00, 134.76it/s]"
     ]
    },
    {
     "name": "stdout",
     "output_type": "stream",
     "text": [
      "191.36666666666667\n"
     ]
    },
    {
     "name": "stderr",
     "output_type": "stream",
     "text": [
      "Training: 100%|██████████| 50/50 [00:00<00:00, 109.36it/s]\n",
      "Evaluating: 100%|██████████| 30/30 [00:00<00:00, 35.83it/s]\n",
      "Training:  28%|██▊       | 14/50 [00:00<00:00, 138.27it/s]"
     ]
    },
    {
     "name": "stdout",
     "output_type": "stream",
     "text": [
      "171.7\n"
     ]
    },
    {
     "name": "stderr",
     "output_type": "stream",
     "text": [
      "Training: 100%|██████████| 50/50 [00:00<00:00, 117.40it/s]\n",
      "Evaluating: 100%|██████████| 30/30 [00:00<00:00, 31.21it/s]\n",
      "Training:  24%|██▍       | 12/50 [00:00<00:00, 108.24it/s]"
     ]
    },
    {
     "name": "stdout",
     "output_type": "stream",
     "text": [
      "200.0\n"
     ]
    },
    {
     "name": "stderr",
     "output_type": "stream",
     "text": [
      "Training: 100%|██████████| 50/50 [00:00<00:00, 112.96it/s]\n",
      "Evaluating: 100%|██████████| 30/30 [00:00<00:00, 56.73it/s]\n",
      "Training:  32%|███▏      | 16/50 [00:00<00:00, 150.10it/s]"
     ]
    },
    {
     "name": "stdout",
     "output_type": "stream",
     "text": [
      "94.36666666666666\n"
     ]
    },
    {
     "name": "stderr",
     "output_type": "stream",
     "text": [
      "Training: 100%|██████████| 50/50 [00:00<00:00, 107.67it/s]\n",
      "Evaluating: 100%|██████████| 30/30 [00:01<00:00, 27.07it/s]\n",
      "Training:  20%|██        | 10/50 [00:00<00:00, 94.01it/s]"
     ]
    },
    {
     "name": "stdout",
     "output_type": "stream",
     "text": [
      "200.0\n"
     ]
    },
    {
     "name": "stderr",
     "output_type": "stream",
     "text": [
      "Training: 100%|██████████| 50/50 [00:00<00:00, 91.16it/s]\n",
      "Evaluating: 100%|██████████| 30/30 [00:01<00:00, 24.83it/s]\n",
      "Training:  22%|██▏       | 11/50 [00:00<00:00, 98.49it/s]"
     ]
    },
    {
     "name": "stdout",
     "output_type": "stream",
     "text": [
      "198.46666666666667\n"
     ]
    },
    {
     "name": "stderr",
     "output_type": "stream",
     "text": [
      "Training: 100%|██████████| 50/50 [00:00<00:00, 124.67it/s]\n",
      "Evaluating: 100%|██████████| 30/30 [00:00<00:00, 30.99it/s]\n",
      "Training:  24%|██▍       | 12/50 [00:00<00:00, 117.26it/s]"
     ]
    },
    {
     "name": "stdout",
     "output_type": "stream",
     "text": [
      "200.0\n"
     ]
    },
    {
     "name": "stderr",
     "output_type": "stream",
     "text": [
      "Training: 100%|██████████| 50/50 [00:00<00:00, 117.85it/s]\n",
      "Evaluating: 100%|██████████| 30/30 [00:00<00:00, 33.44it/s]\n",
      "Training:  20%|██        | 10/50 [00:00<00:00, 98.49it/s]"
     ]
    },
    {
     "name": "stdout",
     "output_type": "stream",
     "text": [
      "183.36666666666667\n"
     ]
    },
    {
     "name": "stderr",
     "output_type": "stream",
     "text": [
      "Training: 100%|██████████| 50/50 [00:00<00:00, 116.27it/s]\n",
      "Evaluating: 100%|██████████| 30/30 [00:00<00:00, 31.07it/s]\n",
      "Training:  24%|██▍       | 12/50 [00:00<00:00, 113.82it/s]"
     ]
    },
    {
     "name": "stdout",
     "output_type": "stream",
     "text": [
      "200.0\n"
     ]
    },
    {
     "name": "stderr",
     "output_type": "stream",
     "text": [
      "Training: 100%|██████████| 50/50 [00:00<00:00, 125.55it/s]\n",
      "Evaluating: 100%|██████████| 30/30 [00:00<00:00, 30.90it/s]\n",
      "Training:  16%|█▌        | 8/50 [00:00<00:00, 78.97it/s]"
     ]
    },
    {
     "name": "stdout",
     "output_type": "stream",
     "text": [
      "200.0\n"
     ]
    },
    {
     "name": "stderr",
     "output_type": "stream",
     "text": [
      "Training: 100%|██████████| 50/50 [00:00<00:00, 111.60it/s]\n",
      "Evaluating: 100%|██████████| 30/30 [00:00<00:00, 31.61it/s]\n",
      "Training:  18%|█▊        | 9/50 [00:00<00:00, 86.88it/s]"
     ]
    },
    {
     "name": "stdout",
     "output_type": "stream",
     "text": [
      "194.56666666666666\n"
     ]
    },
    {
     "name": "stderr",
     "output_type": "stream",
     "text": [
      "Training: 100%|██████████| 50/50 [00:00<00:00, 110.04it/s]\n",
      "Evaluating: 100%|██████████| 30/30 [00:01<00:00, 25.67it/s]\n",
      "Training:  24%|██▍       | 12/50 [00:00<00:00, 115.29it/s]"
     ]
    },
    {
     "name": "stdout",
     "output_type": "stream",
     "text": [
      "198.26666666666668\n"
     ]
    },
    {
     "name": "stderr",
     "output_type": "stream",
     "text": [
      "Training: 100%|██████████| 50/50 [00:00<00:00, 114.16it/s]\n",
      "Evaluating: 100%|██████████| 30/30 [00:01<00:00, 25.54it/s]\n",
      "Training:  16%|█▌        | 8/50 [00:00<00:00, 74.89it/s]"
     ]
    },
    {
     "name": "stdout",
     "output_type": "stream",
     "text": [
      "195.53333333333333\n"
     ]
    },
    {
     "name": "stderr",
     "output_type": "stream",
     "text": [
      "Training: 100%|██████████| 50/50 [00:00<00:00, 88.29it/s]\n",
      "Evaluating: 100%|██████████| 30/30 [00:01<00:00, 25.93it/s]\n",
      "Training:  18%|█▊        | 9/50 [00:00<00:00, 73.67it/s]"
     ]
    },
    {
     "name": "stdout",
     "output_type": "stream",
     "text": [
      "194.0\n"
     ]
    },
    {
     "name": "stderr",
     "output_type": "stream",
     "text": [
      "Training: 100%|██████████| 50/50 [00:00<00:00, 90.27it/s]\n",
      "Evaluating: 100%|██████████| 30/30 [00:01<00:00, 24.89it/s]\n",
      "Training:  18%|█▊        | 9/50 [00:00<00:00, 84.97it/s]"
     ]
    },
    {
     "name": "stdout",
     "output_type": "stream",
     "text": [
      "200.0\n"
     ]
    },
    {
     "name": "stderr",
     "output_type": "stream",
     "text": [
      "Training: 100%|██████████| 50/50 [00:00<00:00, 84.75it/s]\n",
      "Evaluating: 100%|██████████| 30/30 [00:01<00:00, 28.73it/s]\n",
      "Training:  18%|█▊        | 9/50 [00:00<00:00, 86.23it/s]"
     ]
    },
    {
     "name": "stdout",
     "output_type": "stream",
     "text": [
      "170.83333333333334\n"
     ]
    },
    {
     "name": "stderr",
     "output_type": "stream",
     "text": [
      "Training: 100%|██████████| 50/50 [00:00<00:00, 88.76it/s]\n",
      "Evaluating: 100%|██████████| 30/30 [00:01<00:00, 25.04it/s]\n",
      "Training:  20%|██        | 10/50 [00:00<00:00, 85.73it/s]"
     ]
    },
    {
     "name": "stdout",
     "output_type": "stream",
     "text": [
      "198.33333333333334\n"
     ]
    },
    {
     "name": "stderr",
     "output_type": "stream",
     "text": [
      "Training: 100%|██████████| 50/50 [00:00<00:00, 100.74it/s]\n",
      "Evaluating: 100%|██████████| 30/30 [00:01<00:00, 25.53it/s]\n",
      "Training:  22%|██▏       | 11/50 [00:00<00:00, 109.06it/s]"
     ]
    },
    {
     "name": "stdout",
     "output_type": "stream",
     "text": [
      "195.53333333333333\n"
     ]
    },
    {
     "name": "stderr",
     "output_type": "stream",
     "text": [
      "Training: 100%|██████████| 50/50 [00:00<00:00, 105.17it/s]\n",
      "Evaluating: 100%|██████████| 30/30 [00:01<00:00, 24.97it/s]\n",
      "Training:  22%|██▏       | 11/50 [00:00<00:00, 109.06it/s]"
     ]
    },
    {
     "name": "stdout",
     "output_type": "stream",
     "text": [
      "198.03333333333333\n"
     ]
    },
    {
     "name": "stderr",
     "output_type": "stream",
     "text": [
      "Training: 100%|██████████| 50/50 [00:00<00:00, 110.13it/s]\n",
      "Evaluating: 100%|██████████| 30/30 [00:00<00:00, 32.10it/s]\n",
      "Training:  18%|█▊        | 9/50 [00:00<00:00, 75.33it/s]"
     ]
    },
    {
     "name": "stdout",
     "output_type": "stream",
     "text": [
      "194.16666666666666\n"
     ]
    },
    {
     "name": "stderr",
     "output_type": "stream",
     "text": [
      "Training: 100%|██████████| 50/50 [00:00<00:00, 113.95it/s]\n",
      "Evaluating: 100%|██████████| 30/30 [00:00<00:00, 34.52it/s]\n",
      "Training:  20%|██        | 10/50 [00:00<00:00, 96.26it/s]"
     ]
    },
    {
     "name": "stdout",
     "output_type": "stream",
     "text": [
      "169.36666666666667\n"
     ]
    },
    {
     "name": "stderr",
     "output_type": "stream",
     "text": [
      "Training: 100%|██████████| 50/50 [00:00<00:00, 115.07it/s]\n",
      "Evaluating: 100%|██████████| 30/30 [00:00<00:00, 41.64it/s]\n",
      "Training:  28%|██▊       | 14/50 [00:00<00:00, 136.54it/s]"
     ]
    },
    {
     "name": "stdout",
     "output_type": "stream",
     "text": [
      "141.23333333333332\n"
     ]
    },
    {
     "name": "stderr",
     "output_type": "stream",
     "text": [
      "Training: 100%|██████████| 50/50 [00:00<00:00, 138.22it/s]\n",
      "Evaluating: 100%|██████████| 30/30 [00:00<00:00, 32.47it/s]\n",
      "Training:  20%|██        | 10/50 [00:00<00:00, 84.60it/s]"
     ]
    },
    {
     "name": "stdout",
     "output_type": "stream",
     "text": [
      "178.2\n"
     ]
    },
    {
     "name": "stderr",
     "output_type": "stream",
     "text": [
      "Training: 100%|██████████| 50/50 [00:00<00:00, 92.95it/s]\n",
      "Evaluating: 100%|██████████| 30/30 [00:01<00:00, 28.46it/s]\n",
      "Training:  24%|██▍       | 12/50 [00:00<00:00, 110.85it/s]"
     ]
    },
    {
     "name": "stdout",
     "output_type": "stream",
     "text": [
      "199.86666666666667\n"
     ]
    },
    {
     "name": "stderr",
     "output_type": "stream",
     "text": [
      "Training: 100%|██████████| 50/50 [00:00<00:00, 112.63it/s]\n",
      "Evaluating: 100%|██████████| 30/30 [00:00<00:00, 48.16it/s]\n",
      "Training:  20%|██        | 10/50 [00:00<00:00, 99.25it/s]"
     ]
    },
    {
     "name": "stdout",
     "output_type": "stream",
     "text": [
      "124.0\n"
     ]
    },
    {
     "name": "stderr",
     "output_type": "stream",
     "text": [
      "Training: 100%|██████████| 50/50 [00:00<00:00, 115.94it/s]\n",
      "Evaluating: 100%|██████████| 30/30 [00:00<00:00, 50.81it/s]\n",
      "Training:  30%|███       | 15/50 [00:00<00:00, 149.86it/s]"
     ]
    },
    {
     "name": "stdout",
     "output_type": "stream",
     "text": [
      "118.63333333333334\n"
     ]
    },
    {
     "name": "stderr",
     "output_type": "stream",
     "text": [
      "Training: 100%|██████████| 50/50 [00:00<00:00, 141.86it/s]\n",
      "Evaluating: 100%|██████████| 30/30 [00:00<00:00, 49.32it/s]\n",
      "Training:  18%|█▊        | 9/50 [00:00<00:00, 86.01it/s]"
     ]
    },
    {
     "name": "stdout",
     "output_type": "stream",
     "text": [
      "127.3\n"
     ]
    },
    {
     "name": "stderr",
     "output_type": "stream",
     "text": [
      "Training: 100%|██████████| 50/50 [00:00<00:00, 108.88it/s]\n",
      "Evaluating: 100%|██████████| 30/30 [00:00<00:00, 75.01it/s]\n",
      "Training:  26%|██▌       | 13/50 [00:00<00:00, 124.87it/s]"
     ]
    },
    {
     "name": "stdout",
     "output_type": "stream",
     "text": [
      "78.73333333333333\n"
     ]
    },
    {
     "name": "stderr",
     "output_type": "stream",
     "text": [
      "Training: 100%|██████████| 50/50 [00:00<00:00, 125.98it/s]\n",
      "Evaluating: 100%|██████████| 30/30 [00:00<00:00, 59.85it/s]\n",
      "Training:  16%|█▌        | 8/50 [00:00<00:00, 76.26it/s]"
     ]
    },
    {
     "name": "stdout",
     "output_type": "stream",
     "text": [
      "100.16666666666667\n"
     ]
    },
    {
     "name": "stderr",
     "output_type": "stream",
     "text": [
      "Training: 100%|██████████| 50/50 [00:00<00:00, 108.05it/s]\n",
      "Evaluating: 100%|██████████| 30/30 [00:00<00:00, 49.33it/s]\n",
      "Training:  26%|██▌       | 13/50 [00:00<00:00, 128.03it/s]"
     ]
    },
    {
     "name": "stdout",
     "output_type": "stream",
     "text": [
      "118.96666666666667\n"
     ]
    },
    {
     "name": "stderr",
     "output_type": "stream",
     "text": [
      "Training: 100%|██████████| 50/50 [00:00<00:00, 117.59it/s]\n",
      "Evaluating: 100%|██████████| 30/30 [00:00<00:00, 38.50it/s]\n",
      "Training:  24%|██▍       | 12/50 [00:00<00:00, 119.07it/s]"
     ]
    },
    {
     "name": "stdout",
     "output_type": "stream",
     "text": [
      "156.7\n"
     ]
    },
    {
     "name": "stderr",
     "output_type": "stream",
     "text": [
      "Training: 100%|██████████| 50/50 [00:00<00:00, 113.96it/s]\n",
      "Evaluating: 100%|██████████| 30/30 [00:00<00:00, 47.85it/s]\n",
      "Training:  20%|██        | 10/50 [00:00<00:00, 94.94it/s]"
     ]
    },
    {
     "name": "stdout",
     "output_type": "stream",
     "text": [
      "128.36666666666667\n"
     ]
    },
    {
     "name": "stderr",
     "output_type": "stream",
     "text": [
      "Training: 100%|██████████| 50/50 [00:00<00:00, 90.97it/s] \n",
      "Evaluating: 100%|██████████| 30/30 [00:00<00:00, 64.78it/s]\n",
      "Training:  26%|██▌       | 13/50 [00:00<00:00, 122.97it/s]"
     ]
    },
    {
     "name": "stdout",
     "output_type": "stream",
     "text": [
      "91.1\n"
     ]
    },
    {
     "name": "stderr",
     "output_type": "stream",
     "text": [
      "Training: 100%|██████████| 50/50 [00:00<00:00, 120.72it/s]\n",
      "Evaluating: 100%|██████████| 30/30 [00:00<00:00, 48.24it/s]\n",
      "Training:  22%|██▏       | 11/50 [00:00<00:00, 105.31it/s]"
     ]
    },
    {
     "name": "stdout",
     "output_type": "stream",
     "text": [
      "125.83333333333333\n"
     ]
    },
    {
     "name": "stderr",
     "output_type": "stream",
     "text": [
      "Training: 100%|██████████| 50/50 [00:00<00:00, 119.56it/s]\n",
      "Evaluating: 100%|██████████| 30/30 [00:00<00:00, 59.45it/s]\n",
      "Training:  28%|██▊       | 14/50 [00:00<00:00, 134.24it/s]"
     ]
    },
    {
     "name": "stdout",
     "output_type": "stream",
     "text": [
      "100.56666666666666\n"
     ]
    },
    {
     "name": "stderr",
     "output_type": "stream",
     "text": [
      "Training: 100%|██████████| 50/50 [00:00<00:00, 126.64it/s]\n",
      "Evaluating: 100%|██████████| 30/30 [00:00<00:00, 55.40it/s]\n",
      "Training:  26%|██▌       | 13/50 [00:00<00:00, 129.44it/s]"
     ]
    },
    {
     "name": "stdout",
     "output_type": "stream",
     "text": [
      "108.03333333333333\n"
     ]
    },
    {
     "name": "stderr",
     "output_type": "stream",
     "text": [
      "Training: 100%|██████████| 50/50 [00:00<00:00, 117.67it/s]\n",
      "Evaluating: 100%|██████████| 30/30 [00:00<00:00, 55.18it/s]\n",
      "Training:  18%|█▊        | 9/50 [00:00<00:00, 84.86it/s]"
     ]
    },
    {
     "name": "stdout",
     "output_type": "stream",
     "text": [
      "99.26666666666667\n"
     ]
    },
    {
     "name": "stderr",
     "output_type": "stream",
     "text": [
      "Training: 100%|██████████| 50/50 [00:00<00:00, 108.86it/s]\n",
      "Evaluating: 100%|██████████| 30/30 [00:00<00:00, 41.63it/s]\n",
      "Training:  22%|██▏       | 11/50 [00:00<00:00, 98.98it/s]"
     ]
    },
    {
     "name": "stdout",
     "output_type": "stream",
     "text": [
      "144.5\n"
     ]
    },
    {
     "name": "stderr",
     "output_type": "stream",
     "text": [
      "Training: 100%|██████████| 50/50 [00:00<00:00, 107.88it/s]\n",
      "Evaluating: 100%|██████████| 30/30 [00:00<00:00, 34.25it/s]\n",
      "Training:  18%|█▊        | 9/50 [00:00<00:00, 79.09it/s]"
     ]
    },
    {
     "name": "stdout",
     "output_type": "stream",
     "text": [
      "173.96666666666667\n"
     ]
    },
    {
     "name": "stderr",
     "output_type": "stream",
     "text": [
      "Training: 100%|██████████| 50/50 [00:00<00:00, 100.75it/s]\n",
      "Evaluating: 100%|██████████| 30/30 [00:00<00:00, 78.73it/s]\n",
      "Training:  26%|██▌       | 13/50 [00:00<00:00, 124.80it/s]"
     ]
    },
    {
     "name": "stdout",
     "output_type": "stream",
     "text": [
      "74.06666666666666\n"
     ]
    },
    {
     "name": "stderr",
     "output_type": "stream",
     "text": [
      "Training: 100%|██████████| 50/50 [00:00<00:00, 127.14it/s]\n",
      "Evaluating: 100%|██████████| 30/30 [00:00<00:00, 67.19it/s]\n",
      "Training:  22%|██▏       | 11/50 [00:00<00:00, 101.54it/s]"
     ]
    },
    {
     "name": "stdout",
     "output_type": "stream",
     "text": [
      "87.76666666666667\n"
     ]
    },
    {
     "name": "stderr",
     "output_type": "stream",
     "text": [
      "Training: 100%|██████████| 50/50 [00:00<00:00, 116.44it/s]\n",
      "Evaluating: 100%|██████████| 30/30 [00:00<00:00, 34.89it/s]\n",
      "Training:  20%|██        | 10/50 [00:00<00:00, 88.05it/s]"
     ]
    },
    {
     "name": "stdout",
     "output_type": "stream",
     "text": [
      "175.33333333333334\n"
     ]
    },
    {
     "name": "stderr",
     "output_type": "stream",
     "text": [
      "Training: 100%|██████████| 50/50 [00:00<00:00, 111.50it/s]\n",
      "Evaluating: 100%|██████████| 30/30 [00:00<00:00, 75.09it/s]\n",
      "Training:  24%|██▍       | 12/50 [00:00<00:00, 96.31it/s]"
     ]
    },
    {
     "name": "stdout",
     "output_type": "stream",
     "text": [
      "78.16666666666667\n"
     ]
    },
    {
     "name": "stderr",
     "output_type": "stream",
     "text": [
      "Training: 100%|██████████| 50/50 [00:00<00:00, 107.89it/s]\n",
      "Evaluating: 100%|██████████| 30/30 [00:00<00:00, 68.47it/s]\n",
      "Training:  24%|██▍       | 12/50 [00:00<00:00, 119.33it/s]"
     ]
    },
    {
     "name": "stdout",
     "output_type": "stream",
     "text": [
      "77.23333333333333\n"
     ]
    },
    {
     "name": "stderr",
     "output_type": "stream",
     "text": [
      "Training: 100%|██████████| 50/50 [00:00<00:00, 119.31it/s]\n",
      "Evaluating: 100%|██████████| 30/30 [00:00<00:00, 41.80it/s]\n",
      "Training:  22%|██▏       | 11/50 [00:00<00:00, 102.38it/s]"
     ]
    },
    {
     "name": "stdout",
     "output_type": "stream",
     "text": [
      "144.16666666666666\n"
     ]
    },
    {
     "name": "stderr",
     "output_type": "stream",
     "text": [
      "Training: 100%|██████████| 50/50 [00:00<00:00, 121.57it/s]\n",
      "Evaluating: 100%|██████████| 30/30 [00:00<00:00, 68.50it/s]\n",
      "Training:  14%|█▍        | 7/50 [00:00<00:00, 67.46it/s]"
     ]
    },
    {
     "name": "stdout",
     "output_type": "stream",
     "text": [
      "75.53333333333333\n"
     ]
    },
    {
     "name": "stderr",
     "output_type": "stream",
     "text": [
      "Training: 100%|██████████| 50/50 [00:00<00:00, 87.46it/s]\n",
      "Evaluating: 100%|██████████| 30/30 [00:00<00:00, 55.04it/s]\n",
      "Training:  18%|█▊        | 9/50 [00:00<00:00, 86.45it/s]"
     ]
    },
    {
     "name": "stdout",
     "output_type": "stream",
     "text": [
      "85.7\n"
     ]
    },
    {
     "name": "stderr",
     "output_type": "stream",
     "text": [
      "Training: 100%|██████████| 50/50 [00:00<00:00, 87.92it/s]\n",
      "Evaluating: 100%|██████████| 30/30 [00:00<00:00, 57.61it/s]\n",
      "Training:  22%|██▏       | 11/50 [00:00<00:00, 98.13it/s]"
     ]
    },
    {
     "name": "stdout",
     "output_type": "stream",
     "text": [
      "81.26666666666667\n"
     ]
    },
    {
     "name": "stderr",
     "output_type": "stream",
     "text": [
      "Training: 100%|██████████| 50/50 [00:00<00:00, 103.96it/s]\n",
      "Evaluating: 100%|██████████| 30/30 [00:00<00:00, 72.78it/s]\n",
      "Training:  24%|██▍       | 12/50 [00:00<00:00, 115.18it/s]"
     ]
    },
    {
     "name": "stdout",
     "output_type": "stream",
     "text": [
      "79.76666666666667\n"
     ]
    },
    {
     "name": "stderr",
     "output_type": "stream",
     "text": [
      "Training: 100%|██████████| 50/50 [00:00<00:00, 113.63it/s]\n",
      "Evaluating: 100%|██████████| 30/30 [00:00<00:00, 62.13it/s]\n",
      "Training:  22%|██▏       | 11/50 [00:00<00:00, 91.68it/s]"
     ]
    },
    {
     "name": "stdout",
     "output_type": "stream",
     "text": [
      "75.46666666666667\n"
     ]
    },
    {
     "name": "stderr",
     "output_type": "stream",
     "text": [
      "Training: 100%|██████████| 50/50 [00:00<00:00, 82.24it/s]\n",
      "Evaluating: 100%|██████████| 30/30 [00:00<00:00, 58.39it/s]\n",
      "Training:  20%|██        | 10/50 [00:00<00:00, 94.61it/s]"
     ]
    },
    {
     "name": "stdout",
     "output_type": "stream",
     "text": [
      "80.63333333333334\n"
     ]
    },
    {
     "name": "stderr",
     "output_type": "stream",
     "text": [
      "Training: 100%|██████████| 50/50 [00:00<00:00, 87.36it/s]\n",
      "Evaluating: 100%|██████████| 30/30 [00:00<00:00, 66.42it/s]\n",
      "Training:  20%|██        | 10/50 [00:00<00:00, 99.96it/s]"
     ]
    },
    {
     "name": "stdout",
     "output_type": "stream",
     "text": [
      "70.1\n"
     ]
    },
    {
     "name": "stderr",
     "output_type": "stream",
     "text": [
      "Training: 100%|██████████| 50/50 [00:00<00:00, 109.19it/s]\n",
      "Evaluating: 100%|██████████| 30/30 [00:00<00:00, 73.71it/s]\n",
      "Training:  24%|██▍       | 12/50 [00:00<00:00, 115.72it/s]"
     ]
    },
    {
     "name": "stdout",
     "output_type": "stream",
     "text": [
      "68.56666666666666\n"
     ]
    },
    {
     "name": "stderr",
     "output_type": "stream",
     "text": [
      "Training: 100%|██████████| 50/50 [00:00<00:00, 115.53it/s]\n",
      "Evaluating: 100%|██████████| 30/30 [00:00<00:00, 70.24it/s]\n",
      "Training:  22%|██▏       | 11/50 [00:00<00:00, 109.98it/s]"
     ]
    },
    {
     "name": "stdout",
     "output_type": "stream",
     "text": [
      "72.3\n"
     ]
    },
    {
     "name": "stderr",
     "output_type": "stream",
     "text": [
      "Training: 100%|██████████| 50/50 [00:00<00:00, 114.81it/s]\n",
      "Evaluating: 100%|██████████| 30/30 [00:00<00:00, 85.59it/s]\n",
      "Training:  26%|██▌       | 13/50 [00:00<00:00, 124.66it/s]"
     ]
    },
    {
     "name": "stdout",
     "output_type": "stream",
     "text": [
      "66.3\n"
     ]
    },
    {
     "name": "stderr",
     "output_type": "stream",
     "text": [
      "Training: 100%|██████████| 50/50 [00:00<00:00, 118.18it/s]\n",
      "Evaluating: 100%|██████████| 30/30 [00:00<00:00, 82.45it/s]\n",
      "Training:  28%|██▊       | 14/50 [00:00<00:00, 138.64it/s]"
     ]
    },
    {
     "name": "stdout",
     "output_type": "stream",
     "text": [
      "70.53333333333333\n"
     ]
    },
    {
     "name": "stderr",
     "output_type": "stream",
     "text": [
      "Training: 100%|██████████| 50/50 [00:00<00:00, 140.30it/s]\n",
      "Evaluating: 100%|██████████| 30/30 [00:00<00:00, 83.37it/s]\n",
      "Training:  14%|█▍        | 7/50 [00:00<00:00, 69.07it/s]"
     ]
    },
    {
     "name": "stdout",
     "output_type": "stream",
     "text": [
      "69.76666666666667\n"
     ]
    },
    {
     "name": "stderr",
     "output_type": "stream",
     "text": [
      "Training: 100%|██████████| 50/50 [00:00<00:00, 79.76it/s]\n",
      "Evaluating: 100%|██████████| 30/30 [00:00<00:00, 68.77it/s]\n",
      "Training:  16%|█▌        | 8/50 [00:00<00:00, 69.64it/s]"
     ]
    },
    {
     "name": "stdout",
     "output_type": "stream",
     "text": [
      "66.3\n"
     ]
    },
    {
     "name": "stderr",
     "output_type": "stream",
     "text": [
      "Training: 100%|██████████| 50/50 [00:00<00:00, 91.13it/s]\n",
      "Evaluating: 100%|██████████| 30/30 [00:00<00:00, 78.66it/s]\n",
      "Training:  22%|██▏       | 11/50 [00:00<00:00, 107.59it/s]"
     ]
    },
    {
     "name": "stdout",
     "output_type": "stream",
     "text": [
      "63.1\n"
     ]
    },
    {
     "name": "stderr",
     "output_type": "stream",
     "text": [
      "Training: 100%|██████████| 50/50 [00:00<00:00, 108.34it/s]\n",
      "Evaluating: 100%|██████████| 30/30 [00:00<00:00, 87.42it/s]\n",
      "Training:  26%|██▌       | 13/50 [00:00<00:00, 118.44it/s]"
     ]
    },
    {
     "name": "stdout",
     "output_type": "stream",
     "text": [
      "61.03333333333333\n"
     ]
    },
    {
     "name": "stderr",
     "output_type": "stream",
     "text": [
      "Training: 100%|██████████| 50/50 [00:00<00:00, 116.26it/s]\n",
      "Evaluating: 100%|██████████| 30/30 [00:00<00:00, 91.50it/s]\n",
      "Training:  22%|██▏       | 11/50 [00:00<00:00, 109.99it/s]"
     ]
    },
    {
     "name": "stdout",
     "output_type": "stream",
     "text": [
      "62.5\n"
     ]
    },
    {
     "name": "stderr",
     "output_type": "stream",
     "text": [
      "Training: 100%|██████████| 50/50 [00:00<00:00, 116.51it/s]\n",
      "Evaluating: 100%|██████████| 30/30 [00:00<00:00, 97.69it/s]\n",
      "Training:  26%|██▌       | 13/50 [00:00<00:00, 118.36it/s]"
     ]
    },
    {
     "name": "stdout",
     "output_type": "stream",
     "text": [
      "58.833333333333336\n"
     ]
    },
    {
     "name": "stderr",
     "output_type": "stream",
     "text": [
      "Training: 100%|██████████| 50/50 [00:00<00:00, 113.47it/s]\n",
      "Evaluating: 100%|██████████| 30/30 [00:00<00:00, 37.89it/s]\n",
      "Training:  22%|██▏       | 11/50 [00:00<00:00, 106.68it/s]"
     ]
    },
    {
     "name": "stdout",
     "output_type": "stream",
     "text": [
      "146.4\n"
     ]
    },
    {
     "name": "stderr",
     "output_type": "stream",
     "text": [
      "Training: 100%|██████████| 50/50 [00:00<00:00, 122.17it/s]\n",
      "Evaluating: 100%|██████████| 30/30 [00:00<00:00, 98.36it/s]\n",
      "Training:  24%|██▍       | 12/50 [00:00<00:00, 118.97it/s]"
     ]
    },
    {
     "name": "stdout",
     "output_type": "stream",
     "text": [
      "54.46666666666667\n"
     ]
    },
    {
     "name": "stderr",
     "output_type": "stream",
     "text": [
      "Training: 100%|██████████| 50/50 [00:00<00:00, 125.66it/s]\n",
      "Evaluating: 100%|██████████| 30/30 [00:00<00:00, 107.13it/s]\n",
      "Training:  28%|██▊       | 14/50 [00:00<00:00, 130.48it/s]"
     ]
    },
    {
     "name": "stdout",
     "output_type": "stream",
     "text": [
      "49.86666666666667\n"
     ]
    },
    {
     "name": "stderr",
     "output_type": "stream",
     "text": [
      "Training: 100%|██████████| 50/50 [00:00<00:00, 117.96it/s]\n",
      "Evaluating: 100%|██████████| 30/30 [00:00<00:00, 104.48it/s]\n",
      "Training:  22%|██▏       | 11/50 [00:00<00:00, 103.66it/s]"
     ]
    },
    {
     "name": "stdout",
     "output_type": "stream",
     "text": [
      "51.53333333333333\n"
     ]
    },
    {
     "name": "stderr",
     "output_type": "stream",
     "text": [
      "Training: 100%|██████████| 50/50 [00:00<00:00, 105.78it/s]\n",
      "Evaluating: 100%|██████████| 30/30 [00:00<00:00, 100.73it/s]\n",
      "Training:  30%|███       | 15/50 [00:00<00:00, 144.64it/s]"
     ]
    },
    {
     "name": "stdout",
     "output_type": "stream",
     "text": [
      "58.266666666666666\n"
     ]
    },
    {
     "name": "stderr",
     "output_type": "stream",
     "text": [
      "Training: 100%|██████████| 50/50 [00:00<00:00, 126.14it/s]\n",
      "Evaluating: 100%|██████████| 30/30 [00:00<00:00, 105.77it/s]\n",
      "Training:  26%|██▌       | 13/50 [00:00<00:00, 124.49it/s]"
     ]
    },
    {
     "name": "stdout",
     "output_type": "stream",
     "text": [
      "55.733333333333334\n"
     ]
    },
    {
     "name": "stderr",
     "output_type": "stream",
     "text": [
      "Training: 100%|██████████| 50/50 [00:00<00:00, 116.20it/s]\n",
      "Evaluating: 100%|██████████| 30/30 [00:00<00:00, 101.31it/s]\n",
      "Training:  18%|█▊        | 9/50 [00:00<00:00, 88.53it/s]"
     ]
    },
    {
     "name": "stdout",
     "output_type": "stream",
     "text": [
      "53.5\n"
     ]
    },
    {
     "name": "stderr",
     "output_type": "stream",
     "text": [
      "Training: 100%|██████████| 50/50 [00:00<00:00, 109.67it/s]\n",
      "Evaluating: 100%|██████████| 30/30 [00:00<00:00, 93.54it/s]\n",
      "Training:  24%|██▍       | 12/50 [00:00<00:00, 116.05it/s]"
     ]
    },
    {
     "name": "stdout",
     "output_type": "stream",
     "text": [
      "57.56666666666667\n"
     ]
    },
    {
     "name": "stderr",
     "output_type": "stream",
     "text": [
      "Training: 100%|██████████| 50/50 [00:00<00:00, 119.24it/s]\n",
      "Evaluating: 100%|██████████| 30/30 [00:00<00:00, 95.81it/s]\n",
      "Training:  20%|██        | 10/50 [00:00<00:00, 93.09it/s]"
     ]
    },
    {
     "name": "stdout",
     "output_type": "stream",
     "text": [
      "56.5\n"
     ]
    },
    {
     "name": "stderr",
     "output_type": "stream",
     "text": [
      "Training: 100%|██████████| 50/50 [00:00<00:00, 111.78it/s]\n",
      "Evaluating: 100%|██████████| 30/30 [00:00<00:00, 104.40it/s]\n",
      "Training:  26%|██▌       | 13/50 [00:00<00:00, 125.67it/s]"
     ]
    },
    {
     "name": "stdout",
     "output_type": "stream",
     "text": [
      "51.666666666666664\n"
     ]
    },
    {
     "name": "stderr",
     "output_type": "stream",
     "text": [
      "Training: 100%|██████████| 50/50 [00:00<00:00, 120.18it/s]\n",
      "Evaluating: 100%|██████████| 30/30 [00:00<00:00, 103.57it/s]\n",
      "Training:  20%|██        | 10/50 [00:00<00:00, 94.49it/s]"
     ]
    },
    {
     "name": "stdout",
     "output_type": "stream",
     "text": [
      "52.13333333333333\n"
     ]
    },
    {
     "name": "stderr",
     "output_type": "stream",
     "text": [
      "Training: 100%|██████████| 50/50 [00:00<00:00, 106.87it/s]\n",
      "Evaluating: 100%|██████████| 30/30 [00:00<00:00, 110.40it/s]\n",
      "Training:  26%|██▌       | 13/50 [00:00<00:00, 125.20it/s]"
     ]
    },
    {
     "name": "stdout",
     "output_type": "stream",
     "text": [
      "48.86666666666667\n"
     ]
    },
    {
     "name": "stderr",
     "output_type": "stream",
     "text": [
      "Training: 100%|██████████| 50/50 [00:00<00:00, 114.51it/s]\n",
      "Evaluating: 100%|██████████| 30/30 [00:00<00:00, 104.71it/s]\n",
      "Training:  26%|██▌       | 13/50 [00:00<00:00, 129.66it/s]"
     ]
    },
    {
     "name": "stdout",
     "output_type": "stream",
     "text": [
      "51.833333333333336\n"
     ]
    },
    {
     "name": "stderr",
     "output_type": "stream",
     "text": [
      "Training: 100%|██████████| 50/50 [00:00<00:00, 126.97it/s]\n",
      "Evaluating: 100%|██████████| 30/30 [00:00<00:00, 104.86it/s]\n",
      "Training:  30%|███       | 15/50 [00:00<00:00, 143.27it/s]"
     ]
    },
    {
     "name": "stdout",
     "output_type": "stream",
     "text": [
      "50.833333333333336\n"
     ]
    },
    {
     "name": "stderr",
     "output_type": "stream",
     "text": [
      "Training: 100%|██████████| 50/50 [00:00<00:00, 128.02it/s]\n",
      "Evaluating: 100%|██████████| 30/30 [00:00<00:00, 106.28it/s]\n",
      "Training:  20%|██        | 10/50 [00:00<00:00, 96.78it/s]"
     ]
    },
    {
     "name": "stdout",
     "output_type": "stream",
     "text": [
      "49.93333333333333\n"
     ]
    },
    {
     "name": "stderr",
     "output_type": "stream",
     "text": [
      "Training: 100%|██████████| 50/50 [00:00<00:00, 107.45it/s]\n",
      "Evaluating: 100%|██████████| 30/30 [00:00<00:00, 107.12it/s]\n",
      "Training:  22%|██▏       | 11/50 [00:00<00:00, 105.05it/s]"
     ]
    },
    {
     "name": "stdout",
     "output_type": "stream",
     "text": [
      "52.43333333333333\n"
     ]
    },
    {
     "name": "stderr",
     "output_type": "stream",
     "text": [
      "Training: 100%|██████████| 50/50 [00:00<00:00, 107.45it/s]\n",
      "Evaluating: 100%|██████████| 30/30 [00:00<00:00, 113.02it/s]\n",
      "Training:  26%|██▌       | 13/50 [00:00<00:00, 127.84it/s]"
     ]
    },
    {
     "name": "stdout",
     "output_type": "stream",
     "text": [
      "49.46666666666667\n"
     ]
    },
    {
     "name": "stderr",
     "output_type": "stream",
     "text": [
      "Training: 100%|██████████| 50/50 [00:00<00:00, 110.73it/s]\n",
      "Evaluating: 100%|██████████| 30/30 [00:00<00:00, 76.46it/s]\n",
      "Training:  20%|██        | 10/50 [00:00<00:00, 97.34it/s]"
     ]
    },
    {
     "name": "stdout",
     "output_type": "stream",
     "text": [
      "57.6\n"
     ]
    },
    {
     "name": "stderr",
     "output_type": "stream",
     "text": [
      "Training: 100%|██████████| 50/50 [00:00<00:00, 94.63it/s]\n",
      "Evaluating: 100%|██████████| 30/30 [00:00<00:00, 87.26it/s]\n",
      "Training:  28%|██▊       | 14/50 [00:00<00:00, 125.09it/s]"
     ]
    },
    {
     "name": "stdout",
     "output_type": "stream",
     "text": [
      "56.8\n"
     ]
    },
    {
     "name": "stderr",
     "output_type": "stream",
     "text": [
      "Training: 100%|██████████| 50/50 [00:00<00:00, 119.24it/s]\n",
      "Evaluating: 100%|██████████| 30/30 [00:00<00:00, 69.10it/s]\n",
      "Training:  26%|██▌       | 13/50 [00:00<00:00, 124.81it/s]"
     ]
    },
    {
     "name": "stdout",
     "output_type": "stream",
     "text": [
      "73.93333333333334\n"
     ]
    },
    {
     "name": "stderr",
     "output_type": "stream",
     "text": [
      "Training: 100%|██████████| 50/50 [00:00<00:00, 121.26it/s]\n",
      "Evaluating: 100%|██████████| 30/30 [00:00<00:00, 89.85it/s]\n",
      "Training:  22%|██▏       | 11/50 [00:00<00:00, 103.56it/s]"
     ]
    },
    {
     "name": "stdout",
     "output_type": "stream",
     "text": [
      "65.03333333333333\n"
     ]
    },
    {
     "name": "stderr",
     "output_type": "stream",
     "text": [
      "Training: 100%|██████████| 50/50 [00:00<00:00, 121.40it/s]\n",
      "Evaluating: 100%|██████████| 30/30 [00:00<00:00, 77.13it/s]\n",
      "Training:  16%|█▌        | 8/50 [00:00<00:00, 75.85it/s]"
     ]
    },
    {
     "name": "stdout",
     "output_type": "stream",
     "text": [
      "75.7\n"
     ]
    },
    {
     "name": "stderr",
     "output_type": "stream",
     "text": [
      "Training: 100%|██████████| 50/50 [00:00<00:00, 89.67it/s]\n",
      "Evaluating: 100%|██████████| 30/30 [00:00<00:00, 65.44it/s]\n",
      "Training:  24%|██▍       | 12/50 [00:00<00:00, 119.67it/s]"
     ]
    },
    {
     "name": "stdout",
     "output_type": "stream",
     "text": [
      "69.6\n"
     ]
    },
    {
     "name": "stderr",
     "output_type": "stream",
     "text": [
      "Training: 100%|██████████| 50/50 [00:00<00:00, 120.82it/s]\n",
      "Evaluating: 100%|██████████| 30/30 [00:00<00:00, 80.66it/s]\n",
      "Training:  20%|██        | 10/50 [00:00<00:00, 93.42it/s]"
     ]
    },
    {
     "name": "stdout",
     "output_type": "stream",
     "text": [
      "69.16666666666667\n"
     ]
    },
    {
     "name": "stderr",
     "output_type": "stream",
     "text": [
      "Training: 100%|██████████| 50/50 [00:00<00:00, 113.02it/s]\n",
      "Evaluating: 100%|██████████| 30/30 [00:00<00:00, 80.41it/s]\n",
      "Training:  20%|██        | 10/50 [00:00<00:00, 95.72it/s]"
     ]
    },
    {
     "name": "stdout",
     "output_type": "stream",
     "text": [
      "71.5\n"
     ]
    },
    {
     "name": "stderr",
     "output_type": "stream",
     "text": [
      "Training: 100%|██████████| 50/50 [00:00<00:00, 120.64it/s]\n",
      "Evaluating: 100%|██████████| 30/30 [00:00<00:00, 82.02it/s]\n",
      "Training:  16%|█▌        | 8/50 [00:00<00:00, 73.16it/s]"
     ]
    },
    {
     "name": "stdout",
     "output_type": "stream",
     "text": [
      "71.36666666666666\n"
     ]
    },
    {
     "name": "stderr",
     "output_type": "stream",
     "text": [
      "Training: 100%|██████████| 50/50 [00:00<00:00, 103.77it/s]\n",
      "Evaluating: 100%|██████████| 30/30 [00:00<00:00, 82.76it/s]\n",
      "Training:  28%|██▊       | 14/50 [00:00<00:00, 119.82it/s]"
     ]
    },
    {
     "name": "stdout",
     "output_type": "stream",
     "text": [
      "69.43333333333334\n"
     ]
    },
    {
     "name": "stderr",
     "output_type": "stream",
     "text": [
      "Training: 100%|██████████| 50/50 [00:00<00:00, 119.74it/s]\n",
      "Evaluating: 100%|██████████| 30/30 [00:00<00:00, 80.63it/s]\n",
      "Training:  28%|██▊       | 14/50 [00:00<00:00, 131.01it/s]"
     ]
    },
    {
     "name": "stdout",
     "output_type": "stream",
     "text": [
      "71.7\n"
     ]
    },
    {
     "name": "stderr",
     "output_type": "stream",
     "text": [
      "Training: 100%|██████████| 50/50 [00:00<00:00, 114.95it/s]\n",
      "Evaluating: 100%|██████████| 30/30 [00:00<00:00, 69.70it/s]\n",
      "Training:  20%|██        | 10/50 [00:00<00:00, 96.97it/s]"
     ]
    },
    {
     "name": "stdout",
     "output_type": "stream",
     "text": [
      "72.0\n"
     ]
    },
    {
     "name": "stderr",
     "output_type": "stream",
     "text": [
      "Training: 100%|██████████| 50/50 [00:00<00:00, 92.68it/s]\n",
      "Evaluating: 100%|██████████| 30/30 [00:00<00:00, 58.69it/s]\n",
      "Training:  18%|█▊        | 9/50 [00:00<00:00, 84.69it/s]"
     ]
    },
    {
     "name": "stdout",
     "output_type": "stream",
     "text": [
      "77.5\n"
     ]
    },
    {
     "name": "stderr",
     "output_type": "stream",
     "text": [
      "Training: 100%|██████████| 50/50 [00:00<00:00, 117.89it/s]\n",
      "Evaluating: 100%|██████████| 30/30 [00:00<00:00, 78.31it/s]\n",
      "Training:  30%|███       | 15/50 [00:00<00:00, 140.29it/s]"
     ]
    },
    {
     "name": "stdout",
     "output_type": "stream",
     "text": [
      "70.33333333333333\n"
     ]
    },
    {
     "name": "stderr",
     "output_type": "stream",
     "text": [
      "Training: 100%|██████████| 50/50 [00:00<00:00, 112.39it/s]\n",
      "Evaluating: 100%|██████████| 30/30 [00:00<00:00, 76.08it/s]\n",
      "Training:  24%|██▍       | 12/50 [00:00<00:00, 115.42it/s]"
     ]
    },
    {
     "name": "stdout",
     "output_type": "stream",
     "text": [
      "74.93333333333334\n"
     ]
    },
    {
     "name": "stderr",
     "output_type": "stream",
     "text": [
      "Training: 100%|██████████| 50/50 [00:00<00:00, 116.33it/s]\n",
      "Evaluating: 100%|██████████| 30/30 [00:00<00:00, 71.56it/s]\n",
      "Training:  22%|██▏       | 11/50 [00:00<00:00, 100.18it/s]"
     ]
    },
    {
     "name": "stdout",
     "output_type": "stream",
     "text": [
      "80.8\n"
     ]
    },
    {
     "name": "stderr",
     "output_type": "stream",
     "text": [
      "Training: 100%|██████████| 50/50 [00:00<00:00, 106.09it/s]\n",
      "Evaluating: 100%|██████████| 30/30 [00:00<00:00, 62.09it/s]\n",
      "Training:  16%|█▌        | 8/50 [00:00<00:00, 76.24it/s]"
     ]
    },
    {
     "name": "stdout",
     "output_type": "stream",
     "text": [
      "91.73333333333333\n"
     ]
    },
    {
     "name": "stderr",
     "output_type": "stream",
     "text": [
      "Training: 100%|██████████| 50/50 [00:00<00:00, 85.43it/s]\n",
      "Evaluating: 100%|██████████| 30/30 [00:00<00:00, 54.41it/s]\n",
      "Training:  14%|█▍        | 7/50 [00:00<00:00, 55.93it/s]"
     ]
    },
    {
     "name": "stdout",
     "output_type": "stream",
     "text": [
      "86.83333333333333\n"
     ]
    },
    {
     "name": "stderr",
     "output_type": "stream",
     "text": [
      "Training: 100%|██████████| 50/50 [00:00<00:00, 97.12it/s]\n",
      "Evaluating: 100%|██████████| 30/30 [00:00<00:00, 65.43it/s]\n",
      "Training:  18%|█▊        | 9/50 [00:00<00:00, 88.59it/s]"
     ]
    },
    {
     "name": "stdout",
     "output_type": "stream",
     "text": [
      "87.33333333333333\n"
     ]
    },
    {
     "name": "stderr",
     "output_type": "stream",
     "text": [
      "Training: 100%|██████████| 50/50 [00:00<00:00, 101.07it/s]\n",
      "Evaluating: 100%|██████████| 30/30 [00:00<00:00, 57.54it/s]\n",
      "Training:  18%|█▊        | 9/50 [00:00<00:00, 88.27it/s]"
     ]
    },
    {
     "name": "stdout",
     "output_type": "stream",
     "text": [
      "100.43333333333334\n"
     ]
    },
    {
     "name": "stderr",
     "output_type": "stream",
     "text": [
      "Training: 100%|██████████| 50/50 [00:00<00:00, 84.91it/s]\n",
      "Evaluating: 100%|██████████| 30/30 [00:00<00:00, 59.14it/s]\n",
      "Training:  20%|██        | 10/50 [00:00<00:00, 89.46it/s]"
     ]
    },
    {
     "name": "stdout",
     "output_type": "stream",
     "text": [
      "85.6\n"
     ]
    },
    {
     "name": "stderr",
     "output_type": "stream",
     "text": [
      "Training: 100%|██████████| 50/50 [00:00<00:00, 88.36it/s]\n",
      "Evaluating: 100%|██████████| 30/30 [00:00<00:00, 56.59it/s]\n",
      "Training:   8%|▊         | 4/50 [00:00<00:01, 38.77it/s]"
     ]
    },
    {
     "name": "stdout",
     "output_type": "stream",
     "text": [
      "82.06666666666666\n"
     ]
    },
    {
     "name": "stderr",
     "output_type": "stream",
     "text": [
      "Training: 100%|██████████| 50/50 [00:00<00:00, 98.93it/s]\n",
      "Evaluating: 100%|██████████| 30/30 [00:00<00:00, 66.31it/s]\n",
      "Training:  16%|█▌        | 8/50 [00:00<00:00, 79.79it/s]"
     ]
    },
    {
     "name": "stdout",
     "output_type": "stream",
     "text": [
      "86.63333333333334\n"
     ]
    },
    {
     "name": "stderr",
     "output_type": "stream",
     "text": [
      "Training: 100%|██████████| 50/50 [00:00<00:00, 97.26it/s]\n",
      "Evaluating: 100%|██████████| 30/30 [00:00<00:00, 50.72it/s]\n",
      "Training:  20%|██        | 10/50 [00:00<00:00, 95.72it/s]"
     ]
    },
    {
     "name": "stdout",
     "output_type": "stream",
     "text": [
      "95.3\n"
     ]
    },
    {
     "name": "stderr",
     "output_type": "stream",
     "text": [
      "Training: 100%|██████████| 50/50 [00:00<00:00, 89.19it/s]\n",
      "Evaluating: 100%|██████████| 30/30 [00:00<00:00, 53.17it/s]\n",
      "Training:  26%|██▌       | 13/50 [00:00<00:00, 121.10it/s]"
     ]
    },
    {
     "name": "stdout",
     "output_type": "stream",
     "text": [
      "87.46666666666667\n"
     ]
    },
    {
     "name": "stderr",
     "output_type": "stream",
     "text": [
      "Training: 100%|██████████| 50/50 [00:00<00:00, 121.48it/s]\n",
      "Evaluating: 100%|██████████| 30/30 [00:00<00:00, 65.75it/s]\n",
      "Training:  18%|█▊        | 9/50 [00:00<00:00, 89.86it/s]"
     ]
    },
    {
     "name": "stdout",
     "output_type": "stream",
     "text": [
      "89.0\n"
     ]
    },
    {
     "name": "stderr",
     "output_type": "stream",
     "text": [
      "Training: 100%|██████████| 50/50 [00:00<00:00, 104.58it/s]\n",
      "Evaluating: 100%|██████████| 30/30 [00:00<00:00, 59.28it/s]\n",
      "Training:  22%|██▏       | 11/50 [00:00<00:00, 99.59it/s]"
     ]
    },
    {
     "name": "stdout",
     "output_type": "stream",
     "text": [
      "91.1\n"
     ]
    },
    {
     "name": "stderr",
     "output_type": "stream",
     "text": [
      "Training: 100%|██████████| 50/50 [00:00<00:00, 87.47it/s]\n",
      "Evaluating: 100%|██████████| 30/30 [00:00<00:00, 54.25it/s]\n",
      "Training:  22%|██▏       | 11/50 [00:00<00:00, 104.85it/s]"
     ]
    },
    {
     "name": "stdout",
     "output_type": "stream",
     "text": [
      "87.36666666666666\n"
     ]
    },
    {
     "name": "stderr",
     "output_type": "stream",
     "text": [
      "Training: 100%|██████████| 50/50 [00:00<00:00, 118.15it/s]\n",
      "Evaluating: 100%|██████████| 30/30 [00:00<00:00, 65.04it/s]\n",
      "Training:  24%|██▍       | 12/50 [00:00<00:00, 109.36it/s]"
     ]
    },
    {
     "name": "stdout",
     "output_type": "stream",
     "text": [
      "90.9\n"
     ]
    },
    {
     "name": "stderr",
     "output_type": "stream",
     "text": [
      "Training: 100%|██████████| 50/50 [00:00<00:00, 115.62it/s]\n",
      "Evaluating: 100%|██████████| 30/30 [00:00<00:00, 65.48it/s]\n",
      "Training:  24%|██▍       | 12/50 [00:00<00:00, 116.15it/s]"
     ]
    },
    {
     "name": "stdout",
     "output_type": "stream",
     "text": [
      "89.5\n"
     ]
    },
    {
     "name": "stderr",
     "output_type": "stream",
     "text": [
      "Training: 100%|██████████| 50/50 [00:00<00:00, 125.20it/s]\n",
      "Evaluating: 100%|██████████| 30/30 [00:00<00:00, 66.56it/s]"
     ]
    },
    {
     "name": "stdout",
     "output_type": "stream",
     "text": [
      "85.56666666666666\n",
      "\n",
      "Learning Performance:\n",
      "\n"
     ]
    },
    {
     "name": "stderr",
     "output_type": "stream",
     "text": [
      "\n"
     ]
    },
    {
     "data": {
      "text/plain": [
       "<Figure size 432x288 with 0 Axes>"
      ]
     },
     "metadata": {},
     "output_type": "display_data"
    },
    {
     "data": {
      "image/png": "[encoded data removed]",
      "text/plain": [
       "<Figure size 432x288 with 1 Axes>"
      ]
     },
     "metadata": {},
     "output_type": "display_data"
    }
   ],
   "source": [
    "training_episodes, test_interval = 10000, 50\n",
    "agent = DQN_agent(env_CartPole, hyperparams_CartPole)\n",
    "result = agent.learn_and_evaluate(training_episodes, test_interval)\n",
    "plot_result(result, test_interval, [\"batch_update with target_model\"])\n"
   ]
  },
  {
   "cell_type": "markdown",
   "metadata": {},
   "source": [
    "***\n",
    "# Part 2: Distributed DQN\n",
    "***\n",
    "\n",
    "Here you will implement a distributed version of the above DQN approach. The distribution approach can be the same as that used for the table-based distribution Q-learning algorithm from homework 3."
   ]
  },
  {
   "cell_type": "markdown",
   "metadata": {},
   "source": [
    "## init Ray"
   ]
  },
  {
   "cell_type": "code",
   "execution_count": null,
   "metadata": {},
   "outputs": [],
   "source": [
    "ray.shutdown()\n",
    "ray.init(include_webui=False, ignore_reinit_error=True, redis_max_memory=500000000, object_store_memory=5000000000)"
   ]
  },
  {
   "cell_type": "markdown",
   "metadata": {},
   "source": [
    "## Distributed DQN agent\n",
    "The idea is to speedup learning by creating actors to collect data and a model_server to update the neural network model.\n",
    "- Collector: There is a simulator inside each collector. Their job is to collect exprience from the simulator, and send them to the memory server. They follow the explore_or_exploit policy, getting greedy action from model server. Also, call update function of model server to update the model.  \n",
    "- Evaluator: There is a simulator inside the evaluator. It is called by the the Model Server, taking eval_model from it, and test its performance.\n",
    "- Model Server: Stores the evalation and target networks. It Takes experiences from Memory Server and updates the Q-network, also replacing target Q-network periodically. It also interfaces to the evaluator periodically. \n",
    "- Memory Server: It is used to store/sample experience relays.\n",
    "\n",
    "An image of this architecture is below. \n",
    "\n",
    "For this part, you should use our custom_cartpole as your enviroment. This version of cartpole is slower, which allows for the benefits of distributed experience collection to be observed. In particular, the time to generate an experience tuple needs to be non-trivial compared to the time needed to do a neural network model update. \n",
    "\n",
    "<span style=\"color:green\">It is better to run the distributed DQN agent in exclusive node, not in Jupyter notebook</span>\n",
    "```\n",
    "Store all of your distrited DQN code into a python file.\n",
    "ssh colfax (get access to the Devcloud on terminal)\n",
    "qsub -I -lselect=1\n",
    "python3 distributed_dqn.py\n",
    "```\n",
    "\n",
    "<img src=\"distributed DQN.png\">\n",
    "\n",
    "For this part of the homework you need to submit your code for distributed DQN and run experiments that vary the number of workers involved. Produce some learning curves and timing results and discuss your observations. "
   ]
  },
  {
   "cell_type": "code",
   "execution_count": null,
   "metadata": {},
   "outputs": [],
   "source": [
    "from memory_remote import ReplayBuffer_remote\n",
    "from dqn_model import _DQNModel\n",
    "import torch\n",
    "from custom_cartpole import CartPoleEnv"
   ]
  },
  {
   "cell_type": "code",
   "execution_count": null,
   "metadata": {},
   "outputs": [],
   "source": [
    "# Set the Env name and action space for CartPole\n",
    "ENV_NAME = 'CartPole_distributed'\n",
    "\n",
    "# Set result saveing floder\n",
    "result_floder = ENV_NAME + \"_distributed\"\n",
    "result_file = ENV_NAME + \"/results.txt\"\n",
    "if not os.path.isdir(result_floder):\n",
    "    os.mkdir(result_floder)\n",
    "torch.set_num_threads(12)"
   ]
  },
  {
   "cell_type": "code",
   "execution_count": 36,
   "metadata": {},
   "outputs": [
    {
     "data": {
      "text/plain": [
       "Discrete(2)"
      ]
     },
     "execution_count": 36,
     "metadata": {},
     "output_type": "execute_result"
    }
   ],
   "source": [
    "env_CartPole.action_space"
   ]
  },
  {
   "cell_type": "code",
   "execution_count": null,
   "metadata": {},
   "outputs": [],
   "source": []
  }
 ],
 "metadata": {
  "kernelspec": {
   "display_name": "Python 3 (Intel, 2019 update 2)",
   "language": "python",
   "name": "c009-intel_distribution_of_python_3_2019u2"
  },
  "language_info": {
   "codemirror_mode": {
    "name": "ipython",
    "version": 3
   },
   "file_extension": ".py",
   "mimetype": "text/x-python",
   "name": "python",
   "nbconvert_exporter": "python",
   "pygments_lexer": "ipython3",
   "version": "3.6.8"
  }
 },
 "nbformat": 4,
 "nbformat_minor": 2
}
