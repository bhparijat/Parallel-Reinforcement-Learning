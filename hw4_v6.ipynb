{
 "cells": [
  {
   "cell_type": "markdown",
   "metadata": {},
   "source": [
    "# Distributed Deep Q-Learning \n",
    "\n",
    "The goal of this assignment is to implement and experiment with both single-core and distributed versions of the deep reinforcement learning algorithm Deep Q Networks (DQN). In particular, DQN will be run in the classic RL benchmark Cart-Pole and abblation experiments will be run to observe the impact of the different DQN components. \n",
    "\n",
    "The relevant content about DQN can be found Q-Learning and SARSA are in the following course notes from CS533.\n",
    "\n",
    "https://oregonstate.instructure.com/courses/1719746/files/75047394/download?wrap=1\n",
    "\n",
    "The full pseudo-code for DQN is on slide 45 with prior slides introducing the individual components. \n",
    "\n",
    "\n",
    "## Recap of DQN \n",
    "\n",
    "From the course slides it can be seen that DQN is simply the standard table-based Q-learning algorithm but with three extensions:\n",
    "\n",
    "1) Use of function approximation via a neural network instead of a Q-table. \n",
    "2) Use of experience replay. \n",
    "3) Use of a target network. \n",
    "\n",
    "Extension (1) allows for scaling to problems with enormous state spaces, such as when the states correspond to images or sequences of images. Extensions (2) and (3) are claimed to improve the robustness and effectiveness of DQN compared. \n",
    "\n",
    "(2) adjusts Q-learning so that updates are not just performed on individual experiences as they arrive. But rather, experiences are stored in a memory buffer and updates are performed by sampling random mini-batches of experience tuples from the memory buffer and updating the network based on the mini-batch. This allows for reuse of experience as well as helping to reduce correlation between successive updates, which is claimed to be beneficial. \n",
    "\n",
    "(3) adjusts the way that target values are computed for the Q-learning updates. Let $Q_{\\theta}(s,a)$ be the function approximation network with parameters $\\theta$ for representing the Q-function. Given an experience tuple $(s, a, r, s')$ the origional Q-learning algorithm updates the parameters so that $Q_{\\theta}(s,a)$ moves closer to the target value: \n",
    "\\begin{equation}\n",
    "r + \\beta \\max_a' Q_{\\theta}(s',a') \n",
    "\\end{equation}\n",
    "Rather, DQN stores two function approximation networks. The first is the update network with parameters $\\theta$, which is the network that is continually updated during learning. The second is a target network with parameters $\\theta'$. Given the same experience tuple, DQN will update the parameters $\\theta$ so that $Q_{\\theta}(s,a)$ moves toward a target value based on the target network:\n",
    "\\begin{equation}\n",
    "r + \\beta \\max_a' Q_{\\theta'}(s',a') \n",
    "\\end{equation}\n",
    "Periodically the target network is updated with the most recent parameters $\\theta' \\leftarrow \\theta$. This use of a target network is claimed to stabilize learning.\n",
    "\n",
    "In the assignment you will get to see an example of the impact of both the target network and experience replay.\n",
    "\n",
    "Further reading about DQN and its application to learning to play Atari games can be found in the following paper. \n",
    "\n",
    "Mnih, V., Kavukcuoglu, K., Silver, D., Rusu, A.A., Veness, J., Bellemare, M.G., Graves, A., Riedmiller, M., Fidjeland, A.K., Ostrovski, G. and Petersen, S., 2015. Human-level control through deep reinforcement learning. Nature, 518(7540), p.529.\n",
    "https://oregonstate.instructure.com/courses/1719746/files/75234294/download?wrap=1"
   ]
  },
  {
   "cell_type": "code",
   "execution_count": null,
   "metadata": {},
   "outputs": [],
   "source": [
    "!pip3 install --user gym[Box2D]\n",
    "!pip3 install --user torch\n",
    "!pip3 install --user JSAnimation\n",
    "!pip3 install --user matplotlib"
   ]
  },
  {
   "cell_type": "markdown",
   "metadata": {},
   "source": [
    "Install the packages for enviroment"
   ]
  },
  {
   "cell_type": "code",
   "execution_count": 1,
   "metadata": {},
   "outputs": [],
   "source": [
    "import gym\n",
    "import torch\n",
    "import time\n",
    "import os\n",
    "import ray\n",
    "import numpy as np\n",
    "\n",
    "from tqdm import tqdm\n",
    "from random import uniform, randint\n",
    "\n",
    "import io\n",
    "import base64\n",
    "from IPython.display import HTML\n",
    "\n",
    "from dqn_model import DQNModel\n",
    "from dqn_model import _DQNModel\n",
    "from memory import ReplayBuffer\n",
    "\n",
    "import matplotlib.pyplot as plt\n",
    "%matplotlib inline\n",
    "\n",
    "FloatTensor = torch.FloatTensor"
   ]
  },
  {
   "cell_type": "markdown",
   "metadata": {},
   "source": [
    "## Useful PyTorch functions"
   ]
  },
  {
   "cell_type": "markdown",
   "metadata": {},
   "source": [
    "### Tensors\n",
    "\n",
    "This assignment will use the PyTorch library for the required neural network functionality. You do not need to be familiar with the details of PyTorch or neural network training. However, the assignment will require dealing with data in the form of tensors.  \n",
    "\n",
    "The mini-batches used to train the PyTorch neural network is expected to be represented as a tensor matrix. The function `FloatTensor` can convert a list or NumPy matrix into a tensor matrix if needed. \n",
    "\n",
    "You can find more infomation here: https://pytorch.org/docs/stable/tensors.html"
   ]
  },
  {
   "cell_type": "code",
   "execution_count": 2,
   "metadata": {},
   "outputs": [
    {
     "name": "stdout",
     "output_type": "stream",
     "text": [
      "[[3, 2, 1], [6, 4, 5], [7, 8, 9]]\n",
      "<class 'torch.Tensor'>\n",
      "tensor([[3., 2., 1.],\n",
      "        [6., 4., 5.],\n",
      "        [7., 8., 9.]])\n"
     ]
    }
   ],
   "source": [
    "# list\n",
    "m = [[3,2,1],[6,4,5],[7,8,9]]\n",
    "print(m)\n",
    "\n",
    "# tensor matrix\n",
    "m_tensor = FloatTensor(m)\n",
    "print(type(m_tensor))\n",
    "print(m_tensor)"
   ]
  },
  {
   "cell_type": "markdown",
   "metadata": {},
   "source": [
    "### Tensor.max()\n",
    "Once you have a tenosr maxtrix, you can use torch.max(m_tensor, dim) to get the max value and max index corresponding to the dimension you choose.\n",
    "```\n",
    ">>> a = torch.randn(4, 4)\n",
    ">>> a\n",
    "tensor([[-1.2360, -0.2942, -0.1222,  0.8475],\n",
    "        [ 1.1949, -1.1127, -2.2379, -0.6702],\n",
    "        [ 1.5717, -0.9207,  0.1297, -1.8768],\n",
    "        [-0.6172,  1.0036, -0.6060, -0.2432]])\n",
    ">>> torch.max(a, 1)\n",
    "torch.return_types.max(values=tensor([0.8475, 1.1949, 1.5717, 1.0036]), indices=tensor([3, 0, 0, 1]))\n",
    "```\n",
    "You can find more infomation here: https://pytorch.org/docs/stable/torch.html#torch.max"
   ]
  },
  {
   "cell_type": "code",
   "execution_count": 3,
   "metadata": {},
   "outputs": [
    {
     "name": "stdout",
     "output_type": "stream",
     "text": [
      "tensor([3., 6., 9.]) tensor([0, 0, 2])\n"
     ]
    }
   ],
   "source": [
    "max_value, index = torch.max(m_tensor, dim = 1)\n",
    "print(max_value, index)"
   ]
  },
  {
   "cell_type": "markdown",
   "metadata": {},
   "source": [
    "## Initialize Environment\n",
    "### CartPole-v0:  \n",
    "CartPole is a classic control task that is often used as an introductory reinforcement learning benchmark. The environment involves controlling a 2d cart that can move in either the left or right direction on a frictionless track. A pole is attached to the cart via an unactuated joint. The system is controlled by applying a force of +1 or -1 to the cart. The pendulum starts upright, and the goal is to prevent it from falling over. A reward of +1 is provided for every timestep that the pole remains upright. The episode ends when the pole is more than 15 degrees from vertical, or the cart moves more than 2.4 units from the center.  \n",
    "(You can find more infomation by this Link: https://gym.openai.com/envs/CartPole-v0/)  \n",
    "  \n"
   ]
  },
  {
   "cell_type": "code",
   "execution_count": 4,
   "metadata": {},
   "outputs": [],
   "source": [
    "# Set the Env name and action space for CartPole\n",
    "ENV_NAME = 'CartPole-v0'\n",
    "# Move left, Move right\n",
    "ACTION_DICT = {\n",
    "    \"LEFT\": 0,\n",
    "    \"RIGHT\":1\n",
    "}\n",
    "# Register the environment\n",
    "env_CartPole = gym.make(ENV_NAME)"
   ]
  },
  {
   "cell_type": "code",
   "execution_count": 5,
   "metadata": {},
   "outputs": [],
   "source": [
    "# Set result saveing floder\n",
    "result_floder = ENV_NAME\n",
    "result_file = ENV_NAME + \"/results.txt\"\n",
    "if not os.path.isdir(result_floder):\n",
    "    os.mkdir(result_floder)"
   ]
  },
  {
   "cell_type": "markdown",
   "metadata": {},
   "source": [
    "## Helper Function\n",
    "Plot results."
   ]
  },
  {
   "cell_type": "code",
   "execution_count": 6,
   "metadata": {},
   "outputs": [],
   "source": [
    "def plot_result(total_rewards ,learning_num, legend):\n",
    "    print(\"\\nLearning Performance:\\n\")\n",
    "    episodes = []\n",
    "    for i in range(len(total_rewards)):\n",
    "        episodes.append(i * learning_num + 1)\n",
    "        \n",
    "    plt.figure(num = 1)\n",
    "    fig, ax = plt.subplots()\n",
    "    plt.plot(episodes, total_rewards)\n",
    "    plt.title('performance')\n",
    "    plt.legend(legend)\n",
    "    plt.xlabel(\"Episodes\")\n",
    "    plt.ylabel(\"total rewards\")\n",
    "    plt.show()"
   ]
  },
  {
   "cell_type": "markdown",
   "metadata": {},
   "source": [
    "## Hyperparams\n",
    "When function approximation is involves, especially neural networks, additional hyper parameters are inroduced and setting the parameters can require experience. Below is a list of the hyperparameters used in this assignment and values for the parameters that have worked well for a basic DQN implementation. You will adjust these values for particular parts of the assignment. For example, experiments that do not use the target network will set 'use_target_model' to False. \n",
    "\n",
    "You can find the more infomation about these hyperparameters in the notation of DQN_agent.init() function."
   ]
  },
  {
   "cell_type": "code",
   "execution_count": 7,
   "metadata": {},
   "outputs": [],
   "source": [
    "hyperparams_CartPole = {\n",
    "    'epsilon_decay_steps' : 100000, \n",
    "    'final_epsilon' : 0.1,\n",
    "    'batch_size' : 32, \n",
    "    'update_steps' : 10, \n",
    "    'memory_size' : 2000, \n",
    "    'beta' : 0.99, \n",
    "    'model_replace_freq' : 2000,\n",
    "    'learning_rate' : 0.0003,\n",
    "    'use_target_model': True\n",
    "}"
   ]
  },
  {
   "cell_type": "markdown",
   "metadata": {},
   "source": [
    "***\n",
    "# Part 1: Non-distributed DQN\n",
    "\n",
    "In this part, you will complete an implementation of DQN and run experiments on the CartPole environment from OpenAI Gym.  \n",
    "Note that OpenAI Gym has many other environments that use the same interface---so this experience will allow the curious student to easily explore these algorithms more widely. \n",
    "\n",
    "Below you need to fill in the missing code for the DQN implementation. \n",
    "\n",
    "The Run function below can then be used to generate learning curves. \n",
    "\n",
    "You should conduct the following experiments involving different features of DQN. \n",
    "\n",
    "1. DQN without a replay buffer and without a target network. This is just standard Q-learning with a function approximator.\n",
    "    The corresponding parameters are: memory_size = 1, update_steps = 1, batch_size = 1, use_target_model = False  \n",
    "    \n",
    "2. DQN without a replay buffer (but including the target network).   \n",
    "    The corresponding parameters are: memory_size = 1, update_steps = 1, batch_size = 1, use_target_model = True  \n",
    "\n",
    "3. DQN with a replay buffer, but without a target network.   \n",
    "    Here you set use_target_model = False and otherwise set the replay memory parameters to the above suggested values \n",
    "   \n",
    "4. Full DQN\n",
    "\n",
    "For each experiment, record the parameters that you used, plot the resulting learning curves, and give a summary of your observations regarding the differences you observed. \n",
    "***\n"
   ]
  },
  {
   "cell_type": "markdown",
   "metadata": {},
   "source": [
    "\n",
    "## DQN Agent\n",
    "\n",
    "The full DQN agent involves a number of functions, the neural network, and the replay memory. Interfaces to a neural network model and memory are provided. \n",
    "\n",
    "Some useful information is below:   \n",
    "- Neural Network Model: The network is used to represent the Q-function $Q(s,a)$. It takes a state $s$ as input and returns a vector of Q-values, one value for each action. The following interface functions are used for predicting Q-values, actions, and updating the neural network model parameters. \n",
    "    1. Model.predict(state) --- Returns the action that has the best Q-value in 'state'.\n",
    "    2. Model.predict_batch(states) --- This is used to predict both the Q-values and best actions for a batch of states. Given a batch of states, the function returns: 1) 'best_actions' a vector containing the best action for each input state, and 2) 'q_values' a matrix where each row gives the Q-value for all actions of each state (one row per state).   \n",
    "    3. Model.fit(q_values, q_target) --- It is used to update the neural network (via back-propagation). 'q_values' is a vector containing the Q-value predictions for a list of state-action pairs (e.g. from a batch of experience tuples). 'q_target' is a vector containing target values that we would like the correspoinding predictions to get closer to. This function updates the network in a way that the network predictions will ideally be closer to the targets. There is no return value.  \n",
    "    4. Model.replace(another_model) --- It takes another model as input, and replace the weight of itself by the input model.\n",
    "- Memory: This is the buffer used to store experience tuples for experience replay.\n",
    "    1. Memory.add(state, action, reward, state', is_terminal) --- It takes one example as input, and store it into its storage.  \n",
    "    2. Memory.sample(batch_size) --- It takes a batch_size int number as input. Return 'batch_size' number of randomly selected examples from the current memory buffer. The batch takes the form (states, actions, rewards, states', is_terminals) with each component being a vector/list of size equal to batch_size. "
   ]
  },
  {
   "cell_type": "code",
   "execution_count": 20,
   "metadata": {},
   "outputs": [],
   "source": [
    "class DQN_agent(object):\n",
    "    def __init__(self, env, hyper_params, action_space = len(ACTION_DICT)):\n",
    "        \n",
    "        self.env = env\n",
    "        self.max_episode_steps = env._max_episode_steps\n",
    "        \n",
    "        \"\"\"\n",
    "            beta: The discounted factor of Q-value function\n",
    "            (epsilon): The explore or exploit policy epsilon. \n",
    "            initial_epsilon: When the 'steps' is 0, the epsilon is initial_epsilon, 1\n",
    "            final_epsilon: After the number of 'steps' reach 'epsilon_decay_steps', \n",
    "                The epsilon set to the 'final_epsilon' determinately.\n",
    "            epsilon_decay_steps: The epsilon will decrease linearly along with the steps from 0 to 'epsilon_decay_steps'.\n",
    "        \"\"\"\n",
    "        self.beta = hyper_params['beta']\n",
    "        self.initial_epsilon = 1\n",
    "        self.final_epsilon = hyper_params['final_epsilon']\n",
    "        self.epsilon_decay_steps = hyper_params['epsilon_decay_steps']\n",
    "\n",
    "        \"\"\"\n",
    "            episode: Record training episode\n",
    "            steps: Add 1 when predicting an action\n",
    "            learning: The trigger of agent learning. It is on while training agent. It is off while testing agent.\n",
    "            action_space: The action space of the current environment, e.g 2.\n",
    "        \"\"\"\n",
    "        self.episode = 0\n",
    "        self.steps = 0\n",
    "        self.best_reward = 0\n",
    "        self.learning = True\n",
    "        self.action_space = action_space\n",
    "\n",
    "        \"\"\"\n",
    "            input_len The input length of the neural network. It equals to the length of the state vector.\n",
    "            output_len: The output length of the neural network. It is equal to the action space.\n",
    "            eval_model: The model for predicting action for the agent.\n",
    "            target_model: The model for calculating Q-value of next_state to update 'eval_model'.\n",
    "            use_target_model: Trigger for turn 'target_model' on/off\n",
    "        \"\"\"\n",
    "        state = env.reset()\n",
    "        input_len = len(state)\n",
    "        output_len = action_space\n",
    "        self.eval_model = DQNModel(input_len, output_len, learning_rate = hyper_params['learning_rate'])\n",
    "        self.use_target_model = hyper_params['use_target_model']\n",
    "        if self.use_target_model:\n",
    "            self.target_model = DQNModel(input_len, output_len)\n",
    "#         memory: Store and sample experience replay.\n",
    "        self.memory = ReplayBuffer(hyper_params['memory_size'])\n",
    "        \n",
    "        \"\"\"\n",
    "            batch_size: Mini batch size for training model.\n",
    "            update_steps: The frequence of traning model\n",
    "            model_replace_freq: The frequence of replacing 'target_model' by 'eval_model'\n",
    "        \"\"\"\n",
    "        self.batch_size = hyper_params['batch_size']\n",
    "        self.update_steps = hyper_params['update_steps']\n",
    "        self.model_replace_freq = hyper_params['model_replace_freq']\n",
    "        \n",
    "    # Linear decrease function for epsilon\n",
    "    def linear_decrease(self, initial_value, final_value, curr_steps, final_decay_steps):\n",
    "        decay_rate = curr_steps / final_decay_steps\n",
    "        if decay_rate > 1:\n",
    "            decay_rate = 1\n",
    "        return initial_value - (initial_value - final_value) * decay_rate\n",
    "    \n",
    "    def explore_or_exploit_policy(self, state):\n",
    "        p = uniform(0, 1)\n",
    "        # Get decreased epsilon\n",
    "        epsilon = self.linear_decrease(self.initial_epsilon, \n",
    "                               self.final_epsilon,\n",
    "                               self.steps,\n",
    "                               self.epsilon_decay_steps)\n",
    "        \n",
    "        if p < epsilon:\n",
    "            #return action\n",
    "            return randint(0, self.action_space - 1)\n",
    "        else:\n",
    "            #return action\n",
    "            return self.greedy_policy(state)\n",
    "        \n",
    "    def greedy_policy(self, state):\n",
    "        return self.eval_model.predict(state)\n",
    "    \n",
    "    # This next function will be called in the main RL loop to update the neural network model given a batch of experience\n",
    "    # 1) Sample a 'batch_size' batch of experiences from the memory.\n",
    "    # 2) Predict the Q-value from the 'eval_model' based on (states, actions)\n",
    "    # 3) Predict the Q-value from the 'target_model' base on (next_states), and take the max of each Q-value vector, Q_max\n",
    "    # 4) If is_terminal == 1, q_target = reward, otherwise q_target = reward + discounted factor * Q_max\n",
    "    # 5) Call fit() to do the back-propagation for 'eval_model'.\n",
    "    def update_batch(self):\n",
    "        if len(self.memory) < self.batch_size or self.steps % self.update_steps != 0:\n",
    "            return\n",
    "\n",
    "        batch = self.memory.sample(self.batch_size)\n",
    "\n",
    "        (states, actions, reward, next_states,\n",
    "         is_terminal) = batch\n",
    "        \n",
    "        states = states\n",
    "        next_states = next_states\n",
    "        terminal = FloatTensor([1 if t else 0 for t in is_terminal])\n",
    "        reward = FloatTensor(reward)\n",
    "        batch_index = torch.arange(self.batch_size,\n",
    "                                   dtype=torch.long)\n",
    "        \n",
    "        # Current Q Values\n",
    "        _, q_values = self.eval_model.predict_batch(states)\n",
    "        q_values = q_values[batch_index, actions]\n",
    "        \n",
    "        # Calculate target\n",
    "        if self.use_target_model:\n",
    "            actions, q_next = self.target_model.predict_batch(next_states)\n",
    "        else:\n",
    "            actions, q_next = self.eval_model.predict_batch(next_states)\n",
    "            \n",
    "        #INSERT YOUR CODE HERE --- neet to compute 'q_targets' used below\n",
    "        max_value,index= torch.max(q_next,dim=1)\n",
    "        \n",
    "        q_target = []\n",
    "        for i in range(len(terminal)):\n",
    "            if terminal[i]==1:\n",
    "                q_target.append(reward[i])\n",
    "            else:\n",
    "                q_target.append(reward[i]+ self.beta*max_value[i])\n",
    "        # update model\n",
    "        q_target = FloatTensor(q_target)\n",
    "        self.eval_model.fit(q_values, q_target)\n",
    "    \n",
    "    def learn_and_evaluate(self, training_episodes, test_interval):\n",
    "        test_number = training_episodes // test_interval\n",
    "        all_results = []\n",
    "        \n",
    "        for i in range(test_number):\n",
    "            # learn\n",
    "            self.learn(test_interval)\n",
    "            \n",
    "            # evaluate\n",
    "            avg_reward = self.evaluate()\n",
    "            all_results.append(avg_reward)\n",
    "            \n",
    "        return all_results\n",
    "    \n",
    "    def learn(self, test_interval):\n",
    "        for episode in tqdm(range(test_interval), desc=\"Training\"):\n",
    "            state = self.env.reset()\n",
    "            done = False\n",
    "            steps = 0\n",
    "            self.episode =  self.episode + 1\n",
    "            while steps < self.max_episode_steps and not done:\n",
    "                #INSERT YOUR CODE HERE\n",
    "                # add experience from explore-exploit policy to memory\n",
    "                # update the model every 'update_steps' of experience\n",
    "                # update the target network (if the target network is being used) every 'model_replace_freq' of experiences\n",
    "                \n",
    "                \n",
    "                action = self.explore_or_exploit_policy(state)\n",
    "                observation,reward, done, info = self.env.step(action)\n",
    "                self.memory.add(state,action,reward,observation,done)\n",
    "                \n",
    "                steps = steps + 1\n",
    "                self.steps = self.steps + 1\n",
    "                if (steps%self.update_steps)==0:\n",
    "                    self.update_batch()\n",
    "                    \n",
    "                    \n",
    "                if (steps%self.model_replace_freq)==0:\n",
    "                    self.target_model.replace(self.eval_model)\n",
    "                    \n",
    "                \n",
    "                \n",
    "                state = observation\n",
    "                \n",
    "                \n",
    "    def evaluate(self, trials = 30):\n",
    "        total_reward = 0\n",
    "        for _ in tqdm(range(trials), desc=\"Evaluating\"):\n",
    "            state = self.env.reset()\n",
    "            done = False\n",
    "            steps = 0\n",
    "\n",
    "            while steps < self.max_episode_steps and not done:\n",
    "                steps += 1\n",
    "                action = self.greedy_policy(state)\n",
    "                state, reward, done, _ = self.env.step(action)\n",
    "                total_reward += reward\n",
    "\n",
    "        avg_reward = total_reward / trials\n",
    "        print(avg_reward)\n",
    "        f = open(result_file, \"a+\")\n",
    "        f.write(str(avg_reward) + \"\\n\")\n",
    "        f.close()\n",
    "        if avg_reward >= self.best_reward:\n",
    "            self.best_reward = avg_reward\n",
    "            self.save_model()\n",
    "        return avg_reward\n",
    "\n",
    "    # save model\n",
    "    def save_model(self):\n",
    "        self.eval_model.save(result_floder + '/best_model.pt')\n",
    "        \n",
    "    # load model\n",
    "    def load_model(self):\n",
    "        self.eval_model.load(result_floder + '/best_model.pt')"
   ]
  },
  {
   "cell_type": "markdown",
   "metadata": {},
   "source": [
    "## Run function"
   ]
  },
  {
   "cell_type": "code",
   "execution_count": 21,
   "metadata": {
    "scrolled": true
   },
   "outputs": [
    {
     "name": "stderr",
     "output_type": "stream",
     "text": [
      "Training: 100%|██████████| 50/50 [00:00<00:00, 584.59it/s]\n",
      "Evaluating: 100%|██████████| 30/30 [00:00<00:00, 110.68it/s]\n",
      "Training: 100%|██████████| 50/50 [00:00<00:00, 531.93it/s]\n",
      "Evaluating: 100%|██████████| 30/30 [00:00<00:00, 523.84it/s]\n",
      "Training:   0%|          | 0/50 [00:00<?, ?it/s]"
     ]
    },
    {
     "name": "stdout",
     "output_type": "stream",
     "text": [
      "40.1\n",
      "9.7\n"
     ]
    },
    {
     "name": "stderr",
     "output_type": "stream",
     "text": [
      "Training: 100%|██████████| 50/50 [00:00<00:00, 640.45it/s]\n",
      "Evaluating: 100%|██████████| 30/30 [00:00<00:00, 519.61it/s]\n",
      "Training: 100%|██████████| 50/50 [00:00<00:00, 747.46it/s]\n",
      "Evaluating:  77%|███████▋  | 23/30 [00:00<00:00, 225.12it/s]"
     ]
    },
    {
     "name": "stdout",
     "output_type": "stream",
     "text": [
      "9.766666666666667\n"
     ]
    },
    {
     "name": "stderr",
     "output_type": "stream",
     "text": [
      "Evaluating: 100%|██████████| 30/30 [00:00<00:00, 221.46it/s]\n",
      "Training: 100%|██████████| 50/50 [00:00<00:00, 1015.30it/s]\n",
      "Evaluating: 100%|██████████| 30/30 [00:00<00:00, 560.76it/s]\n",
      "Training: 100%|██████████| 50/50 [00:00<00:00, 806.40it/s]\n",
      "Evaluating:   0%|          | 0/30 [00:00<?, ?it/s]"
     ]
    },
    {
     "name": "stdout",
     "output_type": "stream",
     "text": [
      "24.333333333333332\n",
      "9.433333333333334\n"
     ]
    },
    {
     "name": "stderr",
     "output_type": "stream",
     "text": [
      "Evaluating: 100%|██████████| 30/30 [00:00<00:00, 563.11it/s]\n",
      "Training: 100%|██████████| 50/50 [00:00<00:00, 822.68it/s]\n",
      "Evaluating: 100%|██████████| 30/30 [00:00<00:00, 385.81it/s]\n",
      "Training:   0%|          | 0/50 [00:00<?, ?it/s]"
     ]
    },
    {
     "name": "stdout",
     "output_type": "stream",
     "text": [
      "9.466666666666667\n",
      "13.8\n"
     ]
    },
    {
     "name": "stderr",
     "output_type": "stream",
     "text": [
      "Training: 100%|██████████| 50/50 [00:00<00:00, 651.06it/s]\n",
      "Evaluating: 100%|██████████| 30/30 [00:00<00:00, 497.78it/s]\n",
      "Training: 100%|██████████| 50/50 [00:00<00:00, 845.66it/s]\n",
      "Evaluating: 100%|██████████| 30/30 [00:00<00:00, 567.52it/s]\n",
      "Training: 100%|██████████| 50/50 [00:00<00:00, 706.00it/s]\n",
      "Evaluating:   0%|          | 0/30 [00:00<?, ?it/s]"
     ]
    },
    {
     "name": "stdout",
     "output_type": "stream",
     "text": [
      "9.5\n",
      "9.733333333333333\n"
     ]
    },
    {
     "name": "stderr",
     "output_type": "stream",
     "text": [
      "Evaluating: 100%|██████████| 30/30 [00:00<00:00, 565.71it/s]\n",
      "Training: 100%|██████████| 50/50 [00:00<00:00, 885.37it/s]\n",
      "Evaluating: 100%|██████████| 30/30 [00:00<00:00, 509.56it/s]\n",
      "Training: 100%|██████████| 50/50 [00:00<00:00, 982.83it/s]\n",
      "Evaluating:   0%|          | 0/30 [00:00<?, ?it/s]"
     ]
    },
    {
     "name": "stdout",
     "output_type": "stream",
     "text": [
      "9.633333333333333\n",
      "10.3\n"
     ]
    },
    {
     "name": "stderr",
     "output_type": "stream",
     "text": [
      "Evaluating: 100%|██████████| 30/30 [00:00<00:00, 492.53it/s]\n",
      "Training: 100%|██████████| 50/50 [00:00<00:00, 687.79it/s]\n",
      "Evaluating: 100%|██████████| 30/30 [00:00<00:00, 558.97it/s]\n",
      "Training:   0%|          | 0/50 [00:00<?, ?it/s]"
     ]
    },
    {
     "name": "stdout",
     "output_type": "stream",
     "text": [
      "9.433333333333334\n",
      "9.466666666666667\n"
     ]
    },
    {
     "name": "stderr",
     "output_type": "stream",
     "text": [
      "Training: 100%|██████████| 50/50 [00:00<00:00, 720.73it/s]\n",
      "Evaluating: 100%|██████████| 30/30 [00:00<00:00, 514.02it/s]\n",
      "Training: 100%|██████████| 50/50 [00:00<00:00, 639.42it/s]\n",
      "Evaluating: 100%|██████████| 30/30 [00:00<00:00, 524.41it/s]\n",
      "Training:   0%|          | 0/50 [00:00<?, ?it/s]"
     ]
    },
    {
     "name": "stdout",
     "output_type": "stream",
     "text": [
      "9.566666666666666\n",
      "9.733333333333333\n"
     ]
    },
    {
     "name": "stderr",
     "output_type": "stream",
     "text": [
      "Training: 100%|██████████| 50/50 [00:00<00:00, 704.28it/s]\n",
      "Evaluating: 100%|██████████| 30/30 [00:00<00:00, 539.74it/s]\n",
      "Training: 100%|██████████| 50/50 [00:00<00:00, 713.53it/s]\n",
      "Evaluating: 100%|██████████| 30/30 [00:00<00:00, 479.58it/s]\n",
      "Training:   0%|          | 0/50 [00:00<?, ?it/s]"
     ]
    },
    {
     "name": "stdout",
     "output_type": "stream",
     "text": [
      "9.833333333333334\n",
      "9.633333333333333\n"
     ]
    },
    {
     "name": "stderr",
     "output_type": "stream",
     "text": [
      "Training: 100%|██████████| 50/50 [00:00<00:00, 650.17it/s]\n",
      "Evaluating: 100%|██████████| 30/30 [00:00<00:00, 545.64it/s]\n",
      "Training: 100%|██████████| 50/50 [00:00<00:00, 727.64it/s]\n",
      "Evaluating: 100%|██████████| 30/30 [00:00<00:00, 527.34it/s]\n",
      "Training:   0%|          | 0/50 [00:00<?, ?it/s]"
     ]
    },
    {
     "name": "stdout",
     "output_type": "stream",
     "text": [
      "9.733333333333333\n",
      "10.2\n"
     ]
    },
    {
     "name": "stderr",
     "output_type": "stream",
     "text": [
      "Training: 100%|██████████| 50/50 [00:00<00:00, 702.40it/s]\n",
      "Evaluating: 100%|██████████| 30/30 [00:00<00:00, 480.98it/s]\n",
      "Training: 100%|██████████| 50/50 [00:00<00:00, 974.25it/s]\n",
      "Evaluating: 100%|██████████| 30/30 [00:00<00:00, 542.60it/s]\n",
      "Training: 100%|██████████| 50/50 [00:00<00:00, 764.34it/s]\n",
      "Evaluating:   0%|          | 0/30 [00:00<?, ?it/s]"
     ]
    },
    {
     "name": "stdout",
     "output_type": "stream",
     "text": [
      "9.7\n",
      "9.833333333333334\n"
     ]
    },
    {
     "name": "stderr",
     "output_type": "stream",
     "text": [
      "Evaluating: 100%|██████████| 30/30 [00:00<00:00, 537.75it/s]\n",
      "Training: 100%|██████████| 50/50 [00:00<00:00, 609.38it/s]\n",
      "Evaluating: 100%|██████████| 30/30 [00:00<00:00, 492.98it/s]\n",
      "Training:   0%|          | 0/50 [00:00<?, ?it/s]"
     ]
    },
    {
     "name": "stdout",
     "output_type": "stream",
     "text": [
      "9.766666666666667\n",
      "9.866666666666667\n"
     ]
    },
    {
     "name": "stderr",
     "output_type": "stream",
     "text": [
      "Training: 100%|██████████| 50/50 [00:00<00:00, 598.77it/s]\n",
      "Evaluating: 100%|██████████| 30/30 [00:00<00:00, 532.83it/s]\n",
      "Training: 100%|██████████| 50/50 [00:00<00:00, 883.38it/s]\n",
      "Evaluating: 100%|██████████| 30/30 [00:00<00:00, 454.72it/s]\n",
      "Training:   0%|          | 0/50 [00:00<?, ?it/s]"
     ]
    },
    {
     "name": "stdout",
     "output_type": "stream",
     "text": [
      "9.8\n",
      "9.766666666666667\n"
     ]
    },
    {
     "name": "stderr",
     "output_type": "stream",
     "text": [
      "Training: 100%|██████████| 50/50 [00:00<00:00, 573.41it/s]\n",
      "Evaluating: 100%|██████████| 30/30 [00:00<00:00, 479.78it/s]\n",
      "Training: 100%|██████████| 50/50 [00:00<00:00, 474.20it/s]\n",
      "Evaluating: 100%|██████████| 30/30 [00:00<00:00, 414.36it/s]\n",
      "Training:   0%|          | 0/50 [00:00<?, ?it/s]"
     ]
    },
    {
     "name": "stdout",
     "output_type": "stream",
     "text": [
      "9.766666666666667\n",
      "9.966666666666667\n"
     ]
    },
    {
     "name": "stderr",
     "output_type": "stream",
     "text": [
      "Training: 100%|██████████| 50/50 [00:00<00:00, 608.31it/s]\n",
      "Evaluating: 100%|██████████| 30/30 [00:00<00:00, 401.94it/s]\n",
      "Training: 100%|██████████| 50/50 [00:00<00:00, 587.18it/s]\n",
      "Evaluating: 100%|██████████| 30/30 [00:00<00:00, 414.04it/s]\n",
      "Training:   0%|          | 0/50 [00:00<?, ?it/s]"
     ]
    },
    {
     "name": "stdout",
     "output_type": "stream",
     "text": [
      "9.866666666666667\n",
      "9.933333333333334\n"
     ]
    },
    {
     "name": "stderr",
     "output_type": "stream",
     "text": [
      "Training: 100%|██████████| 50/50 [00:00<00:00, 715.05it/s]\n",
      "Evaluating: 100%|██████████| 30/30 [00:00<00:00, 431.11it/s]\n",
      "Training: 100%|██████████| 50/50 [00:00<00:00, 584.20it/s]\n",
      "Evaluating: 100%|██████████| 30/30 [00:00<00:00, 533.47it/s]\n",
      "Training:   0%|          | 0/50 [00:00<?, ?it/s]"
     ]
    },
    {
     "name": "stdout",
     "output_type": "stream",
     "text": [
      "9.866666666666667\n",
      "9.866666666666667\n"
     ]
    },
    {
     "name": "stderr",
     "output_type": "stream",
     "text": [
      "Training: 100%|██████████| 50/50 [00:00<00:00, 747.61it/s]\n",
      "Evaluating: 100%|██████████| 30/30 [00:00<00:00, 504.95it/s]\n",
      "Training: 100%|██████████| 50/50 [00:00<00:00, 592.14it/s]\n",
      "Evaluating: 100%|██████████| 30/30 [00:00<00:00, 404.61it/s]\n",
      "Training:   0%|          | 0/50 [00:00<?, ?it/s]"
     ]
    },
    {
     "name": "stdout",
     "output_type": "stream",
     "text": [
      "9.833333333333334\n",
      "9.833333333333334\n"
     ]
    },
    {
     "name": "stderr",
     "output_type": "stream",
     "text": [
      "Training: 100%|██████████| 50/50 [00:00<00:00, 413.47it/s]\n",
      "Evaluating: 100%|██████████| 30/30 [00:00<00:00, 404.96it/s]\n",
      "Training: 100%|██████████| 50/50 [00:00<00:00, 681.94it/s]\n",
      "Evaluating: 100%|██████████| 30/30 [00:00<00:00, 535.92it/s]\n",
      "Training:   0%|          | 0/50 [00:00<?, ?it/s]"
     ]
    },
    {
     "name": "stdout",
     "output_type": "stream",
     "text": [
      "9.733333333333333\n",
      "9.666666666666666\n"
     ]
    },
    {
     "name": "stderr",
     "output_type": "stream",
     "text": [
      "Training: 100%|██████████| 50/50 [00:00<00:00, 651.19it/s]\n",
      "Evaluating: 100%|██████████| 30/30 [00:00<00:00, 514.00it/s]\n",
      "Training: 100%|██████████| 50/50 [00:00<00:00, 560.09it/s]\n",
      "Evaluating: 100%|██████████| 30/30 [00:00<00:00, 507.27it/s]\n",
      "Training:   0%|          | 0/50 [00:00<?, ?it/s]"
     ]
    },
    {
     "name": "stdout",
     "output_type": "stream",
     "text": [
      "9.266666666666667\n",
      "9.7\n"
     ]
    },
    {
     "name": "stderr",
     "output_type": "stream",
     "text": [
      "Training: 100%|██████████| 50/50 [00:00<00:00, 613.95it/s]\n",
      "Evaluating: 100%|██████████| 30/30 [00:00<00:00, 425.16it/s]\n",
      "Training: 100%|██████████| 50/50 [00:00<00:00, 541.30it/s]\n",
      "Evaluating: 100%|██████████| 30/30 [00:00<00:00, 417.25it/s]\n",
      "Training:   0%|          | 0/50 [00:00<?, ?it/s]"
     ]
    },
    {
     "name": "stdout",
     "output_type": "stream",
     "text": [
      "9.766666666666667\n",
      "9.866666666666667\n"
     ]
    },
    {
     "name": "stderr",
     "output_type": "stream",
     "text": [
      "Training: 100%|██████████| 50/50 [00:00<00:00, 467.02it/s]\n",
      "Evaluating: 100%|██████████| 30/30 [00:00<00:00, 432.10it/s]\n",
      "Training: 100%|██████████| 50/50 [00:00<00:00, 449.47it/s]\n",
      "Evaluating: 100%|██████████| 30/30 [00:00<00:00, 424.50it/s]\n",
      "Training:   0%|          | 0/50 [00:00<?, ?it/s]"
     ]
    },
    {
     "name": "stdout",
     "output_type": "stream",
     "text": [
      "9.8\n",
      "9.733333333333333\n"
     ]
    },
    {
     "name": "stderr",
     "output_type": "stream",
     "text": [
      "Training: 100%|██████████| 50/50 [00:00<00:00, 601.78it/s]\n",
      "Evaluating: 100%|██████████| 30/30 [00:00<00:00, 447.36it/s]\n",
      "Training: 100%|██████████| 50/50 [00:00<00:00, 511.21it/s]\n",
      "Evaluating: 100%|██████████| 30/30 [00:00<00:00, 443.94it/s]\n",
      "Training:   0%|          | 0/50 [00:00<?, ?it/s]"
     ]
    },
    {
     "name": "stdout",
     "output_type": "stream",
     "text": [
      "9.4\n",
      "9.366666666666667\n"
     ]
    },
    {
     "name": "stderr",
     "output_type": "stream",
     "text": [
      "Training: 100%|██████████| 50/50 [00:00<00:00, 523.10it/s]\n",
      "Evaluating: 100%|██████████| 30/30 [00:00<00:00, 535.69it/s]\n",
      "Training: 100%|██████████| 50/50 [00:00<00:00, 681.91it/s]\n",
      "Evaluating: 100%|██████████| 30/30 [00:00<00:00, 477.94it/s]\n",
      "Training:   0%|          | 0/50 [00:00<?, ?it/s]"
     ]
    },
    {
     "name": "stdout",
     "output_type": "stream",
     "text": [
      "9.733333333333333\n",
      "9.866666666666667\n"
     ]
    },
    {
     "name": "stderr",
     "output_type": "stream",
     "text": [
      "Training: 100%|██████████| 50/50 [00:00<00:00, 561.97it/s]\n",
      "Evaluating: 100%|██████████| 30/30 [00:00<00:00, 524.91it/s]\n",
      "Training: 100%|██████████| 50/50 [00:00<00:00, 569.84it/s]\n",
      "Evaluating: 100%|██████████| 30/30 [00:00<00:00, 542.30it/s]\n",
      "Training:   0%|          | 0/50 [00:00<?, ?it/s]"
     ]
    },
    {
     "name": "stdout",
     "output_type": "stream",
     "text": [
      "9.733333333333333\n",
      "9.633333333333333\n"
     ]
    },
    {
     "name": "stderr",
     "output_type": "stream",
     "text": [
      "Training: 100%|██████████| 50/50 [00:00<00:00, 617.58it/s]\n",
      "Evaluating: 100%|██████████| 30/30 [00:00<00:00, 529.43it/s]\n",
      "Training: 100%|██████████| 50/50 [00:00<00:00, 549.45it/s]\n",
      "Evaluating: 100%|██████████| 30/30 [00:00<00:00, 538.80it/s]\n",
      "Training:   0%|          | 0/50 [00:00<?, ?it/s]"
     ]
    },
    {
     "name": "stdout",
     "output_type": "stream",
     "text": [
      "9.766666666666667\n",
      "9.833333333333334\n"
     ]
    },
    {
     "name": "stderr",
     "output_type": "stream",
     "text": [
      "Training: 100%|██████████| 50/50 [00:00<00:00, 545.81it/s]\n",
      "Evaluating: 100%|██████████| 30/30 [00:00<00:00, 531.13it/s]\n",
      "Training: 100%|██████████| 50/50 [00:00<00:00, 617.94it/s]\n",
      "Evaluating: 100%|██████████| 30/30 [00:00<00:00, 528.39it/s]\n",
      "Training:   0%|          | 0/50 [00:00<?, ?it/s]"
     ]
    },
    {
     "name": "stdout",
     "output_type": "stream",
     "text": [
      "9.866666666666667\n",
      "10.0\n"
     ]
    },
    {
     "name": "stderr",
     "output_type": "stream",
     "text": [
      "Training: 100%|██████████| 50/50 [00:00<00:00, 623.15it/s]\n",
      "Evaluating: 100%|██████████| 30/30 [00:00<00:00, 485.70it/s]\n",
      "Training: 100%|██████████| 50/50 [00:00<00:00, 625.52it/s]\n",
      "Evaluating: 100%|██████████| 30/30 [00:00<00:00, 530.79it/s]\n",
      "Training:   0%|          | 0/50 [00:00<?, ?it/s]"
     ]
    },
    {
     "name": "stdout",
     "output_type": "stream",
     "text": [
      "9.7\n",
      "9.766666666666667\n"
     ]
    },
    {
     "name": "stderr",
     "output_type": "stream",
     "text": [
      "Training: 100%|██████████| 50/50 [00:00<00:00, 441.78it/s]\n",
      "Evaluating: 100%|██████████| 30/30 [00:00<00:00, 515.19it/s]\n",
      "Training: 100%|██████████| 50/50 [00:00<00:00, 557.36it/s]\n",
      "Evaluating: 100%|██████████| 30/30 [00:00<00:00, 518.59it/s]\n",
      "Training:   0%|          | 0/50 [00:00<?, ?it/s]"
     ]
    },
    {
     "name": "stdout",
     "output_type": "stream",
     "text": [
      "9.8\n",
      "9.7\n"
     ]
    },
    {
     "name": "stderr",
     "output_type": "stream",
     "text": [
      "Training: 100%|██████████| 50/50 [00:00<00:00, 562.12it/s]\n",
      "Evaluating: 100%|██████████| 30/30 [00:00<00:00, 532.55it/s]\n",
      "Training: 100%|██████████| 50/50 [00:00<00:00, 575.49it/s]\n",
      "Evaluating: 100%|██████████| 30/30 [00:00<00:00, 552.40it/s]\n",
      "Training:   0%|          | 0/50 [00:00<?, ?it/s]"
     ]
    },
    {
     "name": "stdout",
     "output_type": "stream",
     "text": [
      "9.966666666666667\n",
      "9.633333333333333\n"
     ]
    },
    {
     "name": "stderr",
     "output_type": "stream",
     "text": [
      "Training: 100%|██████████| 50/50 [00:00<00:00, 691.55it/s]\n",
      "Evaluating: 100%|██████████| 30/30 [00:00<00:00, 533.37it/s]\n",
      "Training: 100%|██████████| 50/50 [00:00<00:00, 498.73it/s]\n",
      "Evaluating: 100%|██████████| 30/30 [00:00<00:00, 513.06it/s]\n",
      "Training:   0%|          | 0/50 [00:00<?, ?it/s]"
     ]
    },
    {
     "name": "stdout",
     "output_type": "stream",
     "text": [
      "9.833333333333334\n",
      "9.9\n"
     ]
    },
    {
     "name": "stderr",
     "output_type": "stream",
     "text": [
      "Training: 100%|██████████| 50/50 [00:00<00:00, 602.01it/s]\n",
      "Evaluating: 100%|██████████| 30/30 [00:00<00:00, 530.29it/s]\n",
      "Training: 100%|██████████| 50/50 [00:00<00:00, 487.29it/s]\n",
      "Evaluating: 100%|██████████| 30/30 [00:00<00:00, 540.22it/s]\n",
      "Training:   0%|          | 0/50 [00:00<?, ?it/s]"
     ]
    },
    {
     "name": "stdout",
     "output_type": "stream",
     "text": [
      "9.933333333333334\n",
      "9.766666666666667\n"
     ]
    },
    {
     "name": "stderr",
     "output_type": "stream",
     "text": [
      "Training: 100%|██████████| 50/50 [00:00<00:00, 603.03it/s]\n",
      "Evaluating: 100%|██████████| 30/30 [00:00<00:00, 539.86it/s]\n",
      "Training: 100%|██████████| 50/50 [00:00<00:00, 564.05it/s]\n",
      "Evaluating: 100%|██████████| 30/30 [00:00<00:00, 534.25it/s]\n",
      "Training:   0%|          | 0/50 [00:00<?, ?it/s]"
     ]
    },
    {
     "name": "stdout",
     "output_type": "stream",
     "text": [
      "9.666666666666666\n",
      "9.933333333333334\n"
     ]
    },
    {
     "name": "stderr",
     "output_type": "stream",
     "text": [
      "Training: 100%|██████████| 50/50 [00:00<00:00, 624.86it/s]\n",
      "Evaluating: 100%|██████████| 30/30 [00:00<00:00, 525.76it/s]\n",
      "Training: 100%|██████████| 50/50 [00:00<00:00, 634.24it/s]\n",
      "Evaluating: 100%|██████████| 30/30 [00:00<00:00, 550.90it/s]\n",
      "Training:   0%|          | 0/50 [00:00<?, ?it/s]"
     ]
    },
    {
     "name": "stdout",
     "output_type": "stream",
     "text": [
      "9.933333333333334\n",
      "9.8\n"
     ]
    },
    {
     "name": "stderr",
     "output_type": "stream",
     "text": [
      "Training: 100%|██████████| 50/50 [00:00<00:00, 456.19it/s]\n",
      "Evaluating: 100%|██████████| 30/30 [00:00<00:00, 433.33it/s]\n",
      "Training: 100%|██████████| 50/50 [00:00<00:00, 400.57it/s]\n",
      "Evaluating:   0%|          | 0/30 [00:00<?, ?it/s]"
     ]
    },
    {
     "name": "stdout",
     "output_type": "stream",
     "text": [
      "9.533333333333333\n"
     ]
    },
    {
     "name": "stderr",
     "output_type": "stream",
     "text": [
      "Evaluating: 100%|██████████| 30/30 [00:00<00:00, 407.02it/s]\n",
      "Training: 100%|██████████| 50/50 [00:00<00:00, 422.95it/s]\n",
      "Evaluating: 100%|██████████| 30/30 [00:00<00:00, 428.35it/s]\n"
     ]
    },
    {
     "name": "stdout",
     "output_type": "stream",
     "text": [
      "10.0\n",
      "9.966666666666667\n"
     ]
    },
    {
     "name": "stderr",
     "output_type": "stream",
     "text": [
      "Training: 100%|██████████| 50/50 [00:00<00:00, 444.64it/s]\n",
      "Evaluating: 100%|██████████| 30/30 [00:00<00:00, 419.24it/s]\n",
      "Training: 100%|██████████| 50/50 [00:00<00:00, 418.89it/s]\n",
      "Evaluating: 100%|██████████| 30/30 [00:00<00:00, 422.76it/s]\n",
      "Training:   0%|          | 0/50 [00:00<?, ?it/s]"
     ]
    },
    {
     "name": "stdout",
     "output_type": "stream",
     "text": [
      "9.766666666666667\n",
      "9.766666666666667\n"
     ]
    },
    {
     "name": "stderr",
     "output_type": "stream",
     "text": [
      "Training: 100%|██████████| 50/50 [00:00<00:00, 404.57it/s]\n",
      "Evaluating: 100%|██████████| 30/30 [00:00<00:00, 417.17it/s]\n",
      "Training: 100%|██████████| 50/50 [00:00<00:00, 405.67it/s]\n",
      "Evaluating: 100%|██████████| 30/30 [00:00<00:00, 428.48it/s]"
     ]
    },
    {
     "name": "stdout",
     "output_type": "stream",
     "text": [
      "9.7\n"
     ]
    },
    {
     "name": "stderr",
     "output_type": "stream",
     "text": [
      "\n",
      "Training: 100%|██████████| 50/50 [00:00<00:00, 458.37it/s]\n",
      "Evaluating: 100%|██████████| 30/30 [00:00<00:00, 431.55it/s]\n",
      "Training: 100%|██████████| 50/50 [00:00<00:00, 482.51it/s]\n",
      "Evaluating: 100%|██████████| 30/30 [00:00<00:00, 420.51it/s]\n",
      "Training:   0%|          | 0/50 [00:00<?, ?it/s]"
     ]
    },
    {
     "name": "stdout",
     "output_type": "stream",
     "text": [
      "9.566666666666666\n",
      "9.433333333333334\n",
      "9.5\n"
     ]
    },
    {
     "name": "stderr",
     "output_type": "stream",
     "text": [
      "Training: 100%|██████████| 50/50 [00:00<00:00, 469.85it/s]\n",
      "Evaluating: 100%|██████████| 30/30 [00:00<00:00, 408.47it/s]\n",
      "Training: 100%|██████████| 50/50 [00:00<00:00, 426.94it/s]\n",
      "Evaluating: 100%|██████████| 30/30 [00:00<00:00, 428.71it/s]\n",
      "Training:   0%|          | 0/50 [00:00<?, ?it/s]"
     ]
    },
    {
     "name": "stdout",
     "output_type": "stream",
     "text": [
      "9.333333333333334\n",
      "9.866666666666667\n"
     ]
    },
    {
     "name": "stderr",
     "output_type": "stream",
     "text": [
      "Training: 100%|██████████| 50/50 [00:00<00:00, 479.29it/s]\n",
      "Evaluating: 100%|██████████| 30/30 [00:00<00:00, 452.86it/s]\n",
      "Training: 100%|██████████| 50/50 [00:00<00:00, 429.75it/s]\n",
      "Evaluating: 100%|██████████| 30/30 [00:00<00:00, 479.60it/s]\n",
      "Training:   0%|          | 0/50 [00:00<?, ?it/s]"
     ]
    },
    {
     "name": "stdout",
     "output_type": "stream",
     "text": [
      "9.666666666666666\n",
      "9.3\n"
     ]
    },
    {
     "name": "stderr",
     "output_type": "stream",
     "text": [
      "Training: 100%|██████████| 50/50 [00:00<00:00, 471.26it/s]\n",
      "Evaluating: 100%|██████████| 30/30 [00:00<00:00, 430.59it/s]\n",
      "Training: 100%|██████████| 50/50 [00:00<00:00, 511.12it/s]\n",
      "Evaluating: 100%|██████████| 30/30 [00:00<00:00, 433.10it/s]\n",
      "Training:   0%|          | 0/50 [00:00<?, ?it/s]"
     ]
    },
    {
     "name": "stdout",
     "output_type": "stream",
     "text": [
      "9.466666666666667\n",
      "9.5\n"
     ]
    },
    {
     "name": "stderr",
     "output_type": "stream",
     "text": [
      "Training: 100%|██████████| 50/50 [00:00<00:00, 599.22it/s]\n",
      "Evaluating: 100%|██████████| 30/30 [00:00<00:00, 566.00it/s]\n",
      "Training: 100%|██████████| 50/50 [00:00<00:00, 462.25it/s]\n",
      "Evaluating: 100%|██████████| 30/30 [00:00<00:00, 467.49it/s]\n",
      "Training:   0%|          | 0/50 [00:00<?, ?it/s]"
     ]
    },
    {
     "name": "stdout",
     "output_type": "stream",
     "text": [
      "9.3\n",
      "9.933333333333334\n"
     ]
    },
    {
     "name": "stderr",
     "output_type": "stream",
     "text": [
      "Training: 100%|██████████| 50/50 [00:00<00:00, 406.07it/s]\n",
      "Evaluating: 100%|██████████| 30/30 [00:00<00:00, 442.88it/s]\n",
      "Training: 100%|██████████| 50/50 [00:00<00:00, 606.67it/s]\n",
      "Evaluating: 100%|██████████| 30/30 [00:00<00:00, 545.88it/s]\n",
      "Training:   0%|          | 0/50 [00:00<?, ?it/s]"
     ]
    },
    {
     "name": "stdout",
     "output_type": "stream",
     "text": [
      "9.533333333333333\n",
      "9.433333333333334\n"
     ]
    },
    {
     "name": "stderr",
     "output_type": "stream",
     "text": [
      "Training: 100%|██████████| 50/50 [00:00<00:00, 560.62it/s]\n",
      "Evaluating: 100%|██████████| 30/30 [00:00<00:00, 553.25it/s]\n",
      "Training: 100%|██████████| 50/50 [00:00<00:00, 558.58it/s]\n",
      "Evaluating: 100%|██████████| 30/30 [00:00<00:00, 524.61it/s]\n",
      "Training:   0%|          | 0/50 [00:00<?, ?it/s]"
     ]
    },
    {
     "name": "stdout",
     "output_type": "stream",
     "text": [
      "9.4\n",
      "9.966666666666667\n"
     ]
    },
    {
     "name": "stderr",
     "output_type": "stream",
     "text": [
      "Training: 100%|██████████| 50/50 [00:00<00:00, 500.76it/s]\n",
      "Evaluating: 100%|██████████| 30/30 [00:00<00:00, 560.40it/s]\n",
      "Training: 100%|██████████| 50/50 [00:00<00:00, 615.48it/s]\n",
      "Evaluating: 100%|██████████| 30/30 [00:00<00:00, 573.27it/s]\n",
      "Training:   0%|          | 0/50 [00:00<?, ?it/s]"
     ]
    },
    {
     "name": "stdout",
     "output_type": "stream",
     "text": [
      "9.7\n",
      "9.533333333333333\n"
     ]
    },
    {
     "name": "stderr",
     "output_type": "stream",
     "text": [
      "Training: 100%|██████████| 50/50 [00:00<00:00, 521.25it/s]\n",
      "Evaluating: 100%|██████████| 30/30 [00:00<00:00, 564.56it/s]\n",
      "Training: 100%|██████████| 50/50 [00:00<00:00, 528.52it/s]\n",
      "Evaluating: 100%|██████████| 30/30 [00:00<00:00, 548.21it/s]\n",
      "Training:   0%|          | 0/50 [00:00<?, ?it/s]"
     ]
    },
    {
     "name": "stdout",
     "output_type": "stream",
     "text": [
      "9.433333333333334\n",
      "9.7\n"
     ]
    },
    {
     "name": "stderr",
     "output_type": "stream",
     "text": [
      "Training: 100%|██████████| 50/50 [00:00<00:00, 443.44it/s]\n",
      "Evaluating: 100%|██████████| 30/30 [00:00<00:00, 523.18it/s]\n",
      "Training: 100%|██████████| 50/50 [00:00<00:00, 497.33it/s]\n",
      "Evaluating: 100%|██████████| 30/30 [00:00<00:00, 429.57it/s]\n",
      "Training:   0%|          | 0/50 [00:00<?, ?it/s]"
     ]
    },
    {
     "name": "stdout",
     "output_type": "stream",
     "text": [
      "9.833333333333334\n",
      "9.5\n"
     ]
    },
    {
     "name": "stderr",
     "output_type": "stream",
     "text": [
      "Training: 100%|██████████| 50/50 [00:00<00:00, 458.74it/s]\n",
      "Evaluating: 100%|██████████| 30/30 [00:00<00:00, 443.98it/s]\n",
      "Training: 100%|██████████| 50/50 [00:00<00:00, 402.25it/s]\n",
      "Evaluating: 100%|██████████| 30/30 [00:00<00:00, 539.14it/s]\n",
      "Training:   0%|          | 0/50 [00:00<?, ?it/s]"
     ]
    },
    {
     "name": "stdout",
     "output_type": "stream",
     "text": [
      "9.2\n",
      "9.8\n"
     ]
    },
    {
     "name": "stderr",
     "output_type": "stream",
     "text": [
      "Training: 100%|██████████| 50/50 [00:00<00:00, 574.02it/s]\n",
      "Evaluating: 100%|██████████| 30/30 [00:00<00:00, 528.47it/s]\n",
      "Training: 100%|██████████| 50/50 [00:00<00:00, 511.95it/s]\n",
      "Evaluating: 100%|██████████| 30/30 [00:00<00:00, 541.35it/s]\n",
      "Training:   0%|          | 0/50 [00:00<?, ?it/s]"
     ]
    },
    {
     "name": "stdout",
     "output_type": "stream",
     "text": [
      "9.733333333333333\n",
      "9.566666666666666\n"
     ]
    },
    {
     "name": "stderr",
     "output_type": "stream",
     "text": [
      "Training: 100%|██████████| 50/50 [00:00<00:00, 506.33it/s]\n",
      "Evaluating: 100%|██████████| 30/30 [00:00<00:00, 522.47it/s]\n",
      "Training: 100%|██████████| 50/50 [00:00<00:00, 516.37it/s]\n",
      "Evaluating: 100%|██████████| 30/30 [00:00<00:00, 550.24it/s]\n",
      "Training:   0%|          | 0/50 [00:00<?, ?it/s]"
     ]
    },
    {
     "name": "stdout",
     "output_type": "stream",
     "text": [
      "9.933333333333334\n",
      "9.366666666666667\n"
     ]
    },
    {
     "name": "stderr",
     "output_type": "stream",
     "text": [
      "Training: 100%|██████████| 50/50 [00:00<00:00, 430.31it/s]\n",
      "Evaluating: 100%|██████████| 30/30 [00:00<00:00, 532.27it/s]\n",
      "Training: 100%|██████████| 50/50 [00:00<00:00, 560.19it/s]\n",
      "Evaluating: 100%|██████████| 30/30 [00:00<00:00, 513.86it/s]\n",
      "Training:   0%|          | 0/50 [00:00<?, ?it/s]"
     ]
    },
    {
     "name": "stdout",
     "output_type": "stream",
     "text": [
      "9.566666666666666\n",
      "9.766666666666667\n"
     ]
    },
    {
     "name": "stderr",
     "output_type": "stream",
     "text": [
      "Training: 100%|██████████| 50/50 [00:00<00:00, 516.31it/s]\n",
      "Evaluating: 100%|██████████| 30/30 [00:00<00:00, 541.02it/s]\n",
      "Training: 100%|██████████| 50/50 [00:00<00:00, 534.27it/s]\n",
      "Evaluating: 100%|██████████| 30/30 [00:00<00:00, 546.86it/s]\n",
      "Training:   0%|          | 0/50 [00:00<?, ?it/s]"
     ]
    },
    {
     "name": "stdout",
     "output_type": "stream",
     "text": [
      "9.933333333333334\n",
      "9.733333333333333\n"
     ]
    },
    {
     "name": "stderr",
     "output_type": "stream",
     "text": [
      "Training: 100%|██████████| 50/50 [00:00<00:00, 579.12it/s]\n",
      "Evaluating: 100%|██████████| 30/30 [00:00<00:00, 535.71it/s]\n",
      "Training: 100%|██████████| 50/50 [00:00<00:00, 518.11it/s]\n",
      "Evaluating: 100%|██████████| 30/30 [00:00<00:00, 556.62it/s]\n",
      "Training:   0%|          | 0/50 [00:00<?, ?it/s]"
     ]
    },
    {
     "name": "stdout",
     "output_type": "stream",
     "text": [
      "9.766666666666667\n",
      "9.466666666666667\n"
     ]
    },
    {
     "name": "stderr",
     "output_type": "stream",
     "text": [
      "Training: 100%|██████████| 50/50 [00:00<00:00, 468.60it/s]\n",
      "Evaluating: 100%|██████████| 30/30 [00:00<00:00, 555.49it/s]\n",
      "Training: 100%|██████████| 50/50 [00:00<00:00, 436.03it/s]\n",
      "Evaluating: 100%|██████████| 30/30 [00:00<00:00, 523.36it/s]\n",
      "Training:   0%|          | 0/50 [00:00<?, ?it/s]"
     ]
    },
    {
     "name": "stdout",
     "output_type": "stream",
     "text": [
      "9.6\n",
      "9.733333333333333\n"
     ]
    },
    {
     "name": "stderr",
     "output_type": "stream",
     "text": [
      "Training: 100%|██████████| 50/50 [00:00<00:00, 494.53it/s]\n",
      "Evaluating: 100%|██████████| 30/30 [00:00<00:00, 548.38it/s]\n",
      "Training: 100%|██████████| 50/50 [00:00<00:00, 562.77it/s]\n",
      "Evaluating: 100%|██████████| 30/30 [00:00<00:00, 521.53it/s]\n",
      "Training:   0%|          | 0/50 [00:00<?, ?it/s]"
     ]
    },
    {
     "name": "stdout",
     "output_type": "stream",
     "text": [
      "9.666666666666666\n",
      "9.6\n"
     ]
    },
    {
     "name": "stderr",
     "output_type": "stream",
     "text": [
      "Training: 100%|██████████| 50/50 [00:00<00:00, 530.03it/s]\n",
      "Evaluating: 100%|██████████| 30/30 [00:00<00:00, 562.85it/s]\n",
      "Training: 100%|██████████| 50/50 [00:00<00:00, 522.81it/s]\n",
      "Evaluating: 100%|██████████| 30/30 [00:00<00:00, 570.67it/s]\n",
      "Training:   0%|          | 0/50 [00:00<?, ?it/s]"
     ]
    },
    {
     "name": "stdout",
     "output_type": "stream",
     "text": [
      "9.433333333333334\n",
      "9.4\n"
     ]
    },
    {
     "name": "stderr",
     "output_type": "stream",
     "text": [
      "Training: 100%|██████████| 50/50 [00:00<00:00, 430.63it/s]\n",
      "Evaluating: 100%|██████████| 30/30 [00:00<00:00, 546.38it/s]\n",
      "Training: 100%|██████████| 50/50 [00:00<00:00, 410.82it/s]\n",
      "Evaluating: 100%|██████████| 30/30 [00:00<00:00, 555.12it/s]\n",
      "Training:   0%|          | 0/50 [00:00<?, ?it/s]"
     ]
    },
    {
     "name": "stdout",
     "output_type": "stream",
     "text": [
      "9.666666666666666\n",
      "9.633333333333333\n"
     ]
    },
    {
     "name": "stderr",
     "output_type": "stream",
     "text": [
      "Training: 100%|██████████| 50/50 [00:00<00:00, 424.42it/s]\n",
      "Evaluating: 100%|██████████| 30/30 [00:00<00:00, 561.82it/s]\n",
      "Training: 100%|██████████| 50/50 [00:00<00:00, 551.73it/s]\n",
      "Evaluating: 100%|██████████| 30/30 [00:00<00:00, 553.82it/s]\n",
      "Training:   0%|          | 0/50 [00:00<?, ?it/s]"
     ]
    },
    {
     "name": "stdout",
     "output_type": "stream",
     "text": [
      "9.466666666666667\n",
      "9.5\n"
     ]
    },
    {
     "name": "stderr",
     "output_type": "stream",
     "text": [
      "Training: 100%|██████████| 50/50 [00:00<00:00, 543.26it/s]\n",
      "Evaluating: 100%|██████████| 30/30 [00:00<00:00, 575.37it/s]\n",
      "Training: 100%|██████████| 50/50 [00:00<00:00, 514.28it/s]\n",
      "Evaluating: 100%|██████████| 30/30 [00:00<00:00, 543.28it/s]\n",
      "Training:   0%|          | 0/50 [00:00<?, ?it/s]"
     ]
    },
    {
     "name": "stdout",
     "output_type": "stream",
     "text": [
      "9.5\n",
      "9.4\n"
     ]
    },
    {
     "name": "stderr",
     "output_type": "stream",
     "text": [
      "Training: 100%|██████████| 50/50 [00:00<00:00, 323.47it/s]\n",
      "Evaluating: 100%|██████████| 30/30 [00:00<00:00, 551.46it/s]\n",
      "Training: 100%|██████████| 50/50 [00:00<00:00, 551.30it/s]\n",
      "Evaluating: 100%|██████████| 30/30 [00:00<00:00, 625.15it/s]\n",
      "Training:   0%|          | 0/50 [00:00<?, ?it/s]"
     ]
    },
    {
     "name": "stdout",
     "output_type": "stream",
     "text": [
      "9.5\n",
      "9.1\n"
     ]
    },
    {
     "name": "stderr",
     "output_type": "stream",
     "text": [
      "Training: 100%|██████████| 50/50 [00:00<00:00, 469.50it/s]\n",
      "Evaluating: 100%|██████████| 30/30 [00:00<00:00, 557.85it/s]\n",
      "Training: 100%|██████████| 50/50 [00:00<00:00, 428.81it/s]\n",
      "Evaluating: 100%|██████████| 30/30 [00:00<00:00, 518.64it/s]\n",
      "Training:   0%|          | 0/50 [00:00<?, ?it/s]"
     ]
    },
    {
     "name": "stdout",
     "output_type": "stream",
     "text": [
      "9.5\n",
      "10.033333333333333\n"
     ]
    },
    {
     "name": "stderr",
     "output_type": "stream",
     "text": [
      "Training: 100%|██████████| 50/50 [00:00<00:00, 412.66it/s]\n",
      "Evaluating: 100%|██████████| 30/30 [00:00<00:00, 474.29it/s]\n",
      "Training: 100%|██████████| 50/50 [00:00<00:00, 452.94it/s]\n",
      "Evaluating: 100%|██████████| 30/30 [00:00<00:00, 549.07it/s]\n",
      "Training:   0%|          | 0/50 [00:00<?, ?it/s]"
     ]
    },
    {
     "name": "stdout",
     "output_type": "stream",
     "text": [
      "9.466666666666667\n",
      "9.533333333333333\n"
     ]
    },
    {
     "name": "stderr",
     "output_type": "stream",
     "text": [
      "Training: 100%|██████████| 50/50 [00:00<00:00, 536.70it/s]\n",
      "Evaluating: 100%|██████████| 30/30 [00:00<00:00, 587.03it/s]\n",
      "Training: 100%|██████████| 50/50 [00:00<00:00, 486.85it/s]\n",
      "Evaluating: 100%|██████████| 30/30 [00:00<00:00, 544.51it/s]\n",
      "Training:   0%|          | 0/50 [00:00<?, ?it/s]"
     ]
    },
    {
     "name": "stdout",
     "output_type": "stream",
     "text": [
      "9.266666666666667\n",
      "9.433333333333334\n"
     ]
    },
    {
     "name": "stderr",
     "output_type": "stream",
     "text": [
      "Training: 100%|██████████| 50/50 [00:00<00:00, 521.90it/s]\n",
      "Evaluating: 100%|██████████| 30/30 [00:00<00:00, 569.51it/s]\n",
      "Training: 100%|██████████| 50/50 [00:00<00:00, 443.30it/s]\n",
      "Evaluating: 100%|██████████| 30/30 [00:00<00:00, 577.93it/s]\n",
      "Training:   0%|          | 0/50 [00:00<?, ?it/s]"
     ]
    },
    {
     "name": "stdout",
     "output_type": "stream",
     "text": [
      "9.366666666666667\n",
      "9.833333333333334\n"
     ]
    },
    {
     "name": "stderr",
     "output_type": "stream",
     "text": [
      "Training: 100%|██████████| 50/50 [00:00<00:00, 534.74it/s]\n",
      "Evaluating: 100%|██████████| 30/30 [00:00<00:00, 537.69it/s]\n",
      "Training: 100%|██████████| 50/50 [00:00<00:00, 506.50it/s]\n",
      "Evaluating: 100%|██████████| 30/30 [00:00<00:00, 487.64it/s]\n",
      "Training:   0%|          | 0/50 [00:00<?, ?it/s]"
     ]
    },
    {
     "name": "stdout",
     "output_type": "stream",
     "text": [
      "9.8\n",
      "9.366666666666667\n"
     ]
    },
    {
     "name": "stderr",
     "output_type": "stream",
     "text": [
      "Training: 100%|██████████| 50/50 [00:00<00:00, 439.04it/s]\n",
      "Evaluating: 100%|██████████| 30/30 [00:00<00:00, 558.72it/s]\n",
      "Training: 100%|██████████| 50/50 [00:00<00:00, 571.95it/s]\n",
      "Evaluating: 100%|██████████| 30/30 [00:00<00:00, 556.40it/s]\n",
      "Training:   0%|          | 0/50 [00:00<?, ?it/s]"
     ]
    },
    {
     "name": "stdout",
     "output_type": "stream",
     "text": [
      "9.433333333333334\n",
      "9.5\n"
     ]
    },
    {
     "name": "stderr",
     "output_type": "stream",
     "text": [
      "Training: 100%|██████████| 50/50 [00:00<00:00, 520.31it/s]\n",
      "Evaluating: 100%|██████████| 30/30 [00:00<00:00, 554.88it/s]\n",
      "Training: 100%|██████████| 50/50 [00:00<00:00, 469.12it/s]\n",
      "Evaluating: 100%|██████████| 30/30 [00:00<00:00, 528.27it/s]\n",
      "Training:   0%|          | 0/50 [00:00<?, ?it/s]"
     ]
    },
    {
     "name": "stdout",
     "output_type": "stream",
     "text": [
      "9.4\n",
      "9.933333333333334\n"
     ]
    },
    {
     "name": "stderr",
     "output_type": "stream",
     "text": [
      "Training: 100%|██████████| 50/50 [00:00<00:00, 433.92it/s]\n",
      "Evaluating: 100%|██████████| 30/30 [00:00<00:00, 561.31it/s]\n",
      "Training: 100%|██████████| 50/50 [00:00<00:00, 511.69it/s]\n",
      "Evaluating: 100%|██████████| 30/30 [00:00<00:00, 550.16it/s]\n",
      "Training:   0%|          | 0/50 [00:00<?, ?it/s]"
     ]
    },
    {
     "name": "stdout",
     "output_type": "stream",
     "text": [
      "9.433333333333334\n",
      "9.466666666666667\n"
     ]
    },
    {
     "name": "stderr",
     "output_type": "stream",
     "text": [
      "Training: 100%|██████████| 50/50 [00:00<00:00, 527.33it/s]\n",
      "Evaluating: 100%|██████████| 30/30 [00:00<00:00, 539.20it/s]\n",
      "Training: 100%|██████████| 50/50 [00:00<00:00, 518.01it/s]\n",
      "Evaluating: 100%|██████████| 30/30 [00:00<00:00, 528.66it/s]\n",
      "Training:   0%|          | 0/50 [00:00<?, ?it/s]"
     ]
    },
    {
     "name": "stdout",
     "output_type": "stream",
     "text": [
      "9.533333333333333\n",
      "9.5\n"
     ]
    },
    {
     "name": "stderr",
     "output_type": "stream",
     "text": [
      "Training: 100%|██████████| 50/50 [00:00<00:00, 502.58it/s]\n",
      "Evaluating: 100%|██████████| 30/30 [00:00<00:00, 586.09it/s]\n",
      "Training: 100%|██████████| 50/50 [00:00<00:00, 520.73it/s]\n",
      "Evaluating: 100%|██████████| 30/30 [00:00<00:00, 568.91it/s]\n",
      "Training:   0%|          | 0/50 [00:00<?, ?it/s]"
     ]
    },
    {
     "name": "stdout",
     "output_type": "stream",
     "text": [
      "9.266666666666667\n",
      "9.133333333333333\n"
     ]
    },
    {
     "name": "stderr",
     "output_type": "stream",
     "text": [
      "Training: 100%|██████████| 50/50 [00:00<00:00, 435.99it/s]\n",
      "Evaluating: 100%|██████████| 30/30 [00:00<00:00, 514.93it/s]\n",
      "Training: 100%|██████████| 50/50 [00:00<00:00, 458.05it/s]\n",
      "Evaluating: 100%|██████████| 30/30 [00:00<00:00, 516.83it/s]\n",
      "Training:   0%|          | 0/50 [00:00<?, ?it/s]"
     ]
    },
    {
     "name": "stdout",
     "output_type": "stream",
     "text": [
      "9.833333333333334\n",
      "9.866666666666667\n"
     ]
    },
    {
     "name": "stderr",
     "output_type": "stream",
     "text": [
      "Training: 100%|██████████| 50/50 [00:00<00:00, 448.41it/s]\n",
      "Evaluating: 100%|██████████| 30/30 [00:00<00:00, 560.51it/s]\n",
      "Training: 100%|██████████| 50/50 [00:00<00:00, 528.15it/s]\n",
      "Evaluating: 100%|██████████| 30/30 [00:00<00:00, 519.91it/s]\n",
      "Training:   0%|          | 0/50 [00:00<?, ?it/s]"
     ]
    },
    {
     "name": "stdout",
     "output_type": "stream",
     "text": [
      "9.4\n",
      "9.4\n"
     ]
    },
    {
     "name": "stderr",
     "output_type": "stream",
     "text": [
      "Training: 100%|██████████| 50/50 [00:00<00:00, 456.83it/s]\n",
      "Evaluating: 100%|██████████| 30/30 [00:00<00:00, 567.09it/s]\n",
      "Training: 100%|██████████| 50/50 [00:00<00:00, 510.85it/s]\n",
      "Evaluating: 100%|██████████| 30/30 [00:00<00:00, 559.23it/s]\n",
      "Training:   0%|          | 0/50 [00:00<?, ?it/s]"
     ]
    },
    {
     "name": "stdout",
     "output_type": "stream",
     "text": [
      "9.2\n",
      "9.3\n"
     ]
    },
    {
     "name": "stderr",
     "output_type": "stream",
     "text": [
      "Training: 100%|██████████| 50/50 [00:00<00:00, 531.30it/s]\n",
      "Evaluating: 100%|██████████| 30/30 [00:00<00:00, 550.98it/s]\n",
      "Training: 100%|██████████| 50/50 [00:00<00:00, 467.50it/s]\n",
      "Evaluating: 100%|██████████| 30/30 [00:00<00:00, 537.86it/s]\n",
      "Training:   0%|          | 0/50 [00:00<?, ?it/s]"
     ]
    },
    {
     "name": "stdout",
     "output_type": "stream",
     "text": [
      "9.4\n",
      "9.233333333333333\n"
     ]
    },
    {
     "name": "stderr",
     "output_type": "stream",
     "text": [
      "Training: 100%|██████████| 50/50 [00:00<00:00, 527.96it/s]\n",
      "Evaluating: 100%|██████████| 30/30 [00:00<00:00, 566.48it/s]\n",
      "Training: 100%|██████████| 50/50 [00:00<00:00, 493.19it/s]\n",
      "Evaluating: 100%|██████████| 30/30 [00:00<00:00, 554.39it/s]\n",
      "Training:   0%|          | 0/50 [00:00<?, ?it/s]"
     ]
    },
    {
     "name": "stdout",
     "output_type": "stream",
     "text": [
      "9.366666666666667\n",
      "9.4\n"
     ]
    },
    {
     "name": "stderr",
     "output_type": "stream",
     "text": [
      "Training: 100%|██████████| 50/50 [00:00<00:00, 391.25it/s]\n",
      "Evaluating: 100%|██████████| 30/30 [00:00<00:00, 426.54it/s]\n",
      "Training: 100%|██████████| 50/50 [00:00<00:00, 380.21it/s]\n",
      "Evaluating:   0%|          | 0/30 [00:00<?, ?it/s]"
     ]
    },
    {
     "name": "stdout",
     "output_type": "stream",
     "text": [
      "9.5\n"
     ]
    },
    {
     "name": "stderr",
     "output_type": "stream",
     "text": [
      "Evaluating: 100%|██████████| 30/30 [00:00<00:00, 434.13it/s]\n",
      "Training: 100%|██████████| 50/50 [00:00<00:00, 348.37it/s]\n",
      "Evaluating:   0%|          | 0/30 [00:00<?, ?it/s]"
     ]
    },
    {
     "name": "stdout",
     "output_type": "stream",
     "text": [
      "9.6\n"
     ]
    },
    {
     "name": "stderr",
     "output_type": "stream",
     "text": [
      "Evaluating: 100%|██████████| 30/30 [00:00<00:00, 422.53it/s]\n",
      "Training: 100%|██████████| 50/50 [00:00<00:00, 455.13it/s]\n",
      "Evaluating: 100%|██████████| 30/30 [00:00<00:00, 541.70it/s]\n",
      "Training:   0%|          | 0/50 [00:00<?, ?it/s]"
     ]
    },
    {
     "name": "stdout",
     "output_type": "stream",
     "text": [
      "9.7\n",
      "9.6\n"
     ]
    },
    {
     "name": "stderr",
     "output_type": "stream",
     "text": [
      "Training: 100%|██████████| 50/50 [00:00<00:00, 517.88it/s]\n",
      "Evaluating: 100%|██████████| 30/30 [00:00<00:00, 565.62it/s]\n",
      "Training: 100%|██████████| 50/50 [00:00<00:00, 349.49it/s]\n",
      "Evaluating:   0%|          | 0/30 [00:00<?, ?it/s]"
     ]
    },
    {
     "name": "stdout",
     "output_type": "stream",
     "text": [
      "9.466666666666667\n"
     ]
    },
    {
     "name": "stderr",
     "output_type": "stream",
     "text": [
      "Evaluating: 100%|██████████| 30/30 [00:00<00:00, 413.50it/s]\n",
      "Training: 100%|██████████| 50/50 [00:00<00:00, 322.22it/s]\n",
      "Evaluating:   0%|          | 0/30 [00:00<?, ?it/s]"
     ]
    },
    {
     "name": "stdout",
     "output_type": "stream",
     "text": [
      "9.6\n"
     ]
    },
    {
     "name": "stderr",
     "output_type": "stream",
     "text": [
      "Evaluating: 100%|██████████| 30/30 [00:00<00:00, 398.59it/s]\n",
      "Training: 100%|██████████| 50/50 [00:00<00:00, 370.63it/s]\n",
      "Evaluating:   0%|          | 0/30 [00:00<?, ?it/s]"
     ]
    },
    {
     "name": "stdout",
     "output_type": "stream",
     "text": [
      "9.666666666666666\n"
     ]
    },
    {
     "name": "stderr",
     "output_type": "stream",
     "text": [
      "Evaluating: 100%|██████████| 30/30 [00:00<00:00, 440.45it/s]\n",
      "Training: 100%|██████████| 50/50 [00:00<00:00, 367.86it/s]\n",
      "Evaluating:   0%|          | 0/30 [00:00<?, ?it/s]"
     ]
    },
    {
     "name": "stdout",
     "output_type": "stream",
     "text": [
      "9.466666666666667\n"
     ]
    },
    {
     "name": "stderr",
     "output_type": "stream",
     "text": [
      "Evaluating: 100%|██████████| 30/30 [00:00<00:00, 437.73it/s]\n",
      "Training: 100%|██████████| 50/50 [00:00<00:00, 370.75it/s]\n",
      "Evaluating:   0%|          | 0/30 [00:00<?, ?it/s]"
     ]
    },
    {
     "name": "stdout",
     "output_type": "stream",
     "text": [
      "9.533333333333333\n"
     ]
    },
    {
     "name": "stderr",
     "output_type": "stream",
     "text": [
      "Evaluating: 100%|██████████| 30/30 [00:00<00:00, 429.29it/s]\n",
      "Training: 100%|██████████| 50/50 [00:00<00:00, 426.33it/s]\n",
      "Evaluating: 100%|██████████| 30/30 [00:00<00:00, 428.32it/s]\n",
      "Training:   0%|          | 0/50 [00:00<?, ?it/s]"
     ]
    },
    {
     "name": "stdout",
     "output_type": "stream",
     "text": [
      "9.333333333333334\n",
      "9.533333333333333\n"
     ]
    },
    {
     "name": "stderr",
     "output_type": "stream",
     "text": [
      "Training: 100%|██████████| 50/50 [00:00<00:00, 410.17it/s]\n",
      "Evaluating: 100%|██████████| 30/30 [00:00<00:00, 477.32it/s]\n",
      "Training: 100%|██████████| 50/50 [00:00<00:00, 299.45it/s]\n",
      "Evaluating:   0%|          | 0/30 [00:00<?, ?it/s]"
     ]
    },
    {
     "name": "stdout",
     "output_type": "stream",
     "text": [
      "9.366666666666667\n"
     ]
    },
    {
     "name": "stderr",
     "output_type": "stream",
     "text": [
      "Evaluating: 100%|██████████| 30/30 [00:00<00:00, 372.03it/s]\n",
      "Training: 100%|██████████| 50/50 [00:00<00:00, 367.24it/s]\n",
      "Evaluating:   0%|          | 0/30 [00:00<?, ?it/s]"
     ]
    },
    {
     "name": "stdout",
     "output_type": "stream",
     "text": [
      "9.733333333333333\n"
     ]
    },
    {
     "name": "stderr",
     "output_type": "stream",
     "text": [
      "Evaluating: 100%|██████████| 30/30 [00:00<00:00, 411.54it/s]\n",
      "Training: 100%|██████████| 50/50 [00:00<00:00, 370.90it/s]\n",
      "Evaluating:   0%|          | 0/30 [00:00<?, ?it/s]"
     ]
    },
    {
     "name": "stdout",
     "output_type": "stream",
     "text": [
      "9.866666666666667\n"
     ]
    },
    {
     "name": "stderr",
     "output_type": "stream",
     "text": [
      "Evaluating: 100%|██████████| 30/30 [00:00<00:00, 477.63it/s]\n",
      "Training: 100%|██████████| 50/50 [00:00<00:00, 364.20it/s]\n",
      "Evaluating: 100%|██████████| 30/30 [00:00<00:00, 565.08it/s]\n",
      "Training:   0%|          | 0/50 [00:00<?, ?it/s]"
     ]
    },
    {
     "name": "stdout",
     "output_type": "stream",
     "text": [
      "9.633333333333333\n",
      "9.333333333333334\n"
     ]
    },
    {
     "name": "stderr",
     "output_type": "stream",
     "text": [
      "Training: 100%|██████████| 50/50 [00:00<00:00, 484.82it/s]\n",
      "Evaluating: 100%|██████████| 30/30 [00:00<00:00, 532.47it/s]\n",
      "Training: 100%|██████████| 50/50 [00:00<00:00, 443.52it/s]\n",
      "Evaluating: 100%|██████████| 30/30 [00:00<00:00, 428.25it/s]\n",
      "Training:   0%|          | 0/50 [00:00<?, ?it/s]"
     ]
    },
    {
     "name": "stdout",
     "output_type": "stream",
     "text": [
      "9.8\n",
      "9.6\n"
     ]
    },
    {
     "name": "stderr",
     "output_type": "stream",
     "text": [
      "Training: 100%|██████████| 50/50 [00:00<00:00, 494.97it/s]\n",
      "Evaluating: 100%|██████████| 30/30 [00:00<00:00, 623.39it/s]\n",
      "Training: 100%|██████████| 50/50 [00:00<00:00, 465.29it/s]\n",
      "Evaluating: 100%|██████████| 30/30 [00:00<00:00, 566.49it/s]\n",
      "Training:   0%|          | 0/50 [00:00<?, ?it/s]"
     ]
    },
    {
     "name": "stdout",
     "output_type": "stream",
     "text": [
      "9.633333333333333\n",
      "9.5\n"
     ]
    },
    {
     "name": "stderr",
     "output_type": "stream",
     "text": [
      "Training: 100%|██████████| 50/50 [00:00<00:00, 356.01it/s]\n",
      "Evaluating: 100%|██████████| 30/30 [00:00<00:00, 503.41it/s]\n",
      "Training: 100%|██████████| 50/50 [00:00<00:00, 366.12it/s]\n",
      "Evaluating:   0%|          | 0/30 [00:00<?, ?it/s]"
     ]
    },
    {
     "name": "stdout",
     "output_type": "stream",
     "text": [
      "9.766666666666667\n"
     ]
    },
    {
     "name": "stderr",
     "output_type": "stream",
     "text": [
      "Evaluating: 100%|██████████| 30/30 [00:00<00:00, 411.17it/s]\n",
      "Training: 100%|██████████| 50/50 [00:00<00:00, 527.56it/s]\n",
      "Evaluating: 100%|██████████| 30/30 [00:00<00:00, 545.56it/s]\n",
      "Training:   0%|          | 0/50 [00:00<?, ?it/s]"
     ]
    },
    {
     "name": "stdout",
     "output_type": "stream",
     "text": [
      "9.466666666666667\n",
      "9.633333333333333\n"
     ]
    },
    {
     "name": "stderr",
     "output_type": "stream",
     "text": [
      "Training: 100%|██████████| 50/50 [00:00<00:00, 465.26it/s]\n",
      "Evaluating: 100%|██████████| 30/30 [00:00<00:00, 558.85it/s]\n",
      "Training: 100%|██████████| 50/50 [00:00<00:00, 438.80it/s]\n",
      "Evaluating: 100%|██████████| 30/30 [00:00<00:00, 539.23it/s]\n",
      "Training:   0%|          | 0/50 [00:00<?, ?it/s]"
     ]
    },
    {
     "name": "stdout",
     "output_type": "stream",
     "text": [
      "9.466666666666667\n",
      "9.766666666666667\n"
     ]
    },
    {
     "name": "stderr",
     "output_type": "stream",
     "text": [
      "Training: 100%|██████████| 50/50 [00:00<00:00, 326.41it/s]\n",
      "Evaluating: 100%|██████████| 30/30 [00:00<00:00, 438.48it/s]\n",
      "Training: 100%|██████████| 50/50 [00:00<00:00, 343.30it/s]\n",
      "Evaluating:   0%|          | 0/30 [00:00<?, ?it/s]"
     ]
    },
    {
     "name": "stdout",
     "output_type": "stream",
     "text": [
      "9.666666666666666\n"
     ]
    },
    {
     "name": "stderr",
     "output_type": "stream",
     "text": [
      "Evaluating: 100%|██████████| 30/30 [00:00<00:00, 428.29it/s]\n",
      "Training: 100%|██████████| 50/50 [00:00<00:00, 362.90it/s]\n",
      "Evaluating:   0%|          | 0/30 [00:00<?, ?it/s]"
     ]
    },
    {
     "name": "stdout",
     "output_type": "stream",
     "text": [
      "9.533333333333333\n"
     ]
    },
    {
     "name": "stderr",
     "output_type": "stream",
     "text": [
      "Evaluating: 100%|██████████| 30/30 [00:00<00:00, 429.43it/s]\n",
      "Training: 100%|██████████| 50/50 [00:00<00:00, 359.42it/s]\n",
      "Evaluating:   0%|          | 0/30 [00:00<?, ?it/s]"
     ]
    },
    {
     "name": "stdout",
     "output_type": "stream",
     "text": [
      "9.566666666666666\n"
     ]
    },
    {
     "name": "stderr",
     "output_type": "stream",
     "text": [
      "Evaluating: 100%|██████████| 30/30 [00:00<00:00, 412.96it/s]\n",
      "Training: 100%|██████████| 50/50 [00:00<00:00, 381.01it/s]\n",
      "Evaluating:   0%|          | 0/30 [00:00<?, ?it/s]"
     ]
    },
    {
     "name": "stdout",
     "output_type": "stream",
     "text": [
      "9.833333333333334\n"
     ]
    },
    {
     "name": "stderr",
     "output_type": "stream",
     "text": [
      "Evaluating: 100%|██████████| 30/30 [00:00<00:00, 444.44it/s]\n",
      "Training: 100%|██████████| 50/50 [00:00<00:00, 431.51it/s]\n",
      "Evaluating: 100%|██████████| 30/30 [00:00<00:00, 450.28it/s]\n",
      "Training:   0%|          | 0/50 [00:00<?, ?it/s]"
     ]
    },
    {
     "name": "stdout",
     "output_type": "stream",
     "text": [
      "9.466666666666667\n",
      "9.4\n"
     ]
    },
    {
     "name": "stderr",
     "output_type": "stream",
     "text": [
      "Training: 100%|██████████| 50/50 [00:00<00:00, 380.63it/s]\n",
      "Evaluating: 100%|██████████| 30/30 [00:00<00:00, 564.71it/s]\n",
      "Training: 100%|██████████| 50/50 [00:00<00:00, 341.71it/s]\n",
      "Evaluating:   0%|          | 0/30 [00:00<?, ?it/s]"
     ]
    },
    {
     "name": "stdout",
     "output_type": "stream",
     "text": [
      "9.666666666666666\n"
     ]
    },
    {
     "name": "stderr",
     "output_type": "stream",
     "text": [
      "Evaluating: 100%|██████████| 30/30 [00:00<00:00, 426.38it/s]\n",
      "Training: 100%|██████████| 50/50 [00:00<00:00, 385.12it/s]\n",
      "Evaluating:   0%|          | 0/30 [00:00<?, ?it/s]"
     ]
    },
    {
     "name": "stdout",
     "output_type": "stream",
     "text": [
      "9.7\n"
     ]
    },
    {
     "name": "stderr",
     "output_type": "stream",
     "text": [
      "Evaluating: 100%|██████████| 30/30 [00:00<00:00, 433.29it/s]\n",
      "Training: 100%|██████████| 50/50 [00:00<00:00, 434.71it/s]\n",
      "Evaluating: 100%|██████████| 30/30 [00:00<00:00, 455.22it/s]\n",
      "Training:   0%|          | 0/50 [00:00<?, ?it/s]"
     ]
    },
    {
     "name": "stdout",
     "output_type": "stream",
     "text": [
      "9.4\n",
      "9.3\n"
     ]
    },
    {
     "name": "stderr",
     "output_type": "stream",
     "text": [
      "Training: 100%|██████████| 50/50 [00:00<00:00, 411.53it/s]\n",
      "Evaluating: 100%|██████████| 30/30 [00:00<00:00, 447.62it/s]\n",
      "Training: 100%|██████████| 50/50 [00:00<00:00, 408.59it/s]\n",
      "Evaluating: 100%|██████████| 30/30 [00:00<00:00, 443.00it/s]\n",
      "Training:   0%|          | 0/50 [00:00<?, ?it/s]"
     ]
    },
    {
     "name": "stdout",
     "output_type": "stream",
     "text": [
      "9.2\n",
      "9.366666666666667\n"
     ]
    },
    {
     "name": "stderr",
     "output_type": "stream",
     "text": [
      "Training: 100%|██████████| 50/50 [00:00<00:00, 408.47it/s]\n",
      "Evaluating: 100%|██████████| 30/30 [00:00<00:00, 438.27it/s]\n",
      "Training: 100%|██████████| 50/50 [00:00<00:00, 412.11it/s]\n",
      "Evaluating: 100%|██████████| 30/30 [00:00<00:00, 448.64it/s]\n",
      "Training:   0%|          | 0/50 [00:00<?, ?it/s]"
     ]
    },
    {
     "name": "stdout",
     "output_type": "stream",
     "text": [
      "9.433333333333334\n",
      "9.333333333333334\n"
     ]
    },
    {
     "name": "stderr",
     "output_type": "stream",
     "text": [
      "Training: 100%|██████████| 50/50 [00:00<00:00, 500.49it/s]\n",
      "Evaluating: 100%|██████████| 30/30 [00:00<00:00, 523.39it/s]\n",
      "Training: 100%|██████████| 50/50 [00:00<00:00, 421.42it/s]\n",
      "Evaluating: 100%|██████████| 30/30 [00:00<00:00, 437.69it/s]\n",
      "Training:   0%|          | 0/50 [00:00<?, ?it/s]"
     ]
    },
    {
     "name": "stdout",
     "output_type": "stream",
     "text": [
      "9.3\n",
      "9.333333333333334\n"
     ]
    },
    {
     "name": "stderr",
     "output_type": "stream",
     "text": [
      "Training: 100%|██████████| 50/50 [00:00<00:00, 354.50it/s]\n",
      "Evaluating: 100%|██████████| 30/30 [00:00<00:00, 439.03it/s]\n",
      "Training: 100%|██████████| 50/50 [00:00<00:00, 433.97it/s]\n",
      "Evaluating: 100%|██████████| 30/30 [00:00<00:00, 641.97it/s]\n",
      "Training:   0%|          | 0/50 [00:00<?, ?it/s]"
     ]
    },
    {
     "name": "stdout",
     "output_type": "stream",
     "text": [
      "9.4\n",
      "9.466666666666667\n"
     ]
    },
    {
     "name": "stderr",
     "output_type": "stream",
     "text": [
      "Training: 100%|██████████| 50/50 [00:00<00:00, 555.90it/s]\n",
      "Evaluating: 100%|██████████| 30/30 [00:00<00:00, 541.19it/s]\n",
      "Training: 100%|██████████| 50/50 [00:00<00:00, 342.03it/s]\n",
      "Evaluating:   0%|          | 0/30 [00:00<?, ?it/s]"
     ]
    },
    {
     "name": "stdout",
     "output_type": "stream",
     "text": [
      "9.566666666666666\n"
     ]
    },
    {
     "name": "stderr",
     "output_type": "stream",
     "text": [
      "Evaluating: 100%|██████████| 30/30 [00:00<00:00, 418.19it/s]\n",
      "Training: 100%|██████████| 50/50 [00:00<00:00, 329.23it/s]\n",
      "Evaluating:   0%|          | 0/30 [00:00<?, ?it/s]"
     ]
    },
    {
     "name": "stdout",
     "output_type": "stream",
     "text": [
      "9.8\n"
     ]
    },
    {
     "name": "stderr",
     "output_type": "stream",
     "text": [
      "Evaluating: 100%|██████████| 30/30 [00:00<00:00, 525.18it/s]\n",
      "Training: 100%|██████████| 50/50 [00:00<00:00, 502.90it/s]\n",
      "Evaluating: 100%|██████████| 30/30 [00:00<00:00, 510.89it/s]\n",
      "Training:   0%|          | 0/50 [00:00<?, ?it/s]"
     ]
    },
    {
     "name": "stdout",
     "output_type": "stream",
     "text": [
      "9.7\n",
      "9.766666666666667\n"
     ]
    },
    {
     "name": "stderr",
     "output_type": "stream",
     "text": [
      "Training: 100%|██████████| 50/50 [00:00<00:00, 429.74it/s]\n",
      "Evaluating: 100%|██████████| 30/30 [00:00<00:00, 561.24it/s]\n",
      "Training: 100%|██████████| 50/50 [00:00<00:00, 530.81it/s]\n",
      "Evaluating: 100%|██████████| 30/30 [00:00<00:00, 489.67it/s]\n",
      "Training:   0%|          | 0/50 [00:00<?, ?it/s]"
     ]
    },
    {
     "name": "stdout",
     "output_type": "stream",
     "text": [
      "9.4\n",
      "9.5\n"
     ]
    },
    {
     "name": "stderr",
     "output_type": "stream",
     "text": [
      "Training: 100%|██████████| 50/50 [00:00<00:00, 279.20it/s]\n",
      "Evaluating: 100%|██████████| 30/30 [00:00<00:00, 558.11it/s]\n",
      "Training: 100%|██████████| 50/50 [00:00<00:00, 425.11it/s]\n",
      "Evaluating: 100%|██████████| 30/30 [00:00<00:00, 584.01it/s]\n",
      "Training:   0%|          | 0/50 [00:00<?, ?it/s]"
     ]
    },
    {
     "name": "stdout",
     "output_type": "stream",
     "text": [
      "9.466666666666667\n",
      "9.166666666666666\n"
     ]
    },
    {
     "name": "stderr",
     "output_type": "stream",
     "text": [
      "Training: 100%|██████████| 50/50 [00:00<00:00, 496.88it/s]\n",
      "Evaluating: 100%|██████████| 30/30 [00:00<00:00, 548.29it/s]"
     ]
    },
    {
     "name": "stdout",
     "output_type": "stream",
     "text": [
      "9.466666666666667\n",
      "\n",
      "Learning Performance:\n",
      "\n"
     ]
    },
    {
     "name": "stderr",
     "output_type": "stream",
     "text": [
      "\n"
     ]
    },
    {
     "data": {
      "text/plain": [
       "<Figure size 432x288 with 0 Axes>"
      ]
     },
     "metadata": {},
     "output_type": "display_data"
    },
    {
     "data": {
      "image/png": "[encoded data removed]",
      "text/plain": [
       "<Figure size 432x288 with 1 Axes>"
      ]
     },
     "metadata": {},
     "output_type": "display_data"
    }
   ],
   "source": [
    "training_episodes, test_interval = 10000, 50\n",
    "agent = DQN_agent(env_CartPole, hyperparams_CartPole)\n",
    "result = agent.learn_and_evaluate(training_episodes, test_interval)\n",
    "plot_result(result, test_interval, [\"batch_update with target_model\"])"
   ]
  },
  {
   "cell_type": "markdown",
   "metadata": {},
   "source": [
    "***\n",
    "# Part 2: Distributed DQN\n",
    "***\n",
    "\n",
    "Here you will implement a distributed version of the above DQN approach. The distribution approach can be the same as that used for the table-based distribution Q-learning algorithm from homework 3."
   ]
  },
  {
   "cell_type": "markdown",
   "metadata": {},
   "source": [
    "## init Ray"
   ]
  },
  {
   "cell_type": "code",
   "execution_count": null,
   "metadata": {},
   "outputs": [],
   "source": [
    "ray.shutdown()\n",
    "ray.init(include_webui=False, ignore_reinit_error=True, redis_max_memory=500000000, object_store_memory=5000000000)"
   ]
  },
  {
   "cell_type": "markdown",
   "metadata": {},
   "source": [
    "## Distributed DQN agent\n",
    "The idea is to speedup learning by creating actors to collect data and a model_server to update the neural network model.\n",
    "- Collector: There is a simulator inside each collector. Their job is to collect exprience from the simulator, and send them to the memory server. They follow the explore_or_exploit policy, getting greedy action from model server. Also, call update function of model server to update the model.  \n",
    "- Evaluator: There is a simulator inside the evaluator. It is called by the the Model Server, taking eval_model from it, and test its performance.\n",
    "- Model Server: Stores the evalation and target networks. It Takes experiences from Memory Server and updates the Q-network, also replacing target Q-network periodically. It also interfaces to the evaluator periodically. \n",
    "- Memory Server: It is used to store/sample experience relays.\n",
    "\n",
    "An image of this architecture is below. \n",
    "\n",
    "For this part, you should use our custom_cartpole as your enviroment. This version of cartpole is slower, which allows for the benefits of distributed experience collection to be observed. In particular, the time to generate an experience tuple needs to be non-trivial compared to the time needed to do a neural network model update. \n",
    "\n",
    "<span style=\"color:green\">It is better to run the distributed DQN agent in exclusive node, not in Jupyter notebook</span>\n",
    "```\n",
    "Store all of your distrited DQN code into a python file.\n",
    "ssh colfax (get access to the Devcloud on terminal)\n",
    "qsub -I -lselect=1\n",
    "python3 distributed_dqn.py\n",
    "```\n",
    "\n",
    "<img src=\"distributed DQN.png\">\n",
    "\n",
    "For this part of the homework you need to submit your code for distributed DQN and run experiments that vary the number of workers involved. Produce some learning curves and timing results and discuss your observations. "
   ]
  },
  {
   "cell_type": "code",
   "execution_count": null,
   "metadata": {},
   "outputs": [],
   "source": [
    "from memory_remote import ReplayBuffer_remote\n",
    "from dqn_model import _DQNModel\n",
    "import torch\n",
    "from custom_cartpole import CartPoleEnv"
   ]
  },
  {
   "cell_type": "code",
   "execution_count": null,
   "metadata": {},
   "outputs": [],
   "source": [
    "# Set the Env name and action space for CartPole\n",
    "ENV_NAME = 'CartPole_distributed'\n",
    "\n",
    "# Set result saveing floder\n",
    "result_floder = ENV_NAME + \"_distributed\"\n",
    "result_file = ENV_NAME + \"/results.txt\"\n",
    "if not os.path.isdir(result_floder):\n",
    "    os.mkdir(result_floder)\n",
    "torch.set_num_threads(12)"
   ]
  },
  {
   "cell_type": "code",
   "execution_count": 14,
   "metadata": {},
   "outputs": [
    {
     "name": "stdout",
     "output_type": "stream",
     "text": [
      "tensor(0, dtype=torch.uint8)\n"
     ]
    }
   ],
   "source": [
    "print(1.0 == FloatTensor(1)[0])"
   ]
  },
  {
   "cell_type": "code",
   "execution_count": 20,
   "metadata": {},
   "outputs": [],
   "source": [
    "a =[True,False]"
   ]
  },
  {
   "cell_type": "code",
   "execution_count": 21,
   "metadata": {},
   "outputs": [
    {
     "name": "stdout",
     "output_type": "stream",
     "text": [
      "True\n"
     ]
    }
   ],
   "source": [
    "if 1==a[0]:\n",
    "    print(True)"
   ]
  },
  {
   "cell_type": "code",
   "execution_count": null,
   "metadata": {},
   "outputs": [],
   "source": []
  }
 ],
 "metadata": {
  "kernelspec": {
   "display_name": "Python 3 (Intel, 2019 update 2)",
   "language": "python",
   "name": "c009-intel_distribution_of_python_3_2019u2"
  },
  "language_info": {
   "codemirror_mode": {
    "name": "ipython",
    "version": 3
   },
   "file_extension": ".py",
   "mimetype": "text/x-python",
   "name": "python",
   "nbconvert_exporter": "python",
   "pygments_lexer": "ipython3",
   "version": "3.6.8"
  }
 },
 "nbformat": 4,
 "nbformat_minor": 2
}
